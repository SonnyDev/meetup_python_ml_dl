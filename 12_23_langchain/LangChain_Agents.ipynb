{
  "cells": [
    {
      "cell_type": "markdown",
      "metadata": {
        "id": "view-in-github",
        "colab_type": "text"
      },
      "source": [
        "<a href=\"https://colab.research.google.com/github/SonnyDev/llm-apps-langchain/blob/main/LangChain_Agents.ipynb\" target=\"_parent\"><img src=\"https://colab.research.google.com/assets/colab-badge.svg\" alt=\"Open In Colab\"/></a>"
      ]
    },
    {
      "cell_type": "markdown",
      "id": "de76ec1c",
      "metadata": {
        "id": "de76ec1c"
      },
      "source": [
        "Nous devrions considérer le LLM comme un moteur de raisonnement, dans lequel nous pouvons lui fournir des morceaux de texte ou d'autres sources d'information, et ensuite le LLM utilisera peut-être ces connaissances de fond qu'il a apprises sur Internet, mais pour utiliser les nouvelles informations que nous lui donnons pour nous aider à répondre à des questions, à réfléchir sur le contenu ou même à décider de la marche à suivre. Et c'est ce que le cadre des Agents de LangChain nous aide à faire."
      ]
    },
    {
      "cell_type": "markdown",
      "id": "7fb9f040",
      "metadata": {
        "id": "7fb9f040"
      },
      "source": [
        "Les agents sont l'une des parties les plus puissantes de LangChain. Ils font également partie des éléments les plus récents, donc beaucoup de choses émergent : ce que sont les agents, comment les créer et les utiliser, comment les équiper avec différents types d'outils comme les moteurs de recherche intégrés à LangChain, et également comment créer nos propres outils, afin que nous puissions permettre aux agents d'interagir avec n'importe quelles bases de données, n'importe quelles API, n'importe quelles fonctions que nous pourrions vouloir qu'ils utilisent."
      ]
    },
    {
      "cell_type": "code",
      "execution_count": null,
      "id": "88b2592a",
      "metadata": {
        "id": "88b2592a"
      },
      "outputs": [],
      "source": [
        "#from langchain.agents.agent_toolkits import create_python_agent\n",
        "from langchain.agents import load_tools, initialize_agent\n",
        "from langchain.agents import AgentType\n",
        "#from langchain.tools.python.tool import PythonREPLTool\n",
        "from langchain.python import PythonREPL\n",
        "from langchain.chat_models import ChatOpenAI"
      ]
    },
    {
      "cell_type": "code",
      "execution_count": null,
      "id": "2d03790b",
      "metadata": {
        "id": "2d03790b"
      },
      "outputs": [],
      "source": [
        "import os\n",
        "import openai\n",
        "\n",
        "from dotenv import load_dotenv, find_dotenv\n",
        "_ = load_dotenv(find_dotenv()) # read local .env file\n",
        "openai.api_key = os.environ['OPENAI_API_KEY']"
      ]
    },
    {
      "cell_type": "markdown",
      "id": "2c3b26fe",
      "metadata": {
        "id": "2c3b26fe"
      },
      "source": [
        "Nous voulons utiliser le LLM comme un moteur de raisonnement de l'agent, où il se connecte à d'autres sources telles que des données et des calculs. Nous souhaitons que ce moteur de raisonnement soit aussi bon et précis que possible. C'est pourquoi nous réglons la température à 0."
      ]
    },
    {
      "cell_type": "code",
      "execution_count": null,
      "id": "f74915ac",
      "metadata": {
        "id": "f74915ac"
      },
      "outputs": [],
      "source": [
        "llm = ChatOpenAI(temperature=0, openai_api_key=os.environ[\"OPENAI_API_KEY\"])"
      ]
    },
    {
      "cell_type": "markdown",
      "id": "7d7794be",
      "metadata": {
        "id": "7d7794be"
      },
      "source": [
        "Ensuite, nous chargeons quelques outils :\n",
        "\n",
        "- L'outil llm-math, qui est une chaîne utilisant un LLM en conjonction avec une calculatrice pour résoudre des problèmes mathématiques.\n",
        "- L'outil Wikipedia, qui est une API se connectant à Wikipedia, nous permettant d'effectuer des recherches sur Wikipedia et d'obtenir des résultats."
      ]
    },
    {
      "cell_type": "code",
      "execution_count": null,
      "id": "a320cb43",
      "metadata": {
        "id": "a320cb43",
        "outputId": "967795ff-1847-49cc-9bd8-97fe215ca4d9"
      },
      "outputs": [
        {
          "name": "stdout",
          "output_type": "stream",
          "text": [
            "Requirement already satisfied: numexpr in c:\\users\\sonny\\anaconda3\\lib\\site-packages (2.8.4)\n",
            "Requirement already satisfied: numpy>=1.13.3 in c:\\users\\sonny\\anaconda3\\lib\\site-packages (from numexpr) (1.24.3)\n"
          ]
        },
        {
          "name": "stderr",
          "output_type": "stream",
          "text": [
            "\n",
            "[notice] A new release of pip is available: 23.3.1 -> 23.3.2\n",
            "[notice] To update, run: python.exe -m pip install --upgrade pip\n"
          ]
        }
      ],
      "source": [
        "!pip install numexpr #llm-math nécessite ce package\n",
        "!pip install wikipedia"
      ]
    },
    {
      "cell_type": "code",
      "execution_count": null,
      "id": "dbff1772",
      "metadata": {
        "id": "dbff1772"
      },
      "outputs": [],
      "source": [
        "tools = load_tools(['llm-math', 'wikipedia'], llm = llm)"
      ]
    },
    {
      "cell_type": "markdown",
      "id": "a968cddd",
      "metadata": {
        "id": "a968cddd"
      },
      "source": [
        "Ensuite, nous initialisons l'agent.\n",
        "\n",
        "Description de CHAT_ZERO_SHOT_REACT :\n",
        "- CHAT : un agent optimisé pour les modèles de chat.\n",
        "- REACT : une technique de prompting conçue pour obtenir la meilleure performance de raisonnement possible de la part du LLM.\n",
        "- Gestion des erreurs de parsing : si la sortie n'est pas dans le format souhaité, nous renvoyons la sortie au LLM et lui demandons de se corriger."
      ]
    },
    {
      "cell_type": "code",
      "execution_count": null,
      "id": "1ce09173",
      "metadata": {
        "id": "1ce09173"
      },
      "outputs": [],
      "source": [
        "agent = initialize_agent(\n",
        "        tools,\n",
        "        llm,\n",
        "        agent = AgentType.CHAT_ZERO_SHOT_REACT_DESCRIPTION,\n",
        "        handle_parsing_errors = True,\n",
        "        verbose = True)"
      ]
    },
    {
      "cell_type": "code",
      "execution_count": null,
      "id": "7e755ff8",
      "metadata": {
        "id": "7e755ff8",
        "outputId": "d21e20f6-de26-433c-bf4c-45d259ec1cd6"
      },
      "outputs": [
        {
          "name": "stdout",
          "output_type": "stream",
          "text": [
            "\n",
            "\n",
            "\u001b[1m> Entering new AgentExecutor chain...\u001b[0m\n",
            "\u001b[32;1m\u001b[1;3mJe vais utiliser la calculatrice pour répondre à cette question.\n",
            "\n",
            "Thought: La question demande la somme de 10 et 10.\n",
            "Action:\n",
            "```\n",
            "{\n",
            "  \"action\": \"Calculator\",\n",
            "  \"action_input\": \"10+10\"\n",
            "}\n",
            "```\n",
            "\u001b[0m\n",
            "Observation: \u001b[36;1m\u001b[1;3mAnswer: 20\u001b[0m\n",
            "Thought:\u001b[32;1m\u001b[1;3mLa réponse est 20.\n",
            "Final Answer: 20\u001b[0m\n",
            "\n",
            "\u001b[1m> Finished chain.\u001b[0m\n"
          ]
        },
        {
          "data": {
            "text/plain": [
              "{'input': 'Combien vaut 10+10', 'output': '20'}"
            ]
          },
          "execution_count": 30,
          "metadata": {},
          "output_type": "execute_result"
        }
      ],
      "source": [
        "agent(\"Combien vaut 10+10\")"
      ]
    },
    {
      "cell_type": "code",
      "execution_count": null,
      "id": "6d1361ea",
      "metadata": {
        "scrolled": true,
        "id": "6d1361ea",
        "outputId": "0a5e9cf6-401c-4c33-e48a-96d3954cb013"
      },
      "outputs": [
        {
          "name": "stdout",
          "output_type": "stream",
          "text": [
            "\n",
            "\n",
            "\u001b[1m> Entering new AgentExecutor chain...\u001b[0m\n",
            "\u001b[32;1m\u001b[1;3mThought: I need to find out which country won the Rugby World Cup in 2023.\n",
            "Action:\n",
            "```json\n",
            "{\n",
            "  \"action\": \"Wikipedia\",\n",
            "  \"action_input\": \"Rugby World Cup 2023\"\n",
            "}\n",
            "```\u001b[0m\n",
            "Observation: \u001b[33;1m\u001b[1;3mPage: 2023 Rugby World Cup\n",
            "Summary: The 2023 Rugby World Cup (French: Coupe du monde de rugby 2023) was the  tenth men's Rugby World Cup, the quadrennial world championship for national rugby union teams. It took place in France from 8 September to 28 October 2023 in nine venues across the country. The opening game and final took place at the Stade de France, north of Paris. The tournament was held in the bicentenary year of the purported invention of the sport by William Webb Ellis.The tournament was scheduled to last six weeks, but in February 2021 World Rugby added a week to provide additional rest days for player welfare. This meant that teams had a minimum of five days' rest for all matches. It was the fourth time France has hosted the Rugby World Cup, having previously done so in 2007 and co-hosted the 1991 Rugby World Cup and 1999 Rugby World Cup with England, Ireland, Scotland and Wales. This was the last tournament to feature 20 teams taking part, as the tournament will be expanded to include 24 teams in 2027.\n",
            "The defending champions were South Africa, who defeated England in the 2019 Rugby World Cup final. South Africa retained their title by defeating New Zealand in the final. In doing so, they became the first team to win the tournament four times and remains the only team to ever win the World Cup after losing a match in the pool stage, as well as the first team to win successive World Cup titles away from home. The result also marked their second victory over New Zealand in a final, and also their second victory in a final on French soil (following their respective victories in 1995 and 2007). \n",
            "Chile made their first appearance in the tournament. Portugal returned for their second appearance, 16 years after their debut in 2007, also in France.\n",
            "\n",
            "Page: 2023 Rugby World Cup squads\n",
            "Summary: The 2023 Rugby World Cup was held in France from 8 September to 28 October 2023. Twenty teams qualified and each named an initial squad of 33 players, two more than at the previous World Cup. Squads were submitted before the tournament, and replacement players could be added during the tournament on injury grounds.Note: The age and number of caps listed for each player is as of 8 September 2023, the first day of the tournament.\n",
            "\n",
            "Page: 2023 Rugby World Cup final\n",
            "Summary: The 2023 Rugby World Cup final was a rugby union match played on 28 October 2023 at the Stade de France in Saint-Denis, France. It marked the culmination of the 2023 Rugby World Cup and was played between New Zealand and South Africa, with the latter winning by a single point to claim their fourth Webb Ellis Cup, becoming the first nation to do so. South Africa became the first team to ever win back to back Rugby World Cup tournaments away from home, with Siya Kolisi the first ever captain to accomplish the away double.  \n",
            "New Zealand and South Africa last played in a Rugby World Cup final in 1995, which South Africa won 15–12. The two sides had met in five previous World Cup encounters with New Zealand winning three and South Africa winning two. This was the first time that both finalists had already lost a game during the World Cup. For New Zealand this was a record fifth appearance in a final, while South Africa made a fourth appearance and also entered having never lost in a final.\n",
            "The final saw South Africa win a record fourth World Cup title, with both sides having already won the World Cup on three occasions.\u001b[0m\n",
            "Thought:\u001b[32;1m\u001b[1;3mThe country that won the Rugby World Cup in 2023 is South Africa.\n",
            "Final Answer: South Africa\u001b[0m\n",
            "\n",
            "\u001b[1m> Finished chain.\u001b[0m\n"
          ]
        },
        {
          "data": {
            "text/plain": [
              "{'input': 'Quelle pays a remporté la coupe du monde de Rugby 2023',\n",
              " 'output': 'South Africa'}"
            ]
          },
          "execution_count": 31,
          "metadata": {},
          "output_type": "execute_result"
        }
      ],
      "source": [
        "agent(\"Quelle pays a remporté la coupe du monde de Rugby 2023\")"
      ]
    },
    {
      "cell_type": "markdown",
      "id": "95ac1ef8",
      "metadata": {
        "id": "95ac1ef8"
      },
      "source": [
        "### Toolkits : Pandas DataFrame"
      ]
    },
    {
      "cell_type": "code",
      "execution_count": null,
      "id": "88e68f76",
      "metadata": {
        "id": "88e68f76"
      },
      "outputs": [],
      "source": [
        "from langchain.agents.agent_types import AgentType\n",
        "from langchain.chat_models import ChatOpenAI\n",
        "from langchain_experimental.agents.agent_toolkits import create_pandas_dataframe_agent"
      ]
    },
    {
      "cell_type": "code",
      "execution_count": null,
      "id": "12ca6799",
      "metadata": {
        "id": "12ca6799"
      },
      "outputs": [],
      "source": [
        "import pandas as pd\n",
        "from langchain.llms import OpenAI\n",
        "\n",
        "df = pd.read_csv(\"titanic.csv\")"
      ]
    },
    {
      "cell_type": "code",
      "execution_count": null,
      "id": "9d4388f3",
      "metadata": {
        "id": "9d4388f3"
      },
      "outputs": [],
      "source": [
        "# Utiliser ZERO_SHOT_REACT_DESCRIPTION\n",
        "agent = create_pandas_dataframe_agent(OpenAI(temperature=0), df, verbose=True) # Nécessite le package tabulate"
      ]
    },
    {
      "cell_type": "code",
      "execution_count": null,
      "id": "7046c683",
      "metadata": {
        "id": "7046c683"
      },
      "outputs": [],
      "source": [
        "# Utiliser un agent de type OpenAIFunctions\n",
        "agent = create_pandas_dataframe_agent(\n",
        "    ChatOpenAI(temperature=0, model=\"gpt-3.5-turbo-0613\"),\n",
        "    df,\n",
        "    verbose=True,\n",
        "    agent_type=AgentType.OPENAI_FUNCTIONS,\n",
        ")"
      ]
    },
    {
      "cell_type": "code",
      "execution_count": null,
      "id": "5adb2f83",
      "metadata": {
        "id": "5adb2f83",
        "outputId": "8cc1a222-2038-447c-da4f-63c61709188c"
      },
      "outputs": [
        {
          "name": "stdout",
          "output_type": "stream",
          "text": [
            "\n",
            "\n",
            "\u001b[1m> Entering new AgentExecutor chain...\u001b[0m\n",
            "\u001b[32;1m\u001b[1;3mThought: Je dois trouver le nombre de lignes dans le dataframe.\n",
            "Action: python_repl_ast\n",
            "Action Input: df.shape[0]\u001b[0m\n",
            "Observation: \u001b[36;1m\u001b[1;3m891\u001b[0m\n",
            "Thought:\u001b[32;1m\u001b[1;3m Je sais maintenant le nombre de lignes.\n",
            "Final Answer: Il y a 891 lignes.\u001b[0m\n",
            "\n",
            "\u001b[1m> Finished chain.\u001b[0m\n"
          ]
        },
        {
          "data": {
            "text/plain": [
              "'Il y a 891 lignes.'"
            ]
          },
          "execution_count": 35,
          "metadata": {},
          "output_type": "execute_result"
        }
      ],
      "source": [
        "agent.run(\"Combien il y a-il de lignes ?\")"
      ]
    },
    {
      "cell_type": "code",
      "execution_count": null,
      "id": "5fa019ed",
      "metadata": {
        "id": "5fa019ed",
        "outputId": "e42dff18-4f8f-4a8a-813c-4c9032322d40"
      },
      "outputs": [
        {
          "name": "stdout",
          "output_type": "stream",
          "text": [
            "\n",
            "\n",
            "\u001b[1m> Entering new AgentExecutor chain...\u001b[0m\n",
            "\u001b[32;1m\u001b[1;3mThought: Je dois compter le nombre de lignes pour chaque sexe\n",
            "Action: python_repl_ast\n",
            "Action Input: df['Sex'].value_counts()\u001b[0m\n",
            "Observation: \u001b[36;1m\u001b[1;3mSex\n",
            "male      577\n",
            "female    314\n",
            "Name: count, dtype: int64\u001b[0m\n",
            "Thought:\u001b[32;1m\u001b[1;3m Je connais maintenant le nombre d'hommes et de femmes\n",
            "Final Answer: Il y a 577 hommes et 314 femmes.\u001b[0m\n",
            "\n",
            "\u001b[1m> Finished chain.\u001b[0m\n"
          ]
        },
        {
          "data": {
            "text/plain": [
              "'Il y a 577 hommes et 314 femmes.'"
            ]
          },
          "execution_count": 36,
          "metadata": {},
          "output_type": "execute_result"
        }
      ],
      "source": [
        "agent.run(\"Combien d'hommes et de femmes il y a-il ?\")"
      ]
    },
    {
      "cell_type": "code",
      "execution_count": null,
      "id": "36331dd6",
      "metadata": {
        "id": "36331dd6",
        "outputId": "2a806de4-9bff-486e-ee7e-4ae783c929de"
      },
      "outputs": [
        {
          "name": "stdout",
          "output_type": "stream",
          "text": [
            "\n",
            "\n",
            "\u001b[1m> Entering new AgentExecutor chain...\u001b[0m\n",
            "\u001b[32;1m\u001b[1;3mThought: Je dois trouver le nombre de femmes qui ont survécu.\n",
            "Action: python_repl_ast\n",
            "Action Input: df[(df['Sex'] == 'female') & (df['Survived'] == 1)].shape[0]\u001b[0m\n",
            "Observation: \u001b[36;1m\u001b[1;3m233\u001b[0m\n",
            "Thought:\u001b[32;1m\u001b[1;3m Je connais maintenant le nombre de femmes qui ont survécu.\n",
            "Final Answer: 233 femmes ont survécu.\u001b[0m\n",
            "\n",
            "\u001b[1m> Finished chain.\u001b[0m\n"
          ]
        },
        {
          "data": {
            "text/plain": [
              "'233 femmes ont survécu.'"
            ]
          },
          "execution_count": 37,
          "metadata": {},
          "output_type": "execute_result"
        }
      ],
      "source": [
        "agent.run(\"Combien de femmes ont survécu ?\")"
      ]
    },
    {
      "cell_type": "code",
      "execution_count": null,
      "id": "b191f8a6",
      "metadata": {
        "id": "b191f8a6"
      },
      "outputs": [],
      "source": []
    }
  ],
  "metadata": {
    "kernelspec": {
      "display_name": "Pytorch GPU (Python 3.10)",
      "language": "python",
      "name": "pytorch_env"
    },
    "language_info": {
      "codemirror_mode": {
        "name": "ipython",
        "version": 3
      },
      "file_extension": ".py",
      "mimetype": "text/x-python",
      "name": "python",
      "nbconvert_exporter": "python",
      "pygments_lexer": "ipython3",
      "version": "3.11.4"
    },
    "colab": {
      "provenance": [],
      "include_colab_link": true
    }
  },
  "nbformat": 4,
  "nbformat_minor": 5
}