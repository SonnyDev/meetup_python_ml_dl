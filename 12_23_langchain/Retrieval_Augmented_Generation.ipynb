{
  "cells": [
    {
      "cell_type": "markdown",
      "metadata": {
        "id": "view-in-github",
        "colab_type": "text"
      },
      "source": [
        "<a href=\"https://colab.research.google.com/github/SonnyDev/llm-apps-langchain/blob/main/Retrieval_Augmented_Generation.ipynb\" target=\"_parent\"><img src=\"https://colab.research.google.com/assets/colab-badge.svg\" alt=\"Open In Colab\"/></a>"
      ]
    },
    {
      "cell_type": "markdown",
      "id": "b369000e",
      "metadata": {
        "id": "b369000e"
      },
      "source": [
        "## Retrieval Augmented Generation (RAG)\n",
        "\n",
        "RAG est une technique pour augmenter les connaissances des LLMs avec des données supplémentaires, souvent privées ou en temps réel.\n",
        "\n",
        "Un retriever est une interface qui retourne des documents à partir d'une requête non structurée. Il est plus général qu'un vector store. Un retriever n'a pas besoin de pouvoir stocker des documents, seulement de les retourner (ou récupérer). Les vector stores peuvent être utilisés comme base d'un retriever, mais il existe également d'autres types de retrievers."
      ]
    },
    {
      "cell_type": "markdown",
      "id": "8e56673a",
      "metadata": {
        "id": "8e56673a"
      },
      "source": [
        "### 0. Chargement de la clé d'API"
      ]
    },
    {
      "cell_type": "code",
      "execution_count": null,
      "id": "9ad89409",
      "metadata": {
        "id": "9ad89409"
      },
      "outputs": [],
      "source": [
        "import os\n",
        "import openai\n",
        "\n",
        "from dotenv import load_dotenv, find_dotenv\n",
        "_ = load_dotenv(find_dotenv()) # read local .env file\n",
        "openai.api_key = os.environ['OPENAI_API_KEY']"
      ]
    },
    {
      "cell_type": "markdown",
      "id": "1eafd462",
      "metadata": {
        "id": "1eafd462"
      },
      "source": [
        "## 1. Stratégies basiques de récupération"
      ]
    },
    {
      "cell_type": "markdown",
      "id": "27c0e91d",
      "metadata": {
        "id": "27c0e91d"
      },
      "source": [
        "### 1.1. Récupération par similarité simple"
      ]
    },
    {
      "cell_type": "code",
      "execution_count": null,
      "id": "8e169ccd",
      "metadata": {
        "id": "8e169ccd"
      },
      "outputs": [],
      "source": [
        "from langchain.embeddings import OpenAIEmbeddings\n",
        "from langchain.text_splitter import RecursiveCharacterTextSplitter\n",
        "from langchain.vectorstores import Chroma"
      ]
    },
    {
      "cell_type": "code",
      "execution_count": null,
      "id": "dd9e547f",
      "metadata": {
        "id": "dd9e547f"
      },
      "outputs": [],
      "source": [
        "source_text = open(\"langchain.txt\", \"r\", encoding=\"utf-8\").read()\n",
        "text_splitter = RecursiveCharacterTextSplitter(chunk_size=500, chunk_overlap=50)\n",
        "texts = text_splitter.split_text(source_text)"
      ]
    },
    {
      "cell_type": "code",
      "execution_count": null,
      "id": "92862d87",
      "metadata": {
        "id": "92862d87",
        "outputId": "7ccc21af-e7a5-4276-aae5-a7e27b3ed4e9"
      },
      "outputs": [
        {
          "name": "stderr",
          "output_type": "stream",
          "text": [
            "INFO:httpx:HTTP Request: POST https://api.openai.com/v1/embeddings \"HTTP/1.1 200 OK\"\n"
          ]
        }
      ],
      "source": [
        "embeddings = OpenAIEmbeddings()\n",
        "db = Chroma.from_texts(texts, embeddings)\n",
        "retriever = db.as_retriever()"
      ]
    },
    {
      "cell_type": "code",
      "execution_count": null,
      "id": "1e7b1c4a",
      "metadata": {
        "id": "1e7b1c4a",
        "outputId": "c75a7970-5321-47c0-d1e9-610a9e719b4c"
      },
      "outputs": [
        {
          "name": "stderr",
          "output_type": "stream",
          "text": [
            "INFO:httpx:HTTP Request: POST https://api.openai.com/v1/embeddings \"HTTP/1.1 200 OK\"\n"
          ]
        },
        {
          "data": {
            "text/plain": [
              "\"• Agents : Les agents permettent d'utiliser des modèles de langage comme moteur de raisonnement en prenant des décisions et en effectuant des actions en fonction des instructions et des données d'entrée. Ils peuvent être utilisés pour créer des assistants virtuels ou des chatbots interactifs.\""
            ]
          },
          "execution_count": 347,
          "metadata": {},
          "output_type": "execute_result"
        }
      ],
      "source": [
        "retrieved_docs = retriever.invoke(\n",
        "\"Qu'est-ce qu'un agent\"\n",
        ")\n",
        "retrieved_docs[0].page_content"
      ]
    },
    {
      "cell_type": "code",
      "execution_count": null,
      "id": "e61fac7b",
      "metadata": {
        "id": "e61fac7b",
        "outputId": "a1579487-cca8-4018-fd39-d9bbc0e17ac8"
      },
      "outputs": [
        {
          "data": {
            "text/plain": [
              "[Document(page_content=\"• Agents : Les agents permettent d'utiliser des modèles de langage comme moteur de raisonnement en prenant des décisions et en effectuant des actions en fonction des instructions et des données d'entrée. Ils peuvent être utilisés pour créer des assistants virtuels ou des chatbots interactifs.\"),\n",
              " Document(page_content=\"• Agents : Les agents permettent d'utiliser des modèles de langage comme moteur de raisonnement en prenant des décisions et en effectuant des actions en fonction des instructions et des données d'entrée. Ils peuvent être utilisés pour créer des assistants virtuels ou des chatbots interactifs.\"),\n",
              " Document(page_content=\"• Agents : Les agents permettent d'utiliser des modèles de langage comme moteur de raisonnement en prenant des décisions et en effectuant des actions en fonction des instructions et des données d'entrée. Ils peuvent être utilisés pour créer des assistants virtuels ou des chatbots interactifs.\"),\n",
              " Document(page_content=\"• Assistants personnels : Les applications d'assistants personnels utilisent LangChain pour prendre des actions, se souvenir des interactions et avoir des connaissances sur les données de l'utilisateur. Ils peuvent répondre aux questions, effectuer des tâches spécifiques et fournir des recommandations personnalisées.\")]"
            ]
          },
          "execution_count": 349,
          "metadata": {},
          "output_type": "execute_result"
        }
      ],
      "source": [
        "retrieved_docs"
      ]
    },
    {
      "cell_type": "markdown",
      "id": "c2f5446e",
      "metadata": {
        "id": "c2f5446e"
      },
      "source": [
        "### 1.2. Maximum Margin Relevance Retrieval (MMR Retrieval)"
      ]
    },
    {
      "cell_type": "markdown",
      "id": "0261b1fa",
      "metadata": {
        "id": "0261b1fa"
      },
      "source": [
        "Le métrique MMR pénalise des informations redondantes."
      ]
    },
    {
      "cell_type": "code",
      "execution_count": null,
      "id": "2458e2d8",
      "metadata": {
        "id": "2458e2d8"
      },
      "outputs": [],
      "source": [
        "retriever = db.as_retriever(search_type=\"mmr\")"
      ]
    },
    {
      "cell_type": "code",
      "execution_count": null,
      "id": "f699a8d3",
      "metadata": {
        "id": "f699a8d3",
        "outputId": "17b790a2-a867-47b9-b0d7-79ff2512461d"
      },
      "outputs": [
        {
          "name": "stderr",
          "output_type": "stream",
          "text": [
            "INFO:httpx:HTTP Request: POST https://api.openai.com/v1/embeddings \"HTTP/1.1 200 OK\"\n",
            "INFO:langchain_community.utils.math:Unable to import simsimd, defaulting to NumPy implementation. If you want to use simsimd please install with `pip install simsimd`.\n",
            "INFO:langchain_community.utils.math:Unable to import simsimd, defaulting to NumPy implementation. If you want to use simsimd please install with `pip install simsimd`.\n",
            "INFO:langchain_community.utils.math:Unable to import simsimd, defaulting to NumPy implementation. If you want to use simsimd please install with `pip install simsimd`.\n",
            "INFO:langchain_community.utils.math:Unable to import simsimd, defaulting to NumPy implementation. If you want to use simsimd please install with `pip install simsimd`.\n"
          ]
        }
      ],
      "source": [
        "docs = retriever.get_relevant_documents(\n",
        "    \"Qu'est-ce qu'un agent ?\")"
      ]
    },
    {
      "cell_type": "code",
      "execution_count": null,
      "id": "a2107ebe",
      "metadata": {
        "id": "a2107ebe",
        "outputId": "7f263a7b-66b8-4a2b-f9e6-f992d88d5967"
      },
      "outputs": [
        {
          "data": {
            "text/plain": [
              "4"
            ]
          },
          "execution_count": 352,
          "metadata": {},
          "output_type": "execute_result"
        }
      ],
      "source": [
        "len(docs)"
      ]
    },
    {
      "cell_type": "code",
      "execution_count": null,
      "id": "3f4d4c3b",
      "metadata": {
        "id": "3f4d4c3b",
        "outputId": "f920ee89-424f-4ae4-8b49-5f2f489a480a"
      },
      "outputs": [
        {
          "data": {
            "text/plain": [
              "[Document(page_content=\"• Agents : Les agents permettent d'utiliser des modèles de langage comme moteur de raisonnement en prenant des décisions et en effectuant des actions en fonction des instructions et des données d'entrée. Ils peuvent être utilisés pour créer des assistants virtuels ou des chatbots interactifs.\"),\n",
              " Document(page_content=\"• Assistants personnels : Les applications d'assistants personnels utilisent LangChain pour prendre des actions, se souvenir des interactions et avoir des connaissances sur les données de l'utilisateur. Ils peuvent répondre aux questions, effectuer des tâches spécifiques et fournir des recommandations personnalisées.\"),\n",
              " Document(page_content=\"• Mémoire : La mémoire permet de stocker des informations entre les appels d'une chaîne ou d'un agent. Elle peut être utilisée pour conserver des états, des variables ou des résultats intermédiaires lors de l'exécution d'une séquence d'appels.\\n• Indexes : Les indexes permettent de combiner des modèles de langage avec vos propres données textuelles. Ils facilitent la recherche et l'accès aux informations dans les données indexées.\"),\n",
              " Document(page_content=\"• Chaînes : Les chaînes sont des séquences d'appels à des modèles de langage ou à d'autres utilitaires. Elles permettent de créer des flux de travail complexes en enchaînant différentes étapes de traitement du langage naturel.\")]"
            ]
          },
          "execution_count": 353,
          "metadata": {},
          "output_type": "execute_result"
        }
      ],
      "source": [
        "docs"
      ]
    },
    {
      "cell_type": "markdown",
      "id": "d082682c",
      "metadata": {
        "id": "d082682c"
      },
      "source": [
        "### 1.3. Seuil de score de similarité (Similarity score threshold)"
      ]
    },
    {
      "cell_type": "code",
      "execution_count": null,
      "id": "f5f3766f",
      "metadata": {
        "id": "f5f3766f"
      },
      "outputs": [],
      "source": [
        "retriever = db.as_retriever(\n",
        "    search_type=\"similarity_score_threshold\", search_kwargs={\"score_threshold\" : 0.6})"
      ]
    },
    {
      "cell_type": "code",
      "execution_count": null,
      "id": "fef6d592",
      "metadata": {
        "id": "fef6d592",
        "outputId": "93bc1240-eee4-47ad-c6cb-78973d4fb131"
      },
      "outputs": [
        {
          "name": "stderr",
          "output_type": "stream",
          "text": [
            "INFO:httpx:HTTP Request: POST https://api.openai.com/v1/embeddings \"HTTP/1.1 200 OK\"\n"
          ]
        }
      ],
      "source": [
        "docs = retriever.get_relevant_documents(\n",
        "    \"Qu'est-ce qu'un agent\")"
      ]
    },
    {
      "cell_type": "code",
      "execution_count": null,
      "id": "fb842e2a",
      "metadata": {
        "scrolled": true,
        "id": "fb842e2a",
        "outputId": "085b1761-2e54-4c53-c64f-9be4bc4ff675"
      },
      "outputs": [
        {
          "name": "stdout",
          "output_type": "stream",
          "text": [
            "• Agents : Les agents permettent d'utiliser des modèles de langage comme moteur de raisonnement en prenant des décisions et en effectuant des actions en fonction des instructions et des données d'entrée. Ils peuvent être utilisés pour créer des assistants virtuels ou des chatbots interactifs.\n",
            "• Agents : Les agents permettent d'utiliser des modèles de langage comme moteur de raisonnement en prenant des décisions et en effectuant des actions en fonction des instructions et des données d'entrée. Ils peuvent être utilisés pour créer des assistants virtuels ou des chatbots interactifs.\n",
            "• Agents : Les agents permettent d'utiliser des modèles de langage comme moteur de raisonnement en prenant des décisions et en effectuant des actions en fonction des instructions et des données d'entrée. Ils peuvent être utilisés pour créer des assistants virtuels ou des chatbots interactifs.\n",
            "• Assistants personnels : Les applications d'assistants personnels utilisent LangChain pour prendre des actions, se souvenir des interactions et avoir des connaissances sur les données de l'utilisateur. Ils peuvent répondre aux questions, effectuer des tâches spécifiques et fournir des recommandations personnalisées.\n"
          ]
        }
      ],
      "source": [
        "for doc in docs:\n",
        "    print(doc.page_content)"
      ]
    },
    {
      "cell_type": "markdown",
      "id": "d32021f1",
      "metadata": {
        "id": "d32021f1"
      },
      "source": [
        "### 1.4. Précision du top k"
      ]
    },
    {
      "cell_type": "code",
      "execution_count": null,
      "id": "2d4ecc7d",
      "metadata": {
        "id": "2d4ecc7d"
      },
      "outputs": [],
      "source": [
        "retriever = db.as_retriever(search_kwargs={\"k\" : 2})"
      ]
    },
    {
      "cell_type": "code",
      "execution_count": null,
      "id": "7c84c11c",
      "metadata": {
        "id": "7c84c11c",
        "outputId": "c4360a48-9404-445c-d16a-b3400dac4e27"
      },
      "outputs": [
        {
          "name": "stderr",
          "output_type": "stream",
          "text": [
            "INFO:httpx:HTTP Request: POST https://api.openai.com/v1/embeddings \"HTTP/1.1 200 OK\"\n"
          ]
        }
      ],
      "source": [
        "docs = retriever.get_relevant_documents(\n",
        "    \"Quels sont les cas d'utilisation de LangChain ?\")"
      ]
    },
    {
      "cell_type": "code",
      "execution_count": null,
      "id": "ec760010",
      "metadata": {
        "id": "ec760010",
        "outputId": "36995ab1-3e5f-488b-b96a-c328a3183c22"
      },
      "outputs": [
        {
          "data": {
            "text/plain": [
              "2"
            ]
          },
          "execution_count": 369,
          "metadata": {},
          "output_type": "execute_result"
        }
      ],
      "source": [
        "len(docs)"
      ]
    },
    {
      "cell_type": "code",
      "execution_count": null,
      "id": "9eb7a9fa",
      "metadata": {
        "id": "9eb7a9fa",
        "outputId": "3213ceb6-5551-46fe-d9cf-182abecd4703"
      },
      "outputs": [
        {
          "name": "stdout",
          "output_type": "stream",
          "text": [
            "• Réponse aux questions : LangChain peut être utilisé pour répondre aux questions en utilisant des documents spécifiques. Il peut extraire les informations pertinentes des documents et générer des réponses précises.\n",
            "• Chatbots : Les chatbots utilisent LangChain pour interagir avec les utilisateurs en langage naturel. Ils peuvent comprendre les questions, fournir des réponses pertinentes et mener des conversations fluides.\n",
            "• Réponse aux questions : LangChain peut être utilisé pour répondre aux questions en utilisant des documents spécifiques. Il peut extraire les informations pertinentes des documents et générer des réponses précises.\n",
            "• Chatbots : Les chatbots utilisent LangChain pour interagir avec les utilisateurs en langage naturel. Ils peuvent comprendre les questions, fournir des réponses pertinentes et mener des conversations fluides.\n"
          ]
        }
      ],
      "source": [
        "for doc in docs:\n",
        "    print(doc.page_content)"
      ]
    },
    {
      "cell_type": "markdown",
      "id": "ed24130b",
      "metadata": {
        "id": "ed24130b"
      },
      "source": [
        "## 2. Stratégies avancées de récupération"
      ]
    },
    {
      "cell_type": "markdown",
      "id": "b7fbe5a0",
      "metadata": {
        "id": "b7fbe5a0"
      },
      "source": [
        "Les stratégies basiques sont limitées :\n",
        "\n",
        "• Scalabilité : à mesure que la quantité de données indexées augmente, le processus de récupération et de génération peut devenir coûteux en calcul et prendre du temps. Il peut rencontrer des difficultés à évoluer pour gérer efficacement de grands volumes de données.\n",
        "\n",
        "• Manque de spécificité : Bien que les embeddings capturent la sémantique du contenu, il existe un défi inhérent. À mesure que les documents augmentent en taille et en complexité, les représenter dans leur nature multifacette avec un seul vecteur d’embeddings peut conduire à une perte de spécificité.\n",
        "\n",
        "• La récupération simple basée sur la distance peut être imprécise s’il y a des modifications mineures dans les requêtes ou si les embeddings ne reflètent pas bien la sémantique des données.\n",
        "\n",
        "Pour surmonter ces limites, plusieurs stratégies avancées de RAG sont créées."
      ]
    },
    {
      "cell_type": "markdown",
      "id": "446441aa",
      "metadata": {
        "id": "446441aa"
      },
      "source": [
        "### 2.1. Aborder la spécificité : travailler avec les métadonnées"
      ]
    },
    {
      "cell_type": "markdown",
      "id": "61450b7b",
      "metadata": {
        "id": "61450b7b"
      },
      "source": [
        "Pour résoudre le problème de manque de spécificité, plusieurs vectorstores supportent des operations sur les  `metadonnées`.\n",
        "`metadata` fournit un contexte pour chaque embeddings."
      ]
    },
    {
      "cell_type": "code",
      "execution_count": null,
      "id": "617de3ab",
      "metadata": {
        "id": "617de3ab"
      },
      "outputs": [],
      "source": [
        "### PyPDFDirectoryLoader\n",
        "\n",
        "from langchain.document_loaders import PyPDFDirectoryLoader\n",
        "\n",
        "loader = PyPDFDirectoryLoader(\"document_loaders/pdfs/\")\n",
        "\n",
        "docs = loader.load()"
      ]
    },
    {
      "cell_type": "code",
      "execution_count": null,
      "id": "f1a88e7a",
      "metadata": {
        "id": "f1a88e7a"
      },
      "outputs": [],
      "source": [
        "# Transform documents\n",
        "\n",
        "from langchain.text_splitter import RecursiveCharacterTextSplitter\n",
        "\n",
        "text_splitter = RecursiveCharacterTextSplitter(\n",
        "    chunk_size=1000,\n",
        "    chunk_overlap=200,\n",
        "    length_function=len,\n",
        "    add_start_index=True,\n",
        ")\n",
        "\n",
        "texts = text_splitter.split_documents(docs)"
      ]
    },
    {
      "cell_type": "code",
      "execution_count": null,
      "id": "718ed400",
      "metadata": {
        "id": "718ed400",
        "outputId": "a7b42aff-9185-4b64-c3d6-b9ac23d10c56"
      },
      "outputs": [
        {
          "name": "stderr",
          "output_type": "stream",
          "text": [
            "INFO:httpx:HTTP Request: POST https://api.openai.com/v1/embeddings \"HTTP/1.1 200 OK\"\n"
          ]
        }
      ],
      "source": [
        "embeddings = OpenAIEmbeddings()\n",
        "db = Chroma.from_documents(texts, embeddings)\n",
        "retriever = db.as_retriever()"
      ]
    },
    {
      "cell_type": "code",
      "execution_count": null,
      "id": "51734cde",
      "metadata": {
        "id": "51734cde"
      },
      "outputs": [],
      "source": [
        "question = \"what are the core principles and key commitments of the chinese academy of science\""
      ]
    },
    {
      "cell_type": "code",
      "execution_count": null,
      "id": "bad2608f",
      "metadata": {
        "id": "bad2608f",
        "outputId": "0adc4871-6a57-4c83-87db-201e0495995e"
      },
      "outputs": [
        {
          "name": "stderr",
          "output_type": "stream",
          "text": [
            "INFO:httpx:HTTP Request: POST https://api.openai.com/v1/embeddings \"HTTP/1.1 200 OK\"\n"
          ]
        }
      ],
      "source": [
        "docs = retriever.get_relevant_documents(question)"
      ]
    },
    {
      "cell_type": "code",
      "execution_count": null,
      "id": "208a1fc6",
      "metadata": {
        "id": "208a1fc6",
        "outputId": "aafe13fa-2ae5-41a8-840c-67df119ca3b3"
      },
      "outputs": [
        {
          "name": "stdout",
          "output_type": "stream",
          "text": [
            "5. Core Principles and Key Actions \n",
            "The experts identified several principles with a broad range of key actions in their responses. The suggestions from experts advised to ensure inclusivity, quality, adoption, development and innovation in the development and utility of digital public goods for SDG indicators. Principle overlaps between different experts broadly suggested to ensure that the information should be publicly accessible to promote awareness, knowledge, and research and to encourage innovative solutions to global and regional \n",
            "8 Wilkinson, M., Dumontier, M., Aalbersberg, I. et al. The FAIR Guiding Principles for scientific data management \n",
            "and stewardship. Sci Data 3, 160018 (2016). https://doi.org/10.1038/sdata.2016.18\n",
            "5. Core Principles and Key Actions \n",
            "The experts identified several principles with a broad range of key actions in their responses. The suggestions from experts advised to ensure inclusivity, quality, adoption, development and innovation in the development and utility of digital public goods for SDG indicators. Principle overlaps between different experts broadly suggested to ensure that the information should be publicly accessible to promote awareness, knowledge, and research and to encourage innovative solutions to global and regional \n",
            "8 Wilkinson, M., Dumontier, M., Aalbersberg, I. et al. The FAIR Guiding Principles for scientific data management \n",
            "and stewardship. Sci Data 3, 160018 (2016). https://doi.org/10.1038/sdata.2016.18\n",
            "and digital services ecosystem.  \n",
            "2. Policies should be non -d iscriminatory, technology -neutral, and supportive of innovative \n",
            "business models and the development and deployment of a wide range of technologies, \n",
            "standards, and system architectures.  \n",
            " \n",
            "b) Key Commitment/ Pledges/ Actions  \n",
            " \n",
            "Grounded in these principles, we note the following three priority areas where policy action should \n",
            "be taken:  \n",
            "1. Facilitate investment across the entire digital value chain  \n",
            "Policies sh ould foster investment, competition, and innovation in the development and \n",
            "deployment of:  \n",
            "- broadband services and connectivity devices, with the aim of expanding affordable \n",
            "access and end -user choice for broadband connectivity  \n",
            "- content that helps drive and sustain adoption, including through expanded e -\n",
            "government services;  \n",
            "- digital literacy and skills development, while also facilitating and supporting multi-\n",
            "sectoral initiatives that meet these objectives.  \n",
            "2. Effectively manage spectrum\n",
            "and digital services ecosystem.  \n",
            "2. Policies should be non -d iscriminatory, technology -neutral, and supportive of innovative \n",
            "business models and the development and deployment of a wide range of technologies, \n",
            "standards, and system architectures.  \n",
            " \n",
            "b) Key Commitment/ Pledges/ Actions  \n",
            " \n",
            "Grounded in these principles, we note the following three priority areas where policy action should \n",
            "be taken:  \n",
            "1. Facilitate investment across the entire digital value chain  \n",
            "Policies sh ould foster investment, competition, and innovation in the development and \n",
            "deployment of:  \n",
            "- broadband services and connectivity devices, with the aim of expanding affordable \n",
            "access and end -user choice for broadband connectivity  \n",
            "- content that helps drive and sustain adoption, including through expanded e -\n",
            "government services;  \n",
            "- digital literacy and skills development, while also facilitating and supporting multi-\n",
            "sectoral initiatives that meet these objectives.  \n",
            "2. Effectively manage spectrum\n"
          ]
        }
      ],
      "source": [
        "for d in docs:\n",
        "    print(d.page_content)"
      ]
    },
    {
      "cell_type": "markdown",
      "id": "a4901ed6",
      "metadata": {
        "id": "a4901ed6"
      },
      "source": [
        "Comme on peut le voir, le récupérateur simple n'est pas spécifique. Il a puisé d'autres informations du document de la chambre internationale de Commerce et non seulement de l'académie chinoise de sciences. Pour etre spécifique, on peut travailler avec les métadonnées."
      ]
    },
    {
      "cell_type": "code",
      "execution_count": null,
      "id": "2a331a5f",
      "metadata": {
        "id": "2a331a5f",
        "outputId": "bd28f4d3-5f30-4919-c7b2-f2f48d9115a7"
      },
      "outputs": [
        {
          "name": "stderr",
          "output_type": "stream",
          "text": [
            "INFO:httpx:HTTP Request: POST https://api.openai.com/v1/embeddings \"HTTP/1.1 200 OK\"\n"
          ]
        }
      ],
      "source": [
        "docs = db.similarity_search(\n",
        "    question,\n",
        "    k=3,\n",
        "    filter={\"source\":\"document_loaders\\\\pdfs\\\\220929_Chinese_Academy_of_Sciences.pdf\"}\n",
        ")"
      ]
    },
    {
      "cell_type": "code",
      "execution_count": null,
      "id": "8bda4440",
      "metadata": {
        "id": "8bda4440",
        "outputId": "91716fce-d418-4812-d8fd-76d783930499"
      },
      "outputs": [
        {
          "name": "stdout",
          "output_type": "stream",
          "text": [
            "{'page': 7, 'source': 'document_loaders\\\\pdfs\\\\220929_Chinese_Academy_of_Sciences.pdf', 'start_index': 2792}\n",
            "{'page': 7, 'source': 'document_loaders\\\\pdfs\\\\220929_Chinese_Academy_of_Sciences.pdf', 'start_index': 2792}\n",
            "{'page': 8, 'source': 'document_loaders\\\\pdfs\\\\220929_Chinese_Academy_of_Sciences.pdf', 'start_index': 0}\n"
          ]
        }
      ],
      "source": [
        "for d in docs:\n",
        "    print(d.metadata)"
      ]
    },
    {
      "cell_type": "markdown",
      "id": "a475e3c7",
      "metadata": {
        "id": "a475e3c7"
      },
      "source": [
        "Comme on peut le voir, la page 5 n'apparait plus dans le résultant car elle ne provient pas de la source spécifiée."
      ]
    },
    {
      "cell_type": "code",
      "execution_count": null,
      "id": "487d9f38",
      "metadata": {
        "id": "487d9f38",
        "outputId": "4c8b072f-f1ba-44ac-c008-d25c15cfb9f5"
      },
      "outputs": [
        {
          "name": "stdout",
          "output_type": "stream",
          "text": [
            "5. Core Principles and Key Actions \n",
            "The experts identified several principles with a broad range of key actions in their responses. The suggestions from experts advised to ensure inclusivity, quality, adoption, development and innovation in the development and utility of digital public goods for SDG indicators. Principle overlaps between different experts broadly suggested to ensure that the information should be publicly accessible to promote awareness, knowledge, and research and to encourage innovative solutions to global and regional \n",
            "8 Wilkinson, M., Dumontier, M., Aalbersberg, I. et al. The FAIR Guiding Principles for scientific data management \n",
            "and stewardship. Sci Data 3, 160018 (2016). https://doi.org/10.1038/sdata.2016.18\n",
            "7challenges. Secondly, improvement of global scientific and technical capabilities through an open science \n",
            "approach was extensively suggested by different experts in several of the responses received. Table 1 provides a summarized list of Core Principles with associated Key Actions to facilitate and guide the development process of proposed digital public goods for SDG indicators. \n",
            "Table 1: Core Principles and Key Actions suggested by experts for developing digital public goods for \n",
            "SDG Indicators\n",
            "Core Principles Key Actions\n",
            "1Universality of science1.1 Promote open science, open data, and open knowledge\n",
            "1.2Encourage scientific partnerships, collaborations, and cooperation and \n",
            "multi-disciplinary stakeholder engagements\n",
            "2The digital public goods should be scalable 2.1Development process of digital public goods for SDG indicators should incorporate multi-stakeholder engagement and a mechanism for a bottom to top approach\n",
            "4About CBAS\n",
            "The International Research Center of Big Data for Sustainable \n",
            "Development Goals (CBAS), founded in 2021, was established \n",
            "in response to the call by Chinese President Xi Jinping at the 75th UN General Assembly to utilize science, data, technology, and innovation to facilitate global progress towards \n",
            "sustainable development. Following the UN Secretary General's \n",
            "congratulatory remark at CBAS' inauguration to utilize big data to address global challenges, CBAS is therefore working to establish big data ecosystems with a particular focus on Big Earth Data. The vision of CBAS is to provide a range of \n",
            "services essential for addressing the most challenging problems\n"
          ]
        }
      ],
      "source": [
        "for d in docs:\n",
        "    print(d.page_content)"
      ]
    },
    {
      "cell_type": "markdown",
      "id": "15e3ac0b",
      "metadata": {
        "id": "15e3ac0b"
      },
      "source": [
        "### 2.2. Aborder la spécificité : Self-Query Retriever"
      ]
    },
    {
      "cell_type": "markdown",
      "id": "85cf7611",
      "metadata": {
        "id": "85cf7611"
      },
      "source": [
        "Généralement, on souhaite inférer les métadonnées à partir de la requete elle-meme.\n",
        "\n",
        "Pour ce faire, on utilise `SelfQueryRetriever`, qui utilise un LLM pour extraire:\n",
        "\n",
        "1. Le `query` à utiliser dans la recherche vectorielle\n",
        "2. Un filtre de métadonnées à passer également\n",
        "\n",
        "Plusieurs VectorDB supportent les filtres de métadonnées."
      ]
    },
    {
      "cell_type": "code",
      "execution_count": null,
      "id": "96ad35e9",
      "metadata": {
        "id": "96ad35e9"
      },
      "outputs": [],
      "source": [
        "from langchain.llms import OpenAI\n",
        "from langchain.retrievers.self_query.base import SelfQueryRetriever\n",
        "from langchain.chains.query_constructor.base import AttributeInfo"
      ]
    },
    {
      "cell_type": "code",
      "execution_count": null,
      "id": "be92851e",
      "metadata": {
        "id": "be92851e"
      },
      "outputs": [],
      "source": [
        "metadata_field_info = [\n",
        "    AttributeInfo(\n",
        "        name=\"source\",\n",
        "        description=\"The submission chunk is from, should be one of `document_loaders\\\\pdfs\\\\220928_Action_Coalition_on_Innovation_and_Technology_for_Gender_Equality.pdf`, `document_loaders\\\\pdfs\\\\220929_Chinese_Academy_of_Sciences.pdf`, `document_loaders\\\\pdfs\\\\220929_Chinese_Academy_of_Sciences.pdf`, `document_loaders\\\\pdfs\\\\220929_Int_Federation_of_Library_Associations_and_Institutions.pdf`,`document_loaders\\\\pdfs\\\\221010_Global_Partners_Digital_input_to_GDC.pdf` or `document_loaders\\\\pdfs\\\\221010_Global_Partners_Digital_input_to_GDC.pdf`\",\n",
        "        type=\"string\",\n",
        "    ),\n",
        "    AttributeInfo(\n",
        "        name=\"page\",\n",
        "        description=\"The page from the submission\",\n",
        "        type=\"integer\",\n",
        "    ),\n",
        "]"
      ]
    },
    {
      "cell_type": "code",
      "execution_count": null,
      "id": "633a41ad",
      "metadata": {
        "id": "633a41ad",
        "outputId": "f2fb29d8-459c-449c-9f98-5c020853f6ef"
      },
      "outputs": [
        {
          "name": "stdout",
          "output_type": "stream",
          "text": [
            "Requirement already satisfied: lark in c:\\users\\sonny\\anaconda3\\lib\\site-packages (1.1.8)\n"
          ]
        },
        {
          "name": "stderr",
          "output_type": "stream",
          "text": [
            "\n",
            "[notice] A new release of pip is available: 23.3.1 -> 23.3.2\n",
            "[notice] To update, run: python.exe -m pip install --upgrade pip\n"
          ]
        }
      ],
      "source": [
        "!pip install lark #bibliothèque Python de parsing"
      ]
    },
    {
      "cell_type": "code",
      "execution_count": null,
      "id": "91a6e933",
      "metadata": {
        "id": "91a6e933"
      },
      "outputs": [],
      "source": [
        "document_content_description = \"Submissions\"\n",
        "llm = OpenAI(model='gpt-3.5-turbo-instruct', temperature=0)\n",
        "retriever = SelfQueryRetriever.from_llm(\n",
        "    llm,\n",
        "    db,\n",
        "    document_content_description,\n",
        "    metadata_field_info,\n",
        "    verbose=True\n",
        ")"
      ]
    },
    {
      "cell_type": "code",
      "execution_count": null,
      "id": "0ba22f5e",
      "metadata": {
        "id": "0ba22f5e",
        "outputId": "f1c4e065-1fd8-4217-f985-1e17158517d8"
      },
      "outputs": [
        {
          "name": "stderr",
          "output_type": "stream",
          "text": [
            "INFO:httpx:HTTP Request: POST https://api.openai.com/v1/completions \"HTTP/1.1 200 OK\"\n",
            "INFO:langchain.retrievers.self_query.base:Generated Query: query='core principles and key commitments' filter=Comparison(comparator=<Comparator.EQ: 'eq'>, attribute='source', value='document_loaders\\\\pdfs\\\\220929_Chinese_Academy_of_Sciences.pdf') limit=None\n",
            "INFO:httpx:HTTP Request: POST https://api.openai.com/v1/embeddings \"HTTP/1.1 200 OK\"\n"
          ]
        }
      ],
      "source": [
        "docs = retriever.get_relevant_documents(\"what are the core principles and key commitments of the chinese academy of science\")"
      ]
    },
    {
      "cell_type": "code",
      "execution_count": null,
      "id": "bb718fa1",
      "metadata": {
        "id": "bb718fa1",
        "outputId": "f404740b-38a3-4bc2-ac21-d5c737e686ea"
      },
      "outputs": [
        {
          "data": {
            "text/plain": [
              "[Document(page_content='5. Core Principles and Key Actions \\nThe experts identified several principles with a broad range of key actions in their responses. The suggestions from experts advised to ensure inclusivity, quality, adoption, development and innovation in the development and utility of digital public goods for SDG indicators. Principle overlaps between different experts broadly suggested to ensure that the information should be publicly accessible to promote awareness, knowledge, and research and to encourage innovative solutions to global and regional \\n8 Wilkinson, M., Dumontier, M., Aalbersberg, I. et al. The FAIR Guiding Principles for scientific data management \\nand stewardship. Sci Data 3, 160018 (2016). https://doi.org/10.1038/sdata.2016.18', metadata={'page': 7, 'source': 'document_loaders\\\\pdfs\\\\220929_Chinese_Academy_of_Sciences.pdf', 'start_index': 2792}),\n",
              " Document(page_content='5. Core Principles and Key Actions \\nThe experts identified several principles with a broad range of key actions in their responses. The suggestions from experts advised to ensure inclusivity, quality, adoption, development and innovation in the development and utility of digital public goods for SDG indicators. Principle overlaps between different experts broadly suggested to ensure that the information should be publicly accessible to promote awareness, knowledge, and research and to encourage innovative solutions to global and regional \\n8 Wilkinson, M., Dumontier, M., Aalbersberg, I. et al. The FAIR Guiding Principles for scientific data management \\nand stewardship. Sci Data 3, 160018 (2016). https://doi.org/10.1038/sdata.2016.18', metadata={'page': 7, 'source': 'document_loaders\\\\pdfs\\\\220929_Chinese_Academy_of_Sciences.pdf', 'start_index': 2792}),\n",
              " Document(page_content='7challenges. Secondly, improvement of global scientific and technical capabilities through an open science \\napproach was extensively suggested by different experts in several of the responses received. Table 1 provides a summarized list of Core Principles with associated Key Actions to facilitate and guide the development process of proposed digital public goods for SDG indicators. \\nTable 1: Core Principles and Key Actions suggested by experts for developing digital public goods for \\nSDG Indicators\\nCore Principles Key Actions\\n1Universality of science1.1 Promote open science, open data, and open knowledge\\n1.2Encourage scientific partnerships, collaborations, and cooperation and \\nmulti-disciplinary stakeholder engagements\\n2The digital public goods should be scalable 2.1Development process of digital public goods for SDG indicators should incorporate multi-stakeholder engagement and a mechanism for a bottom to top approach', metadata={'page': 8, 'source': 'document_loaders\\\\pdfs\\\\220929_Chinese_Academy_of_Sciences.pdf', 'start_index': 0}),\n",
              " Document(page_content='7challenges. Secondly, improvement of global scientific and technical capabilities through an open science \\napproach was extensively suggested by different experts in several of the responses received. Table 1 provides a summarized list of Core Principles with associated Key Actions to facilitate and guide the development process of proposed digital public goods for SDG indicators. \\nTable 1: Core Principles and Key Actions suggested by experts for developing digital public goods for \\nSDG Indicators\\nCore Principles Key Actions\\n1Universality of science1.1 Promote open science, open data, and open knowledge\\n1.2Encourage scientific partnerships, collaborations, and cooperation and \\nmulti-disciplinary stakeholder engagements\\n2The digital public goods should be scalable 2.1Development process of digital public goods for SDG indicators should incorporate multi-stakeholder engagement and a mechanism for a bottom to top approach', metadata={'page': 8, 'source': 'document_loaders\\\\pdfs\\\\220929_Chinese_Academy_of_Sciences.pdf', 'start_index': 0})]"
            ]
          },
          "execution_count": 387,
          "metadata": {},
          "output_type": "execute_result"
        }
      ],
      "source": [
        "docs"
      ]
    },
    {
      "cell_type": "code",
      "execution_count": null,
      "id": "3083b908",
      "metadata": {
        "id": "3083b908",
        "outputId": "739f8a15-134f-4f4f-dcf4-9e499c87f681"
      },
      "outputs": [
        {
          "name": "stdout",
          "output_type": "stream",
          "text": [
            "{'page': 7, 'source': 'document_loaders\\\\pdfs\\\\220929_Chinese_Academy_of_Sciences.pdf', 'start_index': 2792}\n",
            "{'page': 7, 'source': 'document_loaders\\\\pdfs\\\\220929_Chinese_Academy_of_Sciences.pdf', 'start_index': 2792}\n",
            "{'page': 8, 'source': 'document_loaders\\\\pdfs\\\\220929_Chinese_Academy_of_Sciences.pdf', 'start_index': 0}\n",
            "{'page': 8, 'source': 'document_loaders\\\\pdfs\\\\220929_Chinese_Academy_of_Sciences.pdf', 'start_index': 0}\n"
          ]
        }
      ],
      "source": [
        "for d in docs:\n",
        "    print(d.metadata)"
      ]
    },
    {
      "cell_type": "markdown",
      "id": "867bfd0c",
      "metadata": {
        "id": "867bfd0c"
      },
      "source": [
        "### 2.3. Multi-query retriever"
      ]
    },
    {
      "cell_type": "markdown",
      "id": "373cfd60",
      "metadata": {
        "id": "373cfd60"
      },
      "source": [
        "Le Multi-Query Retrieval utilise  le LLM pour générer plusieurs requêtes à partir d'une seule requête utilisateur.\n",
        "\n",
        "Cette approche permet de surmonter certaines limitations de la recherche basée sur la similarité en fournissant un ensemble de résultats plus riche."
      ]
    },
    {
      "cell_type": "code",
      "execution_count": null,
      "id": "a9116e23",
      "metadata": {
        "id": "a9116e23"
      },
      "outputs": [],
      "source": [
        "from langchain.chat_models import ChatOpenAI\n",
        "from langchain.retrievers.multi_query import MultiQueryRetriever\n",
        "\n",
        "question = \"What are the core principles and key actions of participants ?\"\n",
        "llm = ChatOpenAI(temperature=0)\n",
        "retriever_from_llm = MultiQueryRetriever.from_llm(\n",
        "    retriever=db.as_retriever(), llm=llm\n",
        ")"
      ]
    },
    {
      "cell_type": "code",
      "execution_count": null,
      "id": "cbf91fb7",
      "metadata": {
        "id": "cbf91fb7"
      },
      "outputs": [],
      "source": [
        "# Set logging for the queries\n",
        "import logging\n",
        "\n",
        "logging.basicConfig()\n",
        "logging.getLogger(\"langchain.retrievers.multi_query\").setLevel(logging.INFO)"
      ]
    },
    {
      "cell_type": "code",
      "execution_count": null,
      "id": "c05073f5",
      "metadata": {
        "id": "c05073f5",
        "outputId": "f28901c1-bc43-490f-cfbd-92b72dc20864"
      },
      "outputs": [
        {
          "name": "stderr",
          "output_type": "stream",
          "text": [
            "INFO:httpx:HTTP Request: POST https://api.openai.com/v1/chat/completions \"HTTP/1.1 200 OK\"\n",
            "INFO:langchain.retrievers.multi_query:Generated queries: ['1. What are the fundamental principles and essential steps followed by participants?', '2. Can you explain the main principles and significant actions taken by participants?', '3. Could you provide an overview of the core principles and key activities carried out by participants?']\n",
            "INFO:httpx:HTTP Request: POST https://api.openai.com/v1/embeddings \"HTTP/1.1 200 OK\"\n",
            "INFO:httpx:HTTP Request: POST https://api.openai.com/v1/embeddings \"HTTP/1.1 200 OK\"\n",
            "INFO:httpx:HTTP Request: POST https://api.openai.com/v1/embeddings \"HTTP/1.1 200 OK\"\n"
          ]
        },
        {
          "data": {
            "text/plain": [
              "5"
            ]
          },
          "execution_count": 200,
          "metadata": {},
          "output_type": "execute_result"
        }
      ],
      "source": [
        "unique_docs = retriever_from_llm.get_relevant_documents(query=question)\n",
        "len(unique_docs)"
      ]
    },
    {
      "cell_type": "code",
      "execution_count": null,
      "id": "0c075ba7",
      "metadata": {
        "id": "0c075ba7",
        "outputId": "6e3f3f9a-8f6f-49bf-9274-f70e430a9d2d"
      },
      "outputs": [
        {
          "data": {
            "text/plain": [
              "'96.1. Organizational and Co-ordinational Challenges\\nA community supported open-source development approach is quite an attractive proposition as it will \\nprovide the necessary bottom-up approach suggested in Key Actions 2.1 (Core Principle 2) and help to encourage highly talented data scientists, programmers, and digital technology experts to voluntarily participate in devising novels solutions in-line with Core Principle 3. However, it will be a highly challenging undertaking to organize and streamline these efforts. In the absence of a designated team, open-source development environment will lead to competing methods and products which will require efficient quality assurance and control mechanisms (QA/QC) (Core Principle 5). Similarly, a community-based development approach will impact efficiency in the development process, particularly if voluntary members are involved alongside research and academic institutions, who may not be able to deliver on desired targets and deadlines.'"
            ]
          },
          "execution_count": 390,
          "metadata": {},
          "output_type": "execute_result"
        }
      ],
      "source": [
        "unique_docs[3].page_content"
      ]
    },
    {
      "cell_type": "markdown",
      "id": "02380aa9",
      "metadata": {
        "id": "02380aa9"
      },
      "source": [
        "### 2.4. Compression du contexte"
      ]
    },
    {
      "cell_type": "markdown",
      "id": "4056d275",
      "metadata": {
        "id": "4056d275"
      },
      "source": [
        "Une autre approche pour améliorer la qualité de documents recupérés est la compression.\n",
        "L'information la plus pertinente par rapport à une requête peut être enfouie dans un document contenant beaucoup de texte non pertinent.\n",
        "Faire passer ce document complet à travers votre application peut entraîner des appels LLM plus coûteux et des réponses moins précises.\n",
        "La compression contextuelle est conçue pour résoudre ce problème."
      ]
    },
    {
      "cell_type": "code",
      "execution_count": null,
      "id": "d89a0004",
      "metadata": {
        "id": "d89a0004"
      },
      "outputs": [],
      "source": [
        "from langchain.retrievers import ContextualCompressionRetriever\n",
        "from langchain.retrievers.document_compressors import LLMChainExtractor"
      ]
    },
    {
      "cell_type": "code",
      "execution_count": null,
      "id": "a92fb2bc",
      "metadata": {
        "id": "a92fb2bc"
      },
      "outputs": [],
      "source": [
        "def pretty_print_docs(docs):\n",
        "    print(f\"\\n{'-' * 100}\\n\".join([f\"Document {i+1}:\\n\\n\" + d.page_content for i, d in enumerate(docs)]))"
      ]
    },
    {
      "cell_type": "code",
      "execution_count": null,
      "id": "954df646",
      "metadata": {
        "id": "954df646"
      },
      "outputs": [],
      "source": [
        "# Wrap our vectorstore\n",
        "llm = OpenAI(temperature=0)\n",
        "compressor = LLMChainExtractor.from_llm(llm)"
      ]
    },
    {
      "cell_type": "code",
      "execution_count": null,
      "id": "5fb1f81b",
      "metadata": {
        "id": "5fb1f81b"
      },
      "outputs": [],
      "source": [
        "compression_retriever = ContextualCompressionRetriever(\n",
        "    base_compressor=compressor,\n",
        "    base_retriever=db.as_retriever()\n",
        ")"
      ]
    },
    {
      "cell_type": "code",
      "execution_count": null,
      "id": "6c54a5a1",
      "metadata": {
        "id": "6c54a5a1",
        "outputId": "b2b98842-dc45-403f-b03f-2cd73465c232"
      },
      "outputs": [
        {
          "name": "stderr",
          "output_type": "stream",
          "text": [
            "INFO:httpx:HTTP Request: POST https://api.openai.com/v1/embeddings \"HTTP/1.1 200 OK\"\n",
            "C:\\Users\\sonny\\anaconda3\\envs\\pytorch_env\\Lib\\site-packages\\langchain\\chains\\llm.py:316: UserWarning: The predict_and_parse method is deprecated, instead pass an output parser directly to LLMChain.\n",
            "  warnings.warn(\n",
            "INFO:httpx:HTTP Request: POST https://api.openai.com/v1/completions \"HTTP/1.1 200 OK\"\n",
            "C:\\Users\\sonny\\anaconda3\\envs\\pytorch_env\\Lib\\site-packages\\langchain\\chains\\llm.py:316: UserWarning: The predict_and_parse method is deprecated, instead pass an output parser directly to LLMChain.\n",
            "  warnings.warn(\n",
            "INFO:httpx:HTTP Request: POST https://api.openai.com/v1/completions \"HTTP/1.1 200 OK\"\n",
            "C:\\Users\\sonny\\anaconda3\\envs\\pytorch_env\\Lib\\site-packages\\langchain\\chains\\llm.py:316: UserWarning: The predict_and_parse method is deprecated, instead pass an output parser directly to LLMChain.\n",
            "  warnings.warn(\n",
            "INFO:httpx:HTTP Request: POST https://api.openai.com/v1/completions \"HTTP/1.1 200 OK\"\n",
            "C:\\Users\\sonny\\anaconda3\\envs\\pytorch_env\\Lib\\site-packages\\langchain\\chains\\llm.py:316: UserWarning: The predict_and_parse method is deprecated, instead pass an output parser directly to LLMChain.\n",
            "  warnings.warn(\n",
            "INFO:httpx:HTTP Request: POST https://api.openai.com/v1/completions \"HTTP/1.1 200 OK\"\n"
          ]
        },
        {
          "name": "stdout",
          "output_type": "stream",
          "text": [
            "Document 1:\n",
            "\n",
            "5. Core Principles and Key Actions \n",
            "The experts identified several principles with a broad range of key actions in their responses.\n",
            "----------------------------------------------------------------------------------------------------\n",
            "Document 2:\n",
            "\n",
            "5. Core Principles and Key Actions \n",
            "The experts identified several principles with a broad range of key actions in their responses.\n",
            "----------------------------------------------------------------------------------------------------\n",
            "Document 3:\n",
            "\n",
            "5) Published voluntary codes of conduct can help in this respect, providing a reference point and allowing for accountability. 6) There needs to be a balance between free speech and action. 7) The interests of researchers, today and tomorrow, should be remembered.\n",
            "----------------------------------------------------------------------------------------------------\n",
            "Document 4:\n",
            "\n",
            "5) Published voluntary codes of conduct can help in this respect, providing a reference point and allowing for accountability. 6) There needs to be a balance between free speech and action. 7) The interests of researchers, today and tomorrow, should be remembered.\n"
          ]
        }
      ],
      "source": [
        "question = \"What are the core principles and key actions of participants ?\"\n",
        "compressed_docs = compression_retriever.get_relevant_documents(question)\n",
        "pretty_print_docs(compressed_docs)"
      ]
    },
    {
      "cell_type": "markdown",
      "id": "61be9e21",
      "metadata": {
        "id": "61be9e21"
      },
      "source": [
        "### 2.5. Multi-vector retrievers\n",
        "\n",
        "Il est souvent bénéfique d'avoir de stocker plusieurs embeddings pour un seul document. Les Multi-vector retrievers permettent la recherche lorsque q'un document peut avoir plusieurs embeddings."
      ]
    },
    {
      "cell_type": "markdown",
      "id": "340e2db2",
      "metadata": {
        "id": "340e2db2"
      },
      "source": [
        "#### 2.5.1. ParentDocument Retriever\n",
        "\n",
        "L'idées est de diviser un document en sous-documents plus petits et à en créer des embeddings."
      ]
    },
    {
      "cell_type": "code",
      "execution_count": null,
      "id": "17be675e",
      "metadata": {
        "id": "17be675e"
      },
      "outputs": [],
      "source": [
        "from langchain.retrievers import ParentDocumentRetriever"
      ]
    },
    {
      "cell_type": "code",
      "execution_count": null,
      "id": "98d82026",
      "metadata": {
        "id": "98d82026"
      },
      "outputs": [],
      "source": [
        "from langchain.document_loaders import TextLoader\n",
        "from langchain.embeddings import OpenAIEmbeddings\n",
        "from langchain.storage import InMemoryStore\n",
        "from langchain.text_splitter import RecursiveCharacterTextSplitter\n",
        "from langchain.vectorstores import Chroma"
      ]
    },
    {
      "cell_type": "code",
      "execution_count": null,
      "id": "21d42bb2",
      "metadata": {
        "id": "21d42bb2"
      },
      "outputs": [],
      "source": [
        "# This text splitter is used to create the parent documents\n",
        "parent_splitter = RecursiveCharacterTextSplitter(chunk_size=2000)\n",
        "# This text splitter is used to create the child documents\n",
        "# It should create documents smaller than the parent\n",
        "child_splitter = RecursiveCharacterTextSplitter(chunk_size=400)\n",
        "# The vectorstore to use to index the child chunks\n",
        "vectorstore = Chroma(\n",
        "    collection_name=\"split_parents\", embedding_function=OpenAIEmbeddings()\n",
        ")\n",
        "# The storage layer for the parent documents\n",
        "store = InMemoryStore()"
      ]
    },
    {
      "cell_type": "code",
      "execution_count": null,
      "id": "81b2c08f",
      "metadata": {
        "id": "81b2c08f"
      },
      "outputs": [],
      "source": [
        "retriever = ParentDocumentRetriever(\n",
        "    vectorstore=vectorstore,\n",
        "    docstore=store,\n",
        "    child_splitter=child_splitter,\n",
        "    parent_splitter=parent_splitter,\n",
        ")"
      ]
    },
    {
      "cell_type": "code",
      "execution_count": null,
      "id": "49a30ca5",
      "metadata": {
        "id": "49a30ca5",
        "outputId": "5d850327-4d2a-4a03-9ea2-c88c24459013"
      },
      "outputs": [
        {
          "name": "stderr",
          "output_type": "stream",
          "text": [
            "INFO:httpx:HTTP Request: POST https://api.openai.com/v1/embeddings \"HTTP/1.1 200 OK\"\n"
          ]
        }
      ],
      "source": [
        "retriever.add_documents(docs)"
      ]
    },
    {
      "cell_type": "code",
      "execution_count": null,
      "id": "0255a5e0",
      "metadata": {
        "id": "0255a5e0",
        "outputId": "bba2c5b9-5753-4ae8-ce85-181cba9095f6"
      },
      "outputs": [
        {
          "data": {
            "text/plain": [
              "4"
            ]
          },
          "execution_count": 400,
          "metadata": {},
          "output_type": "execute_result"
        }
      ],
      "source": [
        "len(list(store.yield_keys()))"
      ]
    },
    {
      "cell_type": "code",
      "execution_count": null,
      "id": "c01375cf",
      "metadata": {
        "id": "c01375cf",
        "outputId": "4e77a15c-dc26-4ca1-f1fd-b45d3c1454db"
      },
      "outputs": [
        {
          "name": "stderr",
          "output_type": "stream",
          "text": [
            "INFO:httpx:HTTP Request: POST https://api.openai.com/v1/embeddings \"HTTP/1.1 200 OK\"\n"
          ]
        }
      ],
      "source": [
        "sub_docs = vectorstore.similarity_search(\"Chinese Academy\")"
      ]
    },
    {
      "cell_type": "code",
      "execution_count": null,
      "id": "8dbadc05",
      "metadata": {
        "id": "8dbadc05",
        "outputId": "de7c2399-eae7-4337-8850-54057d3b9e38"
      },
      "outputs": [
        {
          "name": "stdout",
          "output_type": "stream",
          "text": [
            "voluntarily participate in devising novels solutions in-line with Core Principle 3. However, it will be a highly challenging undertaking to organize and streamline these efforts. In the absence of a designated team, open-source development environment will lead to competing methods and products which will require efficient quality assurance and control mechanisms (QA/QC) (Core Principle 5).\n"
          ]
        }
      ],
      "source": [
        "print(sub_docs[0].page_content)"
      ]
    },
    {
      "cell_type": "code",
      "execution_count": null,
      "id": "7b3e9e19",
      "metadata": {
        "id": "7b3e9e19",
        "outputId": "d65da7a3-8148-48c9-893e-f1b3e693fe6b"
      },
      "outputs": [
        {
          "name": "stderr",
          "output_type": "stream",
          "text": [
            "INFO:httpx:HTTP Request: POST https://api.openai.com/v1/embeddings \"HTTP/1.1 200 OK\"\n"
          ]
        }
      ],
      "source": [
        "retrieved_docs = retriever.get_relevant_documents(\"Chinese Academy\")"
      ]
    },
    {
      "cell_type": "code",
      "execution_count": null,
      "id": "a118a9e9",
      "metadata": {
        "id": "a118a9e9",
        "outputId": "111d72ad-0c11-4414-9d00-8d7646004e0d"
      },
      "outputs": [
        {
          "data": {
            "text/plain": [
              "997"
            ]
          },
          "execution_count": 222,
          "metadata": {},
          "output_type": "execute_result"
        }
      ],
      "source": [
        "len(retrieved_docs[0].page_content)"
      ]
    },
    {
      "cell_type": "code",
      "execution_count": null,
      "id": "6c2344ff",
      "metadata": {
        "id": "6c2344ff",
        "outputId": "cea086cc-dd4f-4036-dbba-83e13dfc3f90"
      },
      "outputs": [
        {
          "name": "stdout",
          "output_type": "stream",
          "text": [
            "7challenges. Secondly, improvement of global scientific and technical capabilities through an open science \n",
            "approach was extensively suggested by different experts in several of the responses received. Table 1 provides a summarized list of Core Principles with associated Key Actions to facilitate and guide the development process of proposed digital public goods for SDG indicators. \n",
            "Table 1: Core Principles and Key Actions suggested by experts for developing digital public goods for \n",
            "SDG Indicators\n",
            "Core Principles Key Actions\n",
            "1Universality of science1.1 Promote open science, open data, and open knowledge\n",
            "1.2Encourage scientific partnerships, collaborations, and cooperation and \n",
            "multi-disciplinary stakeholder engagements\n",
            "2The digital public goods should be scalable 2.1Development process of digital public goods for SDG indicators should incorporate multi-stakeholder engagement and a mechanism for a bottom to top approach\n"
          ]
        }
      ],
      "source": [
        "print(retrieved_docs[0].page_content)"
      ]
    },
    {
      "cell_type": "markdown",
      "id": "249e84e9",
      "metadata": {
        "id": "249e84e9"
      },
      "source": [
        "#### 2.5.2. Summary Retriever"
      ]
    },
    {
      "cell_type": "markdown",
      "id": "6685ff8f",
      "metadata": {
        "id": "6685ff8f"
      },
      "source": [
        "Créer un résumé pour chaque document et en créer des embeddings avec (ou à la place) du document"
      ]
    },
    {
      "cell_type": "code",
      "execution_count": null,
      "id": "5b335bdc",
      "metadata": {
        "id": "5b335bdc"
      },
      "outputs": [],
      "source": [
        "from langchain.retrievers.multi_vector import MultiVectorRetriever"
      ]
    },
    {
      "cell_type": "code",
      "execution_count": null,
      "id": "7b989f8e",
      "metadata": {
        "id": "7b989f8e"
      },
      "outputs": [],
      "source": [
        "from langchain.document_loaders import TextLoader\n",
        "from langchain.embeddings import OpenAIEmbeddings\n",
        "from langchain.storage import InMemoryByteStore\n",
        "from langchain.text_splitter import RecursiveCharacterTextSplitter\n",
        "from langchain.vectorstores import Chroma"
      ]
    },
    {
      "cell_type": "code",
      "execution_count": null,
      "id": "7b26d539",
      "metadata": {
        "id": "7b26d539"
      },
      "outputs": [],
      "source": [
        "import uuid\n",
        "\n",
        "from langchain.chat_models import ChatOpenAI\n",
        "from langchain.prompts import ChatPromptTemplate\n",
        "from langchain_core.documents import Document\n",
        "from langchain_core.output_parsers import StrOutputParser"
      ]
    },
    {
      "cell_type": "code",
      "execution_count": null,
      "id": "08212f48",
      "metadata": {
        "id": "08212f48"
      },
      "outputs": [],
      "source": [
        "chain = (\n",
        "    {\"doc\": lambda x: x.page_content}\n",
        "    | ChatPromptTemplate.from_template(\"Summarize the following document:\\n\\n{doc}\")\n",
        "    | ChatOpenAI(max_retries=0)\n",
        "    | StrOutputParser()\n",
        ")"
      ]
    },
    {
      "cell_type": "code",
      "execution_count": null,
      "id": "6e89e6c2",
      "metadata": {
        "id": "6e89e6c2",
        "outputId": "b5a86e85-9aa1-40b4-e60e-c3aabe60eb15"
      },
      "outputs": [
        {
          "name": "stderr",
          "output_type": "stream",
          "text": [
            "INFO:httpx:HTTP Request: POST https://api.openai.com/v1/chat/completions \"HTTP/1.1 200 OK\"\n",
            "INFO:httpx:HTTP Request: POST https://api.openai.com/v1/chat/completions \"HTTP/1.1 200 OK\"\n",
            "INFO:httpx:HTTP Request: POST https://api.openai.com/v1/chat/completions \"HTTP/1.1 200 OK\"\n",
            "INFO:httpx:HTTP Request: POST https://api.openai.com/v1/chat/completions \"HTTP/1.1 200 OK\"\n"
          ]
        }
      ],
      "source": [
        "summaries = chain.batch(docs, {\"max_concurrency\": 5})"
      ]
    },
    {
      "cell_type": "code",
      "execution_count": null,
      "id": "43dc8af6",
      "metadata": {
        "id": "43dc8af6"
      },
      "outputs": [],
      "source": [
        "# The vectorstore to use to index the child chunks\n",
        "vectorstore = Chroma(collection_name=\"summaries\", embedding_function=OpenAIEmbeddings())\n",
        "# The storage layer for the parent documents\n",
        "store = InMemoryByteStore()\n",
        "id_key = \"doc_id\"\n",
        "# The retriever (empty to start)\n",
        "retriever = MultiVectorRetriever(\n",
        "    vectorstore=vectorstore,\n",
        "    byte_store=store,\n",
        "    id_key=id_key,\n",
        ")\n",
        "doc_ids = [str(uuid.uuid4()) for _ in docs]"
      ]
    },
    {
      "cell_type": "code",
      "execution_count": null,
      "id": "138e7d28",
      "metadata": {
        "id": "138e7d28"
      },
      "outputs": [],
      "source": [
        "summary_docs = [\n",
        "    Document(page_content=s, metadata={id_key: doc_ids[i]})\n",
        "    for i, s in enumerate(summaries)\n",
        "]"
      ]
    },
    {
      "cell_type": "code",
      "execution_count": null,
      "id": "c1025b83",
      "metadata": {
        "id": "c1025b83",
        "outputId": "d2199005-3cfb-4c6a-e51f-1c8eb673c204"
      },
      "outputs": [
        {
          "name": "stderr",
          "output_type": "stream",
          "text": [
            "INFO:httpx:HTTP Request: POST https://api.openai.com/v1/embeddings \"HTTP/1.1 200 OK\"\n"
          ]
        }
      ],
      "source": [
        "retriever.vectorstore.add_documents(summary_docs)\n",
        "retriever.docstore.mset(list(zip(doc_ids, docs)))"
      ]
    },
    {
      "cell_type": "code",
      "execution_count": null,
      "id": "c8f86fa7",
      "metadata": {
        "id": "c8f86fa7",
        "outputId": "fb43e044-903c-4595-829e-45e0cdc81868"
      },
      "outputs": [
        {
          "name": "stderr",
          "output_type": "stream",
          "text": [
            "INFO:httpx:HTTP Request: POST https://api.openai.com/v1/embeddings \"HTTP/1.1 200 OK\"\n"
          ]
        }
      ],
      "source": [
        "sub_docs = vectorstore.similarity_search(\"Chinese Academy of Science core principles and key actions\")"
      ]
    },
    {
      "cell_type": "code",
      "execution_count": null,
      "id": "5d88d4b2",
      "metadata": {
        "id": "5d88d4b2",
        "outputId": "c11afc2d-5586-44a7-f4aa-2e02240bc3f2"
      },
      "outputs": [
        {
          "data": {
            "text/plain": [
              "'The document discusses the challenges and suggested improvements for developing digital public goods for SDG indicators. One of the main challenges identified is the need to improve global scientific and technical capabilities through an open science approach. The document also provides a list of core principles and key actions suggested by experts for developing these digital public goods, including promoting open science, open data, and open knowledge, encouraging scientific partnerships and collaborations, and incorporating multi-stakeholder engagement in the development process.'"
            ]
          },
          "execution_count": 415,
          "metadata": {},
          "output_type": "execute_result"
        }
      ],
      "source": [
        "sub_docs[3].page_content"
      ]
    },
    {
      "cell_type": "markdown",
      "id": "0739b8dd",
      "metadata": {
        "id": "0739b8dd"
      },
      "source": [
        "#### 2.5.3. Hypothetical Questions"
      ]
    },
    {
      "cell_type": "markdown",
      "id": "be3dc58f",
      "metadata": {
        "id": "be3dc58f"
      },
      "source": [
        "Générer des questions hypothétiques appropriées pour chaque document et à en créer des embeddings avec (ou à la place) du document."
      ]
    },
    {
      "cell_type": "code",
      "execution_count": null,
      "id": "f67087fb",
      "metadata": {
        "id": "f67087fb"
      },
      "outputs": [],
      "source": [
        "functions = [\n",
        "    {\n",
        "        \"name\": \"hypothetical_questions\",\n",
        "        \"description\": \"Generate hypothetical questions\",\n",
        "        \"parameters\": {\n",
        "            \"type\": \"object\",\n",
        "            \"properties\": {\n",
        "                \"questions\": {\n",
        "                    \"type\": \"array\",\n",
        "                    \"items\": {\"type\": \"string\"},\n",
        "                },\n",
        "            },\n",
        "            \"required\": [\"questions\"],\n",
        "        },\n",
        "    }\n",
        "]"
      ]
    },
    {
      "cell_type": "code",
      "execution_count": null,
      "id": "d287d47b",
      "metadata": {
        "id": "d287d47b"
      },
      "outputs": [],
      "source": [
        "from langchain.output_parsers.openai_functions import JsonKeyOutputFunctionsParser\n",
        "\n",
        "chain = (\n",
        "    {\"doc\": lambda x: x.page_content}\n",
        "    # Only asking for 3 hypothetical questions, but this could be adjusted\n",
        "    | ChatPromptTemplate.from_template(\n",
        "        \"Generate a list of exactly 3 hypothetical questions that the below document could be used to answer:\\n\\n{doc}\"\n",
        "    )\n",
        "    | ChatOpenAI(max_retries=0, model=\"gpt-4\").bind(\n",
        "        functions=functions, function_call={\"name\": \"hypothetical_questions\"}\n",
        "    )\n",
        "    | JsonKeyOutputFunctionsParser(key_name=\"questions\")\n",
        ")"
      ]
    },
    {
      "cell_type": "code",
      "execution_count": null,
      "id": "25f692d8",
      "metadata": {
        "id": "25f692d8",
        "outputId": "3afc8ea8-180d-4168-a36a-34115da03c7a"
      },
      "outputs": [
        {
          "name": "stderr",
          "output_type": "stream",
          "text": [
            "INFO:httpx:HTTP Request: POST https://api.openai.com/v1/chat/completions \"HTTP/1.1 200 OK\"\n"
          ]
        },
        {
          "data": {
            "text/plain": [
              "['What core principles and key actions did the experts identify for the development and utility of digital public goods for SDG indicators?',\n",
              " 'How can publicly accessible information promote awareness, knowledge, and research according to the experts?',\n",
              " 'In what ways does the FAIR Guiding Principles support scientific data management and stewardship?']"
            ]
          },
          "execution_count": 418,
          "metadata": {},
          "output_type": "execute_result"
        }
      ],
      "source": [
        "chain.invoke(docs[0])"
      ]
    },
    {
      "cell_type": "code",
      "execution_count": null,
      "id": "e6d77ad1",
      "metadata": {
        "id": "e6d77ad1",
        "outputId": "4eb3075a-18ef-4496-9102-d822c5eda48f"
      },
      "outputs": [
        {
          "name": "stderr",
          "output_type": "stream",
          "text": [
            "INFO:httpx:HTTP Request: POST https://api.openai.com/v1/chat/completions \"HTTP/1.1 200 OK\"\n",
            "INFO:httpx:HTTP Request: POST https://api.openai.com/v1/chat/completions \"HTTP/1.1 200 OK\"\n",
            "INFO:httpx:HTTP Request: POST https://api.openai.com/v1/chat/completions \"HTTP/1.1 200 OK\"\n",
            "INFO:httpx:HTTP Request: POST https://api.openai.com/v1/chat/completions \"HTTP/1.1 200 OK\"\n"
          ]
        }
      ],
      "source": [
        "hypothetical_questions = chain.batch(docs, {\"max_concurrency\": 5})"
      ]
    },
    {
      "cell_type": "code",
      "execution_count": null,
      "id": "7f6b00e9",
      "metadata": {
        "id": "7f6b00e9"
      },
      "outputs": [],
      "source": [
        "# The vectorstore to use to index the child chunks\n",
        "vectorstore = Chroma(\n",
        "    collection_name=\"hypo-questions\", embedding_function=OpenAIEmbeddings()\n",
        ")\n",
        "# The storage layer for the parent documents\n",
        "store = InMemoryByteStore()\n",
        "id_key = \"doc_id\"\n",
        "# The retriever (empty to start)\n",
        "retriever = MultiVectorRetriever(\n",
        "    vectorstore=vectorstore,\n",
        "    byte_store=store,\n",
        "    id_key=id_key,\n",
        ")\n",
        "doc_ids = [str(uuid.uuid4()) for _ in docs]"
      ]
    },
    {
      "cell_type": "code",
      "execution_count": null,
      "id": "2a6215f0",
      "metadata": {
        "id": "2a6215f0"
      },
      "outputs": [],
      "source": [
        "question_docs = []\n",
        "for i, question_list in enumerate(hypothetical_questions):\n",
        "    question_docs.extend(\n",
        "        [Document(page_content=s, metadata={id_key: doc_ids[i]}) for s in question_list]\n",
        "    )"
      ]
    },
    {
      "cell_type": "code",
      "execution_count": null,
      "id": "b9d19463",
      "metadata": {
        "id": "b9d19463",
        "outputId": "450f12c2-4794-4766-8481-57194836fddf"
      },
      "outputs": [
        {
          "name": "stderr",
          "output_type": "stream",
          "text": [
            "INFO:httpx:HTTP Request: POST https://api.openai.com/v1/embeddings \"HTTP/1.1 200 OK\"\n"
          ]
        }
      ],
      "source": [
        "retriever.vectorstore.add_documents(question_docs)\n",
        "retriever.docstore.mset(list(zip(doc_ids, docs)))"
      ]
    },
    {
      "cell_type": "code",
      "execution_count": null,
      "id": "c39d9498",
      "metadata": {
        "id": "c39d9498",
        "outputId": "1769b859-c225-4868-fbec-e490c31f6171"
      },
      "outputs": [
        {
          "data": {
            "text/plain": [
              "[['What are the core principles suggested by experts for the development and utility of digital public goods for SDG indicators?',\n",
              "  'How does the public accessibility of information promote awareness, knowledge, and research in the context of digital public goods for SDG indicators?',\n",
              "  'What are the key actions suggested by experts to encourage innovative solutions to global and regional challenges?'],\n",
              " ['What are the suggested core principles and key actions for developing digital public goods for SDG indicators?',\n",
              "  'How can the universality of science be promoted and encouraged in the development of digital public goods for SDG indicators?',\n",
              "  'What considerations should be made to ensure the scalability of digital public goods for SDG indicators?'],\n",
              " ['What kind of support can digital public goods approved at Lv 2 receive?',\n",
              "  'What is the purpose of the community developed user-oriented training program?',\n",
              "  'How does the training program support Core Principle 6?'],\n",
              " ['What could be the challenges of organizing and streamlining efforts in a community supported open-source development approach?',\n",
              "  'How can the absence of a designated team in an open-source development environment lead to competing methods and products?',\n",
              "  'What impact can a community-based development approach have on efficiency, especially when involving voluntary members and research or academic institutions?']]"
            ]
          },
          "execution_count": 255,
          "metadata": {},
          "output_type": "execute_result"
        }
      ],
      "source": [
        "hypothetical_questions"
      ]
    },
    {
      "cell_type": "code",
      "execution_count": null,
      "id": "a3bbb979",
      "metadata": {
        "id": "a3bbb979",
        "outputId": "06a66917-b7ed-4485-cf7a-5df2079962c6"
      },
      "outputs": [
        {
          "name": "stderr",
          "output_type": "stream",
          "text": [
            "INFO:httpx:HTTP Request: POST https://api.openai.com/v1/embeddings \"HTTP/1.1 200 OK\"\n"
          ]
        }
      ],
      "source": [
        "sub_docs = vectorstore.similarity_search(\"Chinese Academy\")"
      ]
    },
    {
      "cell_type": "code",
      "execution_count": null,
      "id": "70153538",
      "metadata": {
        "id": "70153538",
        "outputId": "3062c13d-cde8-49d7-8eec-81680901f836"
      },
      "outputs": [
        {
          "data": {
            "text/plain": [
              "[Document(page_content='How can the universality of science be promoted and encouraged in the development of digital public goods for SDG indicators?', metadata={'doc_id': '326c9112-ad0e-4639-8ce0-a0904773ca43'}),\n",
              " Document(page_content='What are the key actions suggested by experts to encourage innovative solutions to global and regional challenges?', metadata={'doc_id': '4f21f737-3b11-4cf4-9812-3b399b046186'}),\n",
              " Document(page_content='What are the core principles suggested by experts for the development and utility of digital public goods for SDG indicators?', metadata={'doc_id': '4f21f737-3b11-4cf4-9812-3b399b046186'}),\n",
              " Document(page_content='What impact can a community-based development approach have on efficiency, especially when involving voluntary members and research or academic institutions?', metadata={'doc_id': '7f585b8a-7c64-40ab-ac8f-e639ffc21e66'})]"
            ]
          },
          "execution_count": 259,
          "metadata": {},
          "output_type": "execute_result"
        }
      ],
      "source": [
        "sub_docs"
      ]
    },
    {
      "cell_type": "code",
      "execution_count": null,
      "id": "82e59a6e",
      "metadata": {
        "id": "82e59a6e",
        "outputId": "4cd94139-42a5-4c2e-965a-ac006950cd8f"
      },
      "outputs": [
        {
          "name": "stderr",
          "output_type": "stream",
          "text": [
            "INFO:httpx:HTTP Request: POST https://api.openai.com/v1/embeddings \"HTTP/1.1 200 OK\"\n"
          ]
        }
      ],
      "source": [
        "retrieved_docs = retriever.get_relevant_documents(\"Chinese Academy\")"
      ]
    },
    {
      "cell_type": "code",
      "execution_count": null,
      "id": "2114eb51",
      "metadata": {
        "id": "2114eb51",
        "outputId": "e0f69780-ccce-4f6d-8a11-6145eef9743d"
      },
      "outputs": [
        {
          "name": "stdout",
          "output_type": "stream",
          "text": [
            "7challenges. Secondly, improvement of global scientific and technical capabilities through an open science \n",
            "approach was extensively suggested by different experts in several of the responses received. Table 1 provides a summarized list of Core Principles with associated Key Actions to facilitate and guide the development process of proposed digital public goods for SDG indicators. \n",
            "Table 1: Core Principles and Key Actions suggested by experts for developing digital public goods for \n",
            "SDG Indicators\n",
            "Core Principles Key Actions\n",
            "1Universality of science1.1 Promote open science, open data, and open knowledge\n",
            "1.2Encourage scientific partnerships, collaborations, and cooperation and \n",
            "multi-disciplinary stakeholder engagements\n",
            "2The digital public goods should be scalable 2.1Development process of digital public goods for SDG indicators should incorporate multi-stakeholder engagement and a mechanism for a bottom to top approach\n"
          ]
        }
      ],
      "source": [
        "print(retrieved_docs[0].page_content)"
      ]
    },
    {
      "cell_type": "markdown",
      "id": "3c0726a4",
      "metadata": {
        "id": "3c0726a4"
      },
      "source": [
        "## 3. Chaines de réponses aux questions"
      ]
    },
    {
      "cell_type": "markdown",
      "id": "0d8abe62",
      "metadata": {
        "id": "0d8abe62"
      },
      "source": [
        "### 3.1 RetrievalQA Chain"
      ]
    },
    {
      "cell_type": "code",
      "execution_count": null,
      "id": "b48d2018",
      "metadata": {
        "id": "b48d2018"
      },
      "outputs": [],
      "source": [
        "from langchain.chains import RetrievalQA"
      ]
    },
    {
      "cell_type": "code",
      "execution_count": null,
      "id": "19f14806",
      "metadata": {
        "id": "19f14806"
      },
      "outputs": [],
      "source": [
        "qa_chain = RetrievalQA.from_chain_type(\n",
        "    llm,\n",
        "    retriever=db.as_retriever()\n",
        ")"
      ]
    },
    {
      "cell_type": "code",
      "execution_count": null,
      "id": "4d60ec3e",
      "metadata": {
        "id": "4d60ec3e"
      },
      "outputs": [],
      "source": [
        "question = \"What are the core principles and key actions of the ICC BASIS Input to the Global Digital Compact ?\""
      ]
    },
    {
      "cell_type": "code",
      "execution_count": null,
      "id": "c7f3a74a",
      "metadata": {
        "id": "c7f3a74a",
        "outputId": "b475cc33-85eb-42c4-a71e-01d656fdf46e"
      },
      "outputs": [
        {
          "name": "stderr",
          "output_type": "stream",
          "text": [
            "INFO:httpx:HTTP Request: POST https://api.openai.com/v1/embeddings \"HTTP/1.1 200 OK\"\n",
            "INFO:httpx:HTTP Request: POST https://api.openai.com/v1/completions \"HTTP/1.1 200 OK\"\n"
          ]
        }
      ],
      "source": [
        "result = qa_chain({\"query\": question})"
      ]
    },
    {
      "cell_type": "code",
      "execution_count": null,
      "id": "ea374136",
      "metadata": {
        "id": "ea374136",
        "outputId": "b7dacc3c-4239-4c1b-9e25-2df2a602e1ed"
      },
      "outputs": [
        {
          "data": {
            "text/plain": [
              "' The core principles of the ICC BASIS Input to the Global Digital Compact are that policy and regulatory mechanisms should promote the value of the entire communications and digital services ecosystem, and that policies should be non-discriminatory, technology-neutral, and supportive of innovative digital literacy, trust, and online environments free from harassment, discrimination and violence. The key actions are to commit to preserving and strengthening the multistakeholder model, and to ensure meaningful participation of stakeholders from the global South and other typically under-represented groups in global public policymaking pertaining to the Internet. Thanks for asking!'"
            ]
          },
          "execution_count": 422,
          "metadata": {},
          "output_type": "execute_result"
        }
      ],
      "source": [
        "result[\"result\"]"
      ]
    },
    {
      "cell_type": "code",
      "execution_count": null,
      "id": "cdc56332",
      "metadata": {
        "id": "cdc56332"
      },
      "outputs": [],
      "source": [
        "## Prompt"
      ]
    },
    {
      "cell_type": "code",
      "execution_count": null,
      "id": "3f1197d9",
      "metadata": {
        "id": "3f1197d9"
      },
      "outputs": [],
      "source": [
        "from langchain.prompts import PromptTemplate\n",
        "\n",
        "# Build prompt\n",
        "template = \"\"\"Use the following pieces of context to answer the question at the end. If you don't know the answer, just say that you don't know, don't try to make up an answer. Use three sentences maximum. Keep the answer as concise as possible. Always say \"thanks for asking!\" at the end of the answer.\n",
        "{context}\n",
        "Question: {question}\n",
        "Helpful Answer:\"\"\"\n",
        "QA_CHAIN_PROMPT = PromptTemplate.from_template(template)"
      ]
    },
    {
      "cell_type": "code",
      "execution_count": null,
      "id": "0a8a8e0c",
      "metadata": {
        "id": "0a8a8e0c"
      },
      "outputs": [],
      "source": [
        "# Run chain\n",
        "qa_chain = RetrievalQA.from_chain_type(\n",
        "    llm,\n",
        "    retriever=db.as_retriever(),\n",
        "    return_source_documents=True,\n",
        "    chain_type_kwargs={\"prompt\": QA_CHAIN_PROMPT}\n",
        ")"
      ]
    },
    {
      "cell_type": "code",
      "execution_count": null,
      "id": "e7b1f480",
      "metadata": {
        "id": "e7b1f480"
      },
      "outputs": [],
      "source": [
        "question = \"What are the core principles and key actions of the ICC BASIS Input to the Global Digital Compact ?\""
      ]
    },
    {
      "cell_type": "code",
      "execution_count": null,
      "id": "0af822fe",
      "metadata": {
        "id": "0af822fe",
        "outputId": "a8a81879-812d-4b95-ddb3-eda966845730"
      },
      "outputs": [
        {
          "name": "stderr",
          "output_type": "stream",
          "text": [
            "INFO:httpx:HTTP Request: POST https://api.openai.com/v1/embeddings \"HTTP/1.1 200 OK\"\n",
            "INFO:httpx:HTTP Request: POST https://api.openai.com/v1/completions \"HTTP/1.1 200 OK\"\n"
          ]
        }
      ],
      "source": [
        "result = qa_chain({\"query\": question})"
      ]
    },
    {
      "cell_type": "code",
      "execution_count": null,
      "id": "a8a5b4ae",
      "metadata": {
        "id": "a8a5b4ae",
        "outputId": "0f7dde88-92bf-413f-e764-39604cfc4520"
      },
      "outputs": [
        {
          "data": {
            "text/plain": [
              "' The core principles of the ICC BASIS Input to the Global Digital Compact are that policy and regulatory mechanisms should promote the value of the entire communications and digital services ecosystem, and that policies should be non-discriminatory, technology-neutral, and supportive of innovative digital literacy, trust, and online environments free from harassment, discrimination and violence. The key actions are to commit to preserving and strengthening the multistakeholder model, and to ensure meaningful participation of stakeholders from the global South and other typically under-represented groups in global public policymaking pertaining to the Internet. Thanks for asking!'"
            ]
          },
          "execution_count": 428,
          "metadata": {},
          "output_type": "execute_result"
        }
      ],
      "source": [
        "result[\"result\"]"
      ]
    },
    {
      "cell_type": "code",
      "execution_count": null,
      "id": "43266189",
      "metadata": {
        "id": "43266189",
        "outputId": "54600564-696c-4fd4-ebd3-efacb9d7015b"
      },
      "outputs": [
        {
          "data": {
            "text/plain": [
              "Document(page_content='August 2022   | ICC BASIS input to GDC consultation  | 1 \\n \\n  \\n \\n \\n              \\n \\n \\nICC BASIS Input to the Global Digital Compact  \\n1. Connect all people to the internet, including all schools  \\na) Core Principles  \\n \\nDelivering universal meaningful connectivity requires effective action on all three layers of the ICT \\necosystem: accessible and affordable infrastructure and devices; appropriate applications and \\nservices built upon the infrastructure; and user ability to use a device and understand the features \\nof these applications and services. As stated in the ICC White Paper on Delivering Universal \\nMeaningful Connectivity  this would require policymaking grounded on two basic principles:  \\n1. Policy and regulatory mechanisms should promote the value of the entire communications \\nand digital services ecosystem.  \\n2. Policies should be non -d iscriminatory, technology -neutral, and supportive of innovative', metadata={'page': 0, 'source': 'document_loaders\\\\pdfs\\\\221011_International_Chamber_of_Commerce.pdf', 'start_index': 0})"
            ]
          },
          "execution_count": 429,
          "metadata": {},
          "output_type": "execute_result"
        }
      ],
      "source": [
        "result[\"source_documents\"][0]"
      ]
    },
    {
      "cell_type": "code",
      "execution_count": null,
      "id": "666ed4f0",
      "metadata": {
        "id": "666ed4f0"
      },
      "outputs": [],
      "source": [
        "### Optimisation du contexte"
      ]
    },
    {
      "cell_type": "markdown",
      "id": "5ff38c19",
      "metadata": {
        "id": "5ff38c19"
      },
      "source": [
        "On peut utiliser plusieurs types de chaines RetrievalQA pour optimiser le contexte :\n",
        "- refine\n",
        "- map_reduce\n",
        "- map_rerank"
      ]
    },
    {
      "cell_type": "code",
      "execution_count": null,
      "id": "98455977",
      "metadata": {
        "id": "98455977"
      },
      "outputs": [],
      "source": [
        "# Refine"
      ]
    },
    {
      "cell_type": "code",
      "execution_count": null,
      "id": "f4993584",
      "metadata": {
        "id": "f4993584",
        "outputId": "e802705e-03af-4591-a76e-369fbeaa58ca"
      },
      "outputs": [
        {
          "name": "stderr",
          "output_type": "stream",
          "text": [
            "INFO:httpx:HTTP Request: POST https://api.openai.com/v1/embeddings \"HTTP/1.1 200 OK\"\n",
            "INFO:httpx:HTTP Request: POST https://api.openai.com/v1/completions \"HTTP/1.1 200 OK\"\n",
            "INFO:httpx:HTTP Request: POST https://api.openai.com/v1/completions \"HTTP/1.1 200 OK\"\n",
            "INFO:httpx:HTTP Request: POST https://api.openai.com/v1/completions \"HTTP/1.1 200 OK\"\n",
            "INFO:httpx:HTTP Request: POST https://api.openai.com/v1/completions \"HTTP/1.1 200 OK\"\n"
          ]
        },
        {
          "data": {
            "text/plain": [
              "'\\n\\nThe core principles of the ICC BASIS Input to the Global Digital Compact are: \\n1. Policy and regulatory mechanisms should promote the value of the entire communications and digital services ecosystem. \\n2. Policies should be non-discriminatory, technology-neutral, and supportive of innovative. \\n3. Commit to digital literacy, trust, and online environments free from harassment, discrimination and violence.\\n4. Commit to preserve and strengthen the multistakeholder model, particularly by ensuring that UN policymaking processes are more diverse, equitable, and inclusive, and that existing fora tasked with Internet governance challenges, such as the Internet Governance Forum (IGF), are further strengthened with appropriate human resources and funding. Meaningful participation of interested and informed stakeholders is essential to ensure that outcomes are both effective and accepted. It is particularly important to ensure the meaningful participation of stakeholders from the global South and other typically under-represented groups in global public policymaking pertaining to the Internet, including women.\\n\\nThe key actions of the ICC BASIS Input to the Global Digital Compact are: \\n1. Connect all people to the internet, including all schools. \\n2. Develop accessible and affordable infrastructure and devices. \\n3. Create appropriate applications and services'"
            ]
          },
          "execution_count": 430,
          "metadata": {},
          "output_type": "execute_result"
        }
      ],
      "source": [
        "qa_chain_refine = RetrievalQA.from_chain_type(\n",
        "    llm,\n",
        "    retriever=db.as_retriever(),\n",
        "    chain_type=\"refine\"\n",
        ")\n",
        "result = qa_chain_refine({\"query\": question})\n",
        "result[\"result\"]"
      ]
    },
    {
      "cell_type": "code",
      "execution_count": null,
      "id": "9fb35a67",
      "metadata": {
        "id": "9fb35a67"
      },
      "outputs": [],
      "source": [
        "# Map Reduce"
      ]
    },
    {
      "cell_type": "code",
      "execution_count": null,
      "id": "adc42aca",
      "metadata": {
        "id": "adc42aca",
        "outputId": "da71cc14-63b6-4d3b-a8e6-f732b7780e01"
      },
      "outputs": [
        {
          "name": "stderr",
          "output_type": "stream",
          "text": [
            "INFO:httpx:HTTP Request: POST https://api.openai.com/v1/embeddings \"HTTP/1.1 200 OK\"\n",
            "INFO:httpx:HTTP Request: POST https://api.openai.com/v1/completions \"HTTP/1.1 200 OK\"\n",
            "INFO:httpx:HTTP Request: POST https://api.openai.com/v1/completions \"HTTP/1.1 200 OK\"\n"
          ]
        },
        {
          "data": {
            "text/plain": [
              "\" The core principles of the ICC BASIS Input to the Global Digital Compact are that policy and regulatory mechanisms should promote the value of the entire communications and digital services ecosystem, and that policies should be non-discriminatory, technology-neutral, and supportive of innovative. The key actions include digital literacy, trust, and online environments free from harassment, discrimination and violence, preserving and strengthening the multistakeholder model, meaningful participation of stakeholders from the global South and other typically under-represented groups in global public policymaking, private investments and public funding mechanisms informed by accurate information and reliable data, and reiterating member states' shared commitment to bridging both the coverage and usage gaps.\""
            ]
          },
          "execution_count": 297,
          "metadata": {},
          "output_type": "execute_result"
        }
      ],
      "source": [
        "qa_chain_mr = RetrievalQA.from_chain_type(\n",
        "    llm,\n",
        "    retriever=db.as_retriever(),\n",
        "    chain_type=\"map_reduce\"\n",
        ")\n",
        "result = qa_chain_mr({\"query\": question})\n",
        "result[\"result\"]"
      ]
    },
    {
      "cell_type": "code",
      "execution_count": null,
      "id": "b2291e5b",
      "metadata": {
        "id": "b2291e5b",
        "outputId": "5570117a-43ad-4abc-f923-c446d0c56f8b"
      },
      "outputs": [
        {
          "name": "stderr",
          "output_type": "stream",
          "text": [
            "INFO:httpx:HTTP Request: POST https://api.openai.com/v1/embeddings \"HTTP/1.1 200 OK\"\n",
            "C:\\Users\\sonny\\anaconda3\\envs\\pytorch_env\\Lib\\site-packages\\langchain\\chains\\llm.py:344: UserWarning: The apply_and_parse method is deprecated, instead pass an output parser directly to LLMChain.\n",
            "  warnings.warn(\n",
            "INFO:httpx:HTTP Request: POST https://api.openai.com/v1/completions \"HTTP/1.1 200 OK\"\n"
          ]
        },
        {
          "data": {
            "text/plain": [
              "\" The core principles and key actions of the ICC BASIS Input to the Global Digital Compact include the need for private investments and public funding mechanisms to be informed by accurate information and reliable data, including coverage and usage data, satellite images, census data, and other relevant information. The Global Digital Compact should reiterate all member states' shared commitment to bridging both the coverage and usage gaps and bringing meaningful connectivity to all populations everywhere, and recognize the efforts of all stakeholders and encourage flexible approaches.\""
            ]
          },
          "execution_count": 298,
          "metadata": {},
          "output_type": "execute_result"
        }
      ],
      "source": [
        "qa_chain_mrr = RetrievalQA.from_chain_type(\n",
        "    llm,\n",
        "    retriever=db.as_retriever(),\n",
        "    chain_type=\"map_rerank\"\n",
        ")\n",
        "result = qa_chain_mrr({\"query\": question})\n",
        "result[\"result\"]"
      ]
    },
    {
      "cell_type": "markdown",
      "id": "1fe83d1e",
      "metadata": {
        "id": "1fe83d1e"
      },
      "source": [
        "### 3.2 Conversational RetrievalQA Chain"
      ]
    },
    {
      "cell_type": "markdown",
      "id": "37756809",
      "metadata": {
        "id": "37756809"
      },
      "source": [
        "La limite de RetrievalQA chain est qu'elle ne supporte pas des questions de suivi (\"follow up question\") et n'est pas adaptée à la conversation. Le Conversational RetrievalQA Chain ajoute de la mémoire au Retriever."
      ]
    },
    {
      "cell_type": "code",
      "execution_count": null,
      "id": "6f6758b7",
      "metadata": {
        "id": "6f6758b7"
      },
      "outputs": [],
      "source": [
        "# Memoire"
      ]
    },
    {
      "cell_type": "code",
      "execution_count": null,
      "id": "7a300e67",
      "metadata": {
        "id": "7a300e67"
      },
      "outputs": [],
      "source": [
        "from langchain.memory import ConversationBufferMemory\n",
        "memory = ConversationBufferMemory(\n",
        "    memory_key=\"chat_history\",\n",
        "    return_messages=True\n",
        ")"
      ]
    },
    {
      "cell_type": "code",
      "execution_count": null,
      "id": "b2ab9371",
      "metadata": {
        "id": "b2ab9371"
      },
      "outputs": [],
      "source": [
        "from langchain.chains import ConversationalRetrievalChain\n",
        "retriever=db.as_retriever()\n",
        "qa = ConversationalRetrievalChain.from_llm(\n",
        "    llm,\n",
        "    retriever=retriever,\n",
        "    memory=memory\n",
        ")"
      ]
    },
    {
      "cell_type": "code",
      "execution_count": null,
      "id": "ae3a8168",
      "metadata": {
        "id": "ae3a8168",
        "outputId": "2f3960db-704a-4c34-9de6-1cab371400d9"
      },
      "outputs": [
        {
          "name": "stderr",
          "output_type": "stream",
          "text": [
            "INFO:httpx:HTTP Request: POST https://api.openai.com/v1/embeddings \"HTTP/1.1 200 OK\"\n",
            "INFO:httpx:HTTP Request: POST https://api.openai.com/v1/completions \"HTTP/1.1 200 OK\"\n"
          ]
        },
        {
          "data": {
            "text/plain": [
              "{'question': 'What is GDC',\n",
              " 'chat_history': [HumanMessage(content='What is GDC'),\n",
              "  AIMessage(content=' The Global Digital Compact (GDC) is an initiative to promote universal meaningful connectivity.')],\n",
              " 'answer': ' The Global Digital Compact (GDC) is an initiative to promote universal meaningful connectivity.'}"
            ]
          },
          "execution_count": 434,
          "metadata": {},
          "output_type": "execute_result"
        }
      ],
      "source": [
        "question = \"What is GDC\"\n",
        "result = qa({\"question\": question})\n",
        "result"
      ]
    },
    {
      "cell_type": "code",
      "execution_count": null,
      "id": "16e45456",
      "metadata": {
        "id": "16e45456",
        "outputId": "c5872fbf-b60f-4a67-eeef-db912f8963b0"
      },
      "outputs": [
        {
          "name": "stderr",
          "output_type": "stream",
          "text": [
            "INFO:httpx:HTTP Request: POST https://api.openai.com/v1/completions \"HTTP/1.1 200 OK\"\n",
            "INFO:httpx:HTTP Request: POST https://api.openai.com/v1/embeddings \"HTTP/1.1 200 OK\"\n",
            "INFO:httpx:HTTP Request: POST https://api.openai.com/v1/completions \"HTTP/1.1 200 OK\"\n"
          ]
        },
        {
          "data": {
            "text/plain": [
              "{'question': 'Who are some of the stakeholders ?',\n",
              " 'chat_history': [HumanMessage(content='What is GDC'),\n",
              "  AIMessage(content=' The Global Digital Compact (GDC) is an initiative to promote universal meaningful connectivity.'),\n",
              "  HumanMessage(content='Who are some of the stakeholders ?'),\n",
              "  AIMessage(content=' The stakeholders of the GDC initiative include private sector organizations, multistakeholder organizations, and intergovernmental organizations.')],\n",
              " 'answer': ' The stakeholders of the GDC initiative include private sector organizations, multistakeholder organizations, and intergovernmental organizations.'}"
            ]
          },
          "execution_count": 435,
          "metadata": {},
          "output_type": "execute_result"
        }
      ],
      "source": [
        "question = \"Who are some of the stakeholders ?\"\n",
        "result = qa({\"question\": question})\n",
        "result"
      ]
    },
    {
      "cell_type": "code",
      "execution_count": null,
      "id": "dcb36864",
      "metadata": {
        "id": "dcb36864"
      },
      "outputs": [],
      "source": []
    }
  ],
  "metadata": {
    "kernelspec": {
      "display_name": "Pytorch GPU (Python 3.10)",
      "language": "python",
      "name": "pytorch_env"
    },
    "language_info": {
      "codemirror_mode": {
        "name": "ipython",
        "version": 3
      },
      "file_extension": ".py",
      "mimetype": "text/x-python",
      "name": "python",
      "nbconvert_exporter": "python",
      "pygments_lexer": "ipython3",
      "version": "3.11.4"
    },
    "colab": {
      "provenance": [],
      "include_colab_link": true
    }
  },
  "nbformat": 4,
  "nbformat_minor": 5
}