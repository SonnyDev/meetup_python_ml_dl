{
  "cells": [
    {
      "cell_type": "markdown",
      "metadata": {
        "id": "view-in-github",
        "colab_type": "text"
      },
      "source": [
        "<a href=\"https://colab.research.google.com/github/SonnyDev/llm-apps-langchain/blob/main/LangChain_Memory.ipynb\" target=\"_parent\"><img src=\"https://colab.research.google.com/assets/colab-badge.svg\" alt=\"Open In Colab\"/></a>"
      ]
    },
    {
      "cell_type": "code",
      "execution_count": null,
      "id": "46db1e8b",
      "metadata": {
        "id": "46db1e8b"
      },
      "outputs": [],
      "source": [
        "import os\n",
        "import openai\n",
        "\n",
        "from dotenv import load_dotenv, find_dotenv\n",
        "_ = load_dotenv(find_dotenv()) # read local .env file\n",
        "openai.api_key = os.environ['OPENAI_API_KEY']"
      ]
    },
    {
      "cell_type": "code",
      "execution_count": null,
      "id": "b26ac708",
      "metadata": {
        "id": "b26ac708"
      },
      "outputs": [],
      "source": [
        "from langchain.memory import ConversationBufferMemory"
      ]
    },
    {
      "cell_type": "code",
      "execution_count": null,
      "id": "7d07b326",
      "metadata": {
        "id": "7d07b326"
      },
      "outputs": [],
      "source": [
        "from langchain.llms import OpenAI\n",
        "from langchain.chains import ConversationChain\n",
        "\n",
        "\n",
        "llm = OpenAI(temperature=0)\n",
        "conversation = ConversationChain(\n",
        "    llm=llm,\n",
        "    verbose=True,\n",
        "    memory=ConversationBufferMemory()\n",
        ")"
      ]
    },
    {
      "cell_type": "code",
      "execution_count": null,
      "id": "aa8bed09",
      "metadata": {
        "id": "aa8bed09",
        "outputId": "8e7a7f1c-78b8-440c-d33a-c9ecda9fb79b"
      },
      "outputs": [
        {
          "name": "stdout",
          "output_type": "stream",
          "text": [
            "\n",
            "\n",
            "\u001b[1m> Entering new ConversationChain chain...\u001b[0m\n",
            "Prompt after formatting:\n",
            "\u001b[32;1m\u001b[1;3mThe following is a friendly conversation between a human and an AI. The AI is talkative and provides lots of specific details from its context. If the AI does not know the answer to a question, it truthfully says it does not know.\n",
            "\n",
            "Current conversation:\n",
            "\n",
            "Human: Salut!\n",
            "AI:\u001b[0m\n",
            "\n",
            "\u001b[1m> Finished chain.\u001b[0m\n"
          ]
        },
        {
          "data": {
            "text/plain": [
              "' Bonjour! Comment allez-vous?'"
            ]
          },
          "execution_count": 15,
          "metadata": {},
          "output_type": "execute_result"
        }
      ],
      "source": [
        "conversation.predict(input=\"Salut!\")"
      ]
    },
    {
      "cell_type": "code",
      "execution_count": null,
      "id": "ca95d140",
      "metadata": {
        "id": "ca95d140",
        "outputId": "f6b06d1c-7be6-4dee-fe35-b0aa5663cf19"
      },
      "outputs": [
        {
          "name": "stdout",
          "output_type": "stream",
          "text": [
            "\n",
            "\n",
            "\u001b[1m> Entering new ConversationChain chain...\u001b[0m\n",
            "Prompt after formatting:\n",
            "\u001b[32;1m\u001b[1;3mThe following is a friendly conversation between a human and an AI. The AI is talkative and provides lots of specific details from its context. If the AI does not know the answer to a question, it truthfully says it does not know.\n",
            "\n",
            "Current conversation:\n",
            "Human: Salut!\n",
            "AI:  Bonjour! Comment allez-vous?\n",
            "Human: Je vais bien. Je m'appelle Sonny et toi ?\n",
            "AI:\u001b[0m\n",
            "\n",
            "\u001b[1m> Finished chain.\u001b[0m\n"
          ]
        },
        {
          "data": {
            "text/plain": [
              "\" Enchanté de vous rencontrer, Sonny. Je m'appelle AI-1. Je suis un assistant virtuel qui peut vous aider à trouver des informations sur Internet. Qu'aimeriez-vous savoir?\""
            ]
          },
          "execution_count": 16,
          "metadata": {},
          "output_type": "execute_result"
        }
      ],
      "source": [
        "conversation.predict(input=\"Je vais bien. Je m'appelle Sonny et toi ?\")"
      ]
    },
    {
      "cell_type": "code",
      "execution_count": null,
      "id": "93d2a171",
      "metadata": {
        "id": "93d2a171",
        "outputId": "0d04b338-c910-454b-f679-f9d539f08436"
      },
      "outputs": [
        {
          "name": "stdout",
          "output_type": "stream",
          "text": [
            "\n",
            "\n",
            "\u001b[1m> Entering new ConversationChain chain...\u001b[0m\n",
            "Prompt after formatting:\n",
            "\u001b[32;1m\u001b[1;3mThe following is a friendly conversation between a human and an AI. The AI is talkative and provides lots of specific details from its context. If the AI does not know the answer to a question, it truthfully says it does not know.\n",
            "\n",
            "Current conversation:\n",
            "Human: Salut!\n",
            "AI:  Bonjour! Comment allez-vous?\n",
            "Human: Je vais bien. Je m'appelle Sonny et toi ?\n",
            "AI:  Enchanté de vous rencontrer, Sonny. Je m'appelle AI-1. Je suis un assistant virtuel qui peut vous aider à trouver des informations sur Internet. Qu'aimeriez-vous savoir?\n",
            "Human: Pourquoi tu t'appelles AI ?\n",
            "AI:\u001b[0m\n",
            "\n",
            "\u001b[1m> Finished chain.\u001b[0m\n"
          ]
        },
        {
          "data": {
            "text/plain": [
              "\" AI est l'acronyme pour Intelligence Artificielle. Je suis un programme informatique qui peut simuler des conversations humaines et fournir des informations sur demande.\""
            ]
          },
          "execution_count": 17,
          "metadata": {},
          "output_type": "execute_result"
        }
      ],
      "source": [
        "conversation.predict(input=\"Pourquoi tu t'appelles AI ?\")"
      ]
    },
    {
      "cell_type": "code",
      "execution_count": null,
      "id": "3c7a3dd8",
      "metadata": {
        "id": "3c7a3dd8",
        "outputId": "e3118f13-ee23-4d97-e2fa-4f199c1a2d59"
      },
      "outputs": [
        {
          "name": "stdout",
          "output_type": "stream",
          "text": [
            "\n",
            "\n",
            "\u001b[1m> Entering new ConversationChain chain...\u001b[0m\n",
            "Prompt after formatting:\n",
            "\u001b[32;1m\u001b[1;3mThe following is a friendly conversation between a human and an AI. The AI is talkative and provides lots of specific details from its context. If the AI does not know the answer to a question, it truthfully says it does not know.\n",
            "\n",
            "Current conversation:\n",
            "Human: Salut!\n",
            "AI:  Bonjour! Comment allez-vous?\n",
            "Human: Je vais bien. Je m'appelle Sonny et toi ?\n",
            "AI:  Enchanté de vous rencontrer, Sonny. Je m'appelle AI-1. Je suis un assistant virtuel qui peut vous aider à trouver des informations sur Internet. Qu'aimeriez-vous savoir?\n",
            "Human: Pourquoi tu t'appelles AI ?\n",
            "AI:  AI est l'acronyme pour Intelligence Artificielle. Je suis un programme informatique qui peut simuler des conversations humaines et fournir des informations sur demande.\n",
            "Human: Super. Tu te rappelles comment je m'appelles ?\n",
            "AI:\u001b[0m\n",
            "\n",
            "\u001b[1m> Finished chain.\u001b[0m\n"
          ]
        },
        {
          "data": {
            "text/plain": [
              "\" Bien sûr! Vous vous appelez Sonny. Est-ce que je peux vous aider à trouver quelque chose d'autre?\""
            ]
          },
          "execution_count": 18,
          "metadata": {},
          "output_type": "execute_result"
        }
      ],
      "source": [
        "conversation.predict(input=\"Super. Tu te rappelles comment je m'appelles ?\")"
      ]
    }
  ],
  "metadata": {
    "kernelspec": {
      "display_name": "Pytorch GPU (Python 3.10)",
      "language": "python",
      "name": "pytorch-gpu-python-3-10"
    },
    "language_info": {
      "codemirror_mode": {
        "name": "ipython",
        "version": 3
      },
      "file_extension": ".py",
      "mimetype": "text/x-python",
      "name": "python",
      "nbconvert_exporter": "python",
      "pygments_lexer": "ipython3",
      "version": "3.11.4"
    },
    "colab": {
      "provenance": [],
      "include_colab_link": true
    }
  },
  "nbformat": 4,
  "nbformat_minor": 5
}