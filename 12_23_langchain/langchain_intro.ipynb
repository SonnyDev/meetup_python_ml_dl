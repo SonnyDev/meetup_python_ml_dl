{
  "cells": [
    {
      "cell_type": "markdown",
      "metadata": {
        "id": "view-in-github",
        "colab_type": "text"
      },
      "source": [
        "<a href=\"https://colab.research.google.com/github/SonnyDev/llm-apps-langchain/blob/main/langchain_intro.ipynb\" target=\"_parent\"><img src=\"https://colab.research.google.com/assets/colab-badge.svg\" alt=\"Open In Colab\"/></a>"
      ]
    },
    {
      "cell_type": "markdown",
      "id": "fbd8cfe1",
      "metadata": {
        "id": "fbd8cfe1"
      },
      "source": [
        "### Intro à LangChain"
      ]
    },
    {
      "cell_type": "markdown",
      "id": "877cf2f0",
      "metadata": {
        "id": "877cf2f0"
      },
      "source": [
        "LangChain est un framework populaire qui permet aux utilisateurs de construire rapidement des applications et des pipelines autour de **L**arge **L**anguage de **M**odels. Il peut être utilisé pour des chatbots, des Question-Réponse (GQA), la résumé et bien plus encore.\n",
        "\n",
        "L'idée centrale de cette bibliothèque est que nous pouvons \"chaîner\" ensemble différents composants pour créer des cas d'utilisation plus avancés autour des LLMs. Les chaînes peuvent être composées de plusieurs composants provenant de plusieurs modules :\n",
        "\n",
        "* **Modèles de prompts** : Les modèles de prompts sont, eh bien, des modèles pour différents types de prompts. Comme des modèles de style \"chatbot\", des questions-réponses, etc.\n",
        "\n",
        "* **LLMs** : Des grands modèles de langage comme GPT-3, GPT-4, BLOOM, etc.\n",
        "\n",
        "* **Agents** : Les agents utilisent les LLMs pour décider des actions à entreprendre. Des outils comme la recherche web ou les calculatrices peuvent être utilisés, le tout emballé dans une boucle logique d'opérations.\n",
        "\n",
        "* **Mémoire** : Mémoire à court terme, mémoire à long terme."
      ]
    },
    {
      "cell_type": "code",
      "execution_count": null,
      "id": "6a1c4370",
      "metadata": {
        "id": "6a1c4370"
      },
      "outputs": [],
      "source": [
        "!pip install langchain\n",
        "!pip install openai"
      ]
    },
    {
      "cell_type": "code",
      "execution_count": null,
      "id": "11d49dfb",
      "metadata": {
        "id": "11d49dfb"
      },
      "outputs": [],
      "source": [
        "import os\n",
        "import openai\n",
        "\n",
        "from dotenv import load_dotenv, find_dotenv\n",
        "_ = load_dotenv(find_dotenv()) # read local .env file\n",
        "openai.api_key = os.environ['OPENAI_API_KEY']"
      ]
    },
    {
      "cell_type": "code",
      "execution_count": null,
      "id": "6c075094",
      "metadata": {
        "id": "6c075094"
      },
      "outputs": [],
      "source": [
        "from langchain.chat_models import ChatOpenAI\n",
        "from langchain.prompts import ChatPromptTemplate\n",
        "from langchain.schema import StrOutputParser\n",
        "\n",
        "model = ChatOpenAI(model=\"gpt-4\", temperature=0.0)\n",
        "prompt = ChatPromptTemplate.from_messages(\n",
        "    [\n",
        "        (\n",
        "            \"system\",\n",
        "            \"Tu es un historien renommé qui donne des réponses correctes et éloquantes aux questions d'histoire.\",\n",
        "        ),\n",
        "        (\"human\", \"{question}\"),\n",
        "    ]\n",
        ")\n",
        "runnable = prompt | model | StrOutputParser()"
      ]
    },
    {
      "cell_type": "code",
      "execution_count": null,
      "id": "fcc7384c",
      "metadata": {
        "id": "fcc7384c",
        "outputId": "048f9d9c-818b-4660-aaec-05cf8fd6b93f"
      },
      "outputs": [
        {
          "name": "stdout",
          "output_type": "stream",
          "text": [
            "La Révolution française est un événement majeur de l'histoire de France qui a eu lieu de 1789 à 1799. Elle marque la fin de l'Ancien Régime, le système politique et social de la France depuis le Moyen Âge, et le début de l'ère contemporaine.\n",
            "\n",
            "La Révolution a commencé avec la convocation des États généraux par le roi Louis XVI en mai 1789 pour résoudre la crise financière du royaume. Cependant, les délégués du tiers état, qui représentaient la majorité de la population française, se sont rebellés contre l'ordre social et politique traditionnel et ont proclamé l'Assemblée nationale en juin 1789. En juillet, le peuple de Paris s'est révolté, a pris la Bastille et a commencé à prendre le contrôle de la ville.\n",
            "\n",
            "La Révolution a été marquée par une série de changements politiques et sociaux radicaux, inspirés par les idéaux des Lumières, le libéralisme et les droits de l'homme. Elle a vu l'abolition de la monarchie en septembre 1792, l'établissement de la Première République, la Terreur, une période de répression et de violence, et finalement le coup d'État de Napoléon Bonaparte en novembre 1799, qui a instauré le Consulat.\n",
            "\n",
            "La Révolution française a eu un impact profond non seulement en France, mais aussi dans le monde entier. Elle a établi le précédent de la souveraineté populaire, a propagé les idéaux révolutionnaires à travers l'Europe et a inspiré de nombreuses révolutions à travers le monde."
          ]
        }
      ],
      "source": [
        "for chunk in runnable.stream({\"question\": \"Qu'est-ce que la revolution francaise\"}):\n",
        "    print(chunk, end=\"\", flush=True)"
      ]
    },
    {
      "cell_type": "code",
      "execution_count": null,
      "id": "388b1d87",
      "metadata": {
        "id": "388b1d87"
      },
      "outputs": [],
      "source": []
    }
  ],
  "metadata": {
    "kernelspec": {
      "display_name": "Pytorch GPU (Python 3.10)",
      "language": "python",
      "name": "pytorch_env"
    },
    "language_info": {
      "codemirror_mode": {
        "name": "ipython",
        "version": 3
      },
      "file_extension": ".py",
      "mimetype": "text/x-python",
      "name": "python",
      "nbconvert_exporter": "python",
      "pygments_lexer": "ipython3",
      "version": "3.11.4"
    },
    "colab": {
      "provenance": [],
      "include_colab_link": true
    }
  },
  "nbformat": 4,
  "nbformat_minor": 5
}