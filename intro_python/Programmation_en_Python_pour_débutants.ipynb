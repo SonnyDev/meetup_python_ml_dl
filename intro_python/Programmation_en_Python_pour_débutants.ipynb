{
  "nbformat": 4,
  "nbformat_minor": 0,
  "metadata": {
    "colab": {
      "provenance": []
    },
    "kernelspec": {
      "name": "python3",
      "display_name": "Python 3"
    },
    "language_info": {
      "name": "python"
    }
  },
  "cells": [
    {
      "cell_type": "markdown",
      "source": [
        "### 1. Votre Premier Programme Python\n",
        "\n",
        "- Utiliser la méthode print pour afficher un message à l'écran\n",
        "- Message à afficher : Hello World !"
      ],
      "metadata": {
        "id": "Pru4N83Ctm01"
      }
    },
    {
      "cell_type": "code",
      "execution_count": null,
      "metadata": {
        "colab": {
          "base_uri": "https://localhost:8080/"
        },
        "id": "J4gw0VpdthNL",
        "outputId": "9f5d7700-a8d0-48cf-cb85-e6a817a56360"
      },
      "outputs": [
        {
          "output_type": "stream",
          "name": "stdout",
          "text": [
            "Hello world !\n"
          ]
        }
      ],
      "source": [
        "print(\"Hello world !\")"
      ]
    },
    {
      "cell_type": "markdown",
      "source": [
        "### 2. Les bases de Python : Les variables"
      ],
      "metadata": {
        "id": "w51eDhUSxL_Q"
      }
    },
    {
      "cell_type": "markdown",
      "source": [
        "- Une variable est une zone de la mémoire de l’ordinateur dans laquelle une valeur est stockée.\n",
        "\n",
        "- Aux yeux du programmeur, cette variable est définie par un nom, alors que pour l’ordinateur, il s’agit en fait d’une adresse, c’est-à-dire d’une zone particulière de la mémoire.\n",
        "\n",
        "- En Python, la déclaration d’une variable et son initialisation (c’est-à-dire la première valeur que l’on va stocker dedans) se font en même temps."
      ],
      "metadata": {
        "id": "h7MwaHq-xWfE"
      }
    },
    {
      "cell_type": "code",
      "source": [
        "# Creation d'une variable\n",
        "prenom = \"Sonny\"\n",
        "print(\"Mon prénom est\",prenom)"
      ],
      "metadata": {
        "colab": {
          "base_uri": "https://localhost:8080/"
        },
        "id": "bOf_OVSfvzBh",
        "outputId": "e0cb193f-6f2c-4833-fd28-7e89b6c65b5e"
      },
      "execution_count": null,
      "outputs": [
        {
          "output_type": "stream",
          "name": "stdout",
          "text": [
            "Mon prénom est Sonny\n"
          ]
        }
      ]
    },
    {
      "cell_type": "code",
      "source": [
        "age = 30\n",
        "print(\"J'ai\",age,\"ans\")"
      ],
      "metadata": {
        "colab": {
          "base_uri": "https://localhost:8080/"
        },
        "id": "BdYBHo1ey0H0",
        "outputId": "f71df293-60d5-4185-f5b8-8406ba0e93ee"
      },
      "execution_count": null,
      "outputs": [
        {
          "output_type": "stream",
          "name": "stdout",
          "text": [
            "J'ai 30 ans\n"
          ]
        }
      ]
    },
    {
      "cell_type": "code",
      "source": [
        "## Fancy printing\n",
        "print(f\"J'ai {age} ans\")"
      ],
      "metadata": {
        "colab": {
          "base_uri": "https://localhost:8080/"
        },
        "id": "-xmENFkpy90g",
        "outputId": "aebb096b-3649-4bd2-9d42-bbb367da1f26"
      },
      "execution_count": null,
      "outputs": [
        {
          "output_type": "stream",
          "name": "stdout",
          "text": [
            "J'ai 30 ans\n"
          ]
        }
      ]
    },
    {
      "cell_type": "markdown",
      "source": [
        "#### Les types de variables de base"
      ],
      "metadata": {
        "id": "rzi6ja375O7h"
      }
    },
    {
      "cell_type": "markdown",
      "source": [
        "##### Les nombres"
      ],
      "metadata": {
        "id": "n6YHGa6K-Duf"
      }
    },
    {
      "cell_type": "code",
      "source": [
        "# Nombres entiers (int)\n",
        "age = 25\n",
        "nombre_negatif = -10\n",
        "\n",
        "# Nombres décimaux (float)\n",
        "prix = 192.99\n",
        "quantite = 100.00\n",
        "\n",
        "# Faire des calculs\n",
        "total = quantite * prix\n",
        "\n",
        "# Fancy printing du total avec deux chiffres après la virgule\n",
        "print(f\"Total {total:.1f} euros\")"
      ],
      "metadata": {
        "colab": {
          "base_uri": "https://localhost:8080/"
        },
        "id": "KoDc6qQk3H_d",
        "outputId": "dec36d25-f35e-4579-a5fe-fbfb07d9fa4a"
      },
      "execution_count": null,
      "outputs": [
        {
          "output_type": "stream",
          "name": "stdout",
          "text": [
            "Total 19299.0 euros\n"
          ]
        }
      ]
    },
    {
      "cell_type": "markdown",
      "source": [
        "##### Les chaînes de caractères (str)"
      ],
      "metadata": {
        "id": "BnV-8vSW-HJ_"
      }
    },
    {
      "cell_type": "code",
      "source": [
        "# Les textes s'écrivent entre guillemets\n",
        "prenom = \"Marie\"\n",
        "nom = 'Dupont'\n",
        "prenom = \"Carla\"\n",
        "\n",
        "# Concaténation (assemblage) de texte\n",
        "nom_complet = prenom + \" \" + nom\n",
        "print(nom_complet)\n"
      ],
      "metadata": {
        "colab": {
          "base_uri": "https://localhost:8080/"
        },
        "id": "QP4DhFmW3Q0V",
        "outputId": "5d448fec-6b36-4c88-fb6e-6cb698a5c1ae"
      },
      "execution_count": null,
      "outputs": [
        {
          "output_type": "stream",
          "name": "stdout",
          "text": [
            "Carla Dupont\n"
          ]
        }
      ]
    },
    {
      "cell_type": "markdown",
      "source": [
        "##### Les booléens (bool)"
      ],
      "metadata": {
        "id": "KC9-xx-q-PUY"
      }
    },
    {
      "cell_type": "code",
      "source": [
        "# Les booléens n'ont que deux valeurs possibles\n",
        "est_etudiant = True\n",
        "a_permis = False"
      ],
      "metadata": {
        "id": "5IR00jtQ3TUL"
      },
      "execution_count": null,
      "outputs": []
    },
    {
      "cell_type": "markdown",
      "source": [
        "#### Manipulation des variables"
      ],
      "metadata": {
        "id": "doNy75xX-YeH"
      }
    },
    {
      "cell_type": "markdown",
      "source": [
        "##### Modifier une variable"
      ],
      "metadata": {
        "id": "25iOWZMC-chK"
      }
    },
    {
      "cell_type": "code",
      "source": [
        "# Les variables peuvent changer de valeur\n",
        "compteur = 0\n",
        "compteur = compteur + 1  # Maintenant compteur vaut 1\n",
        "print(compteur)\n",
        "compteur += 1  # Forme raccourcie, compteur vaut maintenant 2\n",
        "print(compteur)"
      ],
      "metadata": {
        "colab": {
          "base_uri": "https://localhost:8080/"
        },
        "id": "QQX5UGCO8TmT",
        "outputId": "3de84bb7-71be-4b1b-fdc5-89a39794b520"
      },
      "execution_count": null,
      "outputs": [
        {
          "output_type": "stream",
          "name": "stdout",
          "text": [
            "1\n",
            "2\n"
          ]
        }
      ]
    },
    {
      "cell_type": "markdown",
      "source": [
        "##### Vérifier le type d'une variable"
      ],
      "metadata": {
        "id": "gB0pvuJB-jjO"
      }
    },
    {
      "cell_type": "code",
      "source": [
        "age = 25\n",
        "nom = \"Alice\"\n",
        "\n",
        "# La fonction type() nous dit quel type de donnée contient la variable\n",
        "print(type(age))    # Affiche: <class 'int'>\n",
        "print(type(nom))    # Affiche: <class 'str'>"
      ],
      "metadata": {
        "colab": {
          "base_uri": "https://localhost:8080/"
        },
        "id": "3ukMmFgE8akJ",
        "outputId": "07d967c6-7ff1-4b80-c599-a0ee3b906fac"
      },
      "execution_count": null,
      "outputs": [
        {
          "output_type": "stream",
          "name": "stdout",
          "text": [
            "<class 'int'>\n",
            "<class 'str'>\n"
          ]
        }
      ]
    },
    {
      "cell_type": "markdown",
      "source": [
        "##### Changer le type d'une variable (Casting)"
      ],
      "metadata": {
        "id": "K-Ej4nT2OCxO"
      }
    },
    {
      "cell_type": "code",
      "source": [
        "nombre = 100.0\n",
        "print(type(nombre))\n",
        "\n",
        "nombre = int(nombre)\n",
        "print(type(nombre))\n",
        "print(nombre)\n",
        "\n",
        "nombre = str(nombre)\n",
        "print(type(nombre))"
      ],
      "metadata": {
        "colab": {
          "base_uri": "https://localhost:8080/"
        },
        "id": "WZJNZ0ovOVpe",
        "outputId": "395d6911-7fd5-4ecd-bdee-50ec59e1535b"
      },
      "execution_count": null,
      "outputs": [
        {
          "output_type": "stream",
          "name": "stdout",
          "text": [
            "<class 'float'>\n",
            "<class 'int'>\n",
            "100\n",
            "<class 'str'>\n"
          ]
        }
      ]
    },
    {
      "cell_type": "markdown",
      "source": [
        "#### Bonnes pratiques\n",
        "\n",
        "##### Nommage des variables\n",
        "```python\n",
        "# ✅ Bon nommage\n",
        "age_utilisateur = 25\n",
        "prix_total = 99.99\n",
        "est_actif = True\n",
        "\n",
        "# ❌ Mauvais nommage\n",
        "a = 25          # Nom pas assez descriptif\n",
        "AGE = 25        # Éviter les majuscules\n",
        "prix_Total = 99.99  # Mélange majuscules/minuscules\n",
        "```\n",
        "\n",
        "#### Exercices pratiques\n",
        "\n",
        "```python\n",
        "# Exercice 1: Créez trois variables et affichez leur contenu\n",
        "nom = \"Pierre\"\n",
        "age = 30\n",
        "taille = 1.75\n",
        "\n",
        "print(f\"Je m'appelle {nom}, j'ai {age} ans et je mesure {taille}m\")\n",
        "\n",
        "# Exercice 2: Faites une petite calculatrice\n",
        "nombre1 = 15\n",
        "nombre2 = 5\n",
        "\n",
        "somme = nombre1 + nombre2\n",
        "difference = nombre1 - nombre2\n",
        "produit = nombre1 * nombre2\n",
        "quotient = nombre1 / nombre2\n",
        "\n",
        "print(f\"{nombre1} + {nombre2} = {somme}\")\n",
        "print(f\"{nombre1} - {nombre2} = {difference}\")\n",
        "print(f\"{nombre1} × {nombre2} = {produit}\")\n",
        "print(f\"{nombre1} ÷ {nombre2} = {quotient}\")\n",
        "```\n",
        "\n",
        "#### Points clés à retenir\n",
        "- Les variables sont comme des conteneurs pour stocker des données\n",
        "- Python est à typage dynamique : le type de la variable est déterminé automatiquement\n",
        "- Les noms de variables doivent être descriptifs et suivre les conventions Python\n",
        "- Les types de base sont : int, float, str, bool\n",
        "- Une variable peut changer de valeur mais pas forcément de type"
      ],
      "metadata": {
        "id": "ati_iXUS8LGx"
      }
    },
    {
      "cell_type": "markdown",
      "source": [
        "### 3. La Fonction input() en Python\n",
        "\n",
        "#### Qu'est-ce que input() ?\n",
        "La fonction `input()` permet de demander une saisie à l'utilisateur dans la console. Elle met le programme en pause jusqu'à ce que l'utilisateur entre une valeur et appuie sur Entrée.\n",
        "\n",
        "##### Utilisation de base\n"
      ],
      "metadata": {
        "id": "OaJGlgSh5cgb"
      }
    },
    {
      "cell_type": "code",
      "source": [
        "# Saisie basique\n",
        "reponse = input(\"Entrez quelque chose : \")\n",
        "print(\"Vous avez saisi :\", reponse)\n",
        "\n",
        "# Avec un message explicatif\n",
        "nom = input(\"Quel est votre nom ? \")\n",
        "print(f\"Bonjour {nom} !\")"
      ],
      "metadata": {
        "colab": {
          "base_uri": "https://localhost:8080/"
        },
        "id": "mwBCmoBm6ICi",
        "outputId": "61c6adb9-d1a1-4386-cc87-33258bb32c03"
      },
      "execution_count": null,
      "outputs": [
        {
          "output_type": "stream",
          "name": "stdout",
          "text": [
            "Entrez quelque chose : Salut à tous\n",
            "Vous avez saisi : Salut à tous\n",
            "Quel est votre nom ? Aboubakar\n",
            "Bonjour Aboubakar !\n"
          ]
        }
      ]
    },
    {
      "cell_type": "code",
      "source": [
        "# input() renvoie TOUJOURS une chaîne de caractères\n",
        "age = input(\"Quel âge avez-vous ? \")\n",
        "print(type(age))  # Affiche: <class 'str'>\n",
        "\n",
        "# Même si vous entrez un nombre, c'est une chaîne !\n",
        "nombre = input(\"Entrez un nombre : \")  # Si vous tapez 42\n",
        "print(type(nombre))  # Affiche toujours: <class 'str'>"
      ],
      "metadata": {
        "colab": {
          "base_uri": "https://localhost:8080/"
        },
        "id": "cWxHxuBF53dI",
        "outputId": "707db6cf-e092-4469-b429-325906c1327d"
      },
      "execution_count": null,
      "outputs": [
        {
          "output_type": "stream",
          "name": "stdout",
          "text": [
            "Quel âge avez-vous ? 50\n",
            "<class 'str'>\n",
            "Entrez un nombre : 190.23\n",
            "<class 'str'>\n"
          ]
        }
      ]
    },
    {
      "cell_type": "markdown",
      "source": [
        "##### Conversion des types"
      ],
      "metadata": {
        "id": "GZtJdxbh7M4x"
      }
    },
    {
      "cell_type": "code",
      "source": [
        "# Conversion en entier\n",
        "age = int(input(\"Quel âge avez-vous ? \"))\n",
        "annee_naissance = 2024 - age\n",
        "print(f\"Vous êtes né(e) en {annee_naissance}\")\n",
        "\n",
        "# Conversion en nombre décimal\n",
        "taille = float(input(\"Quelle est votre taille (en mètres) ? \"))\n",
        "print(f\"Vous mesurez {taille * 100} centimètres\")"
      ],
      "metadata": {
        "colab": {
          "base_uri": "https://localhost:8080/"
        },
        "id": "rZwEi2Us7Fcv",
        "outputId": "2b16d2d0-606f-4221-90de-9aad9064d075"
      },
      "execution_count": null,
      "outputs": [
        {
          "output_type": "stream",
          "name": "stdout",
          "text": [
            "Quel âge avez-vous ? 42\n",
            "Vous êtes né(e) en 1982\n",
            "Quelle est votre taille (en mètres) ? 1.92\n",
            "Vous mesurez 192.0 centimètres\n"
          ]
        }
      ]
    },
    {
      "cell_type": "code",
      "source": [
        "##### Gestion des erreurs\n",
        "# Gérer les erreurs de saisie\n",
        "try:\n",
        "    age = int(input(\"Quel âge avez-vous ? \"))\n",
        "    print(f\"Dans 10 ans, vous aurez {age + 10} ans\")\n",
        "except ValueError:\n",
        "    print(\"Erreur : Veuillez entrer un nombre valide !\")"
      ],
      "metadata": {
        "colab": {
          "base_uri": "https://localhost:8080/"
        },
        "id": "i2bHN3iT7lFM",
        "outputId": "a2e4bbb0-7b5e-47d4-c686-6cd57e67069c"
      },
      "execution_count": null,
      "outputs": [
        {
          "output_type": "stream",
          "name": "stdout",
          "text": [
            "Quel âge avez-vous ? 30\n",
            "Dans 10 ans, vous aurez 40 ans\n"
          ]
        }
      ]
    },
    {
      "cell_type": "markdown",
      "source": [
        "### Exercices pratiques\n",
        "```python\n",
        "##### Calculatrice basique\n",
        "nombre1 = float(input(\"Premier nombre : \"))\n",
        "nombre2 = float(input(\"Deuxième nombre : \"))\n",
        "\n",
        "somme = nombre1 + nombre2\n",
        "produit = nombre1 * nombre2\n",
        "\n",
        "print(f\"La somme est : {somme}\")\n",
        "print(f\"Le produit est : {produit}\")\n",
        "```\n",
        "\n",
        "\n",
        "##### Calculateur d'IMC\n",
        "```python\n",
        "# Calcul de l'Indice de Masse Corporelle\n",
        "print(\"Calculateur d'IMC\")\n",
        "try:\n",
        "    poids = float(input(\"Votre poids (kg) : \"))\n",
        "    taille = float(input(\"Votre taille (m) : \"))\n",
        "    \n",
        "    imc = poids / (taille * taille)\n",
        "    print(f\"Votre IMC est de {imc:.1f}\")\n",
        "except ValueError:\n",
        "    print(\"Erreur : Veuillez entrer des nombres valides\")\n",
        "```\n",
        "\n",
        "### Points clés à retenir\n",
        "- input() renvoie toujours une chaîne de caractères\n",
        "- Il faut convertir l'entrée si on veut un nombre (int() ou float())\n",
        "- Toujours gérer les erreurs possibles avec try/except\n",
        "- Donner des instructions claires à l'utilisateur"
      ],
      "metadata": {
        "id": "inYEnnir50AT"
      }
    },
    {
      "cell_type": "markdown",
      "source": [
        "## 4. Les Listes en Python\n",
        "\n",
        "### 1. Qu'est-ce qu'une liste ?\n",
        "Une liste est une collection ordonnée d'éléments. En Python, elle peut contenir différents types de données (nombres, textes, etc.) et sa taille peut varier.\n",
        "\n",
        "### 2. Création de listes"
      ],
      "metadata": {
        "id": "iaMcjMmj-uS1"
      }
    },
    {
      "cell_type": "code",
      "source": [
        "# Liste vide\n",
        "ma_liste = []\n",
        "\n",
        "# Liste avec des éléments\n",
        "nombres = [1, 2, 3, 4, 5]\n",
        "fruits = [\"pomme\", \"banane\", \"orange\"]\n",
        "liste_mixte = [1, \"hello\", 3.14, True]  # Différents types possibles"
      ],
      "metadata": {
        "id": "RzFcBCZUCwzA"
      },
      "execution_count": null,
      "outputs": []
    },
    {
      "cell_type": "markdown",
      "source": [
        "### 3. Accès aux éléments"
      ],
      "metadata": {
        "id": "vrF8NBB5DkmK"
      }
    },
    {
      "cell_type": "code",
      "source": [
        "### 3.1 Indexation\n",
        "fruits = [\"pomme\", \"banane\", \"orange\", \"fraise\"]\n",
        "\n",
        "# L'indexation commence à 0\n",
        "premier_fruit = fruits[0]    # \"pomme\"\n",
        "deuxieme_fruit = fruits[1]   # \"banane\"\n",
        "\n",
        "# Index négatif pour accéder depuis la fin\n",
        "dernier_fruit = fruits[-1]   # \"fraise\"\n",
        "avant_dernier = fruits[-2]   # \"orange\"\n",
        "\n",
        "print(fruits[2])"
      ],
      "metadata": {
        "id": "37_IMsAmCOox",
        "colab": {
          "base_uri": "https://localhost:8080/"
        },
        "outputId": "c8f0007a-29ba-49f9-dd26-817fb93f914c"
      },
      "execution_count": null,
      "outputs": [
        {
          "output_type": "stream",
          "name": "stdout",
          "text": [
            "orange\n"
          ]
        }
      ]
    },
    {
      "cell_type": "code",
      "source": [
        "### 3.2 Tranches (Slicing)\n",
        "\n",
        "nombres = [0, 1, 2, 3, 4, 5, 6, 7, 8, 9]\n",
        "\n",
        "# Syntaxe: liste[début:fin:pas]\n",
        "trois_premiers = nombres[0:5]      # [0, 1, 2]\n",
        "print(trois_premiers)"
      ],
      "metadata": {
        "id": "EMZHMKxrDrLb",
        "colab": {
          "base_uri": "https://localhost:8080/"
        },
        "outputId": "8ab86cf3-d87e-4ef3-c264-a8c720980042"
      },
      "execution_count": null,
      "outputs": [
        {
          "output_type": "stream",
          "name": "stdout",
          "text": [
            "[0, 1, 2, 3, 4]\n"
          ]
        }
      ]
    },
    {
      "cell_type": "markdown",
      "source": [
        "### 4. Modification des listes\n",
        "\n",
        "#### 4.1 Ajouter des éléments"
      ],
      "metadata": {
        "id": "PxmwYL9sEMXf"
      }
    },
    {
      "cell_type": "code",
      "source": [
        "fruits = [\"pomme\", \"banane\"]\n",
        "\n",
        "# Ajouter à la fin\n",
        "fruits.append(\"poire\")           # [\"pomme\", \"banane\", \"orange\"]\n",
        "print(fruits)\n"
      ],
      "metadata": {
        "id": "Bpt38CH4DA39",
        "colab": {
          "base_uri": "https://localhost:8080/"
        },
        "outputId": "93a6178f-c0dd-4734-ce6f-b32ac905a7f0"
      },
      "execution_count": null,
      "outputs": [
        {
          "output_type": "stream",
          "name": "stdout",
          "text": [
            "['pomme', 'banane', 'poire']\n"
          ]
        }
      ]
    },
    {
      "cell_type": "code",
      "source": [
        "# Ajouter à une position spécifique\n",
        "fruits.insert(1, \"fraise\")       # [\"pomme\", \"fraise\", \"banane\", \"orange\"]"
      ],
      "metadata": {
        "id": "3Bs3YL38FKp9"
      },
      "execution_count": null,
      "outputs": []
    },
    {
      "cell_type": "code",
      "source": [
        "# Étendre la liste\n",
        "autres_fruits = [\"kiwi\", \"mangue\"]\n",
        "fruits.extend(autres_fruits)      # [\"pomme\", \"fraise\", \"banane\", \"orange\", \"kiwi\", \"mangue\"]\n",
        "fruits"
      ],
      "metadata": {
        "id": "CXrLHRTLFOrj",
        "colab": {
          "base_uri": "https://localhost:8080/"
        },
        "outputId": "318d9d4f-3132-446d-a26c-2ab631a8c899"
      },
      "execution_count": null,
      "outputs": [
        {
          "output_type": "execute_result",
          "data": {
            "text/plain": [
              "['pomme', 'banane', 'poire', 'kiwi', 'mangue']"
            ]
          },
          "metadata": {},
          "execution_count": 30
        }
      ]
    },
    {
      "cell_type": "markdown",
      "source": [
        "#### 4.2 Supprimer des éléments"
      ],
      "metadata": {
        "id": "9uZUW22yFvtu"
      }
    },
    {
      "cell_type": "code",
      "source": [
        "fruits = [\"pomme\", \"banane\", \"orange\", \"kiwi\"]\n",
        "\n",
        "# Supprimer le dernier élément\n",
        "dernier = fruits.pop()           # retire et renvoie \"kiwi\""
      ],
      "metadata": {
        "id": "3aG0hHNDFR1o"
      },
      "execution_count": null,
      "outputs": []
    },
    {
      "cell_type": "code",
      "source": [
        "# Supprimer à un index spécifique\n",
        "fruits.pop(1)                    # retire \"banane\""
      ],
      "metadata": {
        "colab": {
          "base_uri": "https://localhost:8080/",
          "height": 35
        },
        "id": "OjlHosf-FVp3",
        "outputId": "8335f675-9162-412f-cf94-7d09340157f1"
      },
      "execution_count": null,
      "outputs": [
        {
          "output_type": "execute_result",
          "data": {
            "text/plain": [
              "'banane'"
            ],
            "application/vnd.google.colaboratory.intrinsic+json": {
              "type": "string"
            }
          },
          "metadata": {},
          "execution_count": 33
        }
      ]
    },
    {
      "cell_type": "code",
      "source": [
        "# Supprimer une valeur spécifique\n",
        "fruits.remove(\"orange\")          # retire la première occurrence de \"orange\""
      ],
      "metadata": {
        "id": "dmyTbkkHFXdJ"
      },
      "execution_count": null,
      "outputs": []
    },
    {
      "cell_type": "code",
      "source": [
        "# Vider la liste\n",
        "fruits.clear()                   # []"
      ],
      "metadata": {
        "id": "ZMqcYzooFZ_M"
      },
      "execution_count": null,
      "outputs": []
    },
    {
      "cell_type": "markdown",
      "source": [
        "### 5. Fonctions utiles"
      ],
      "metadata": {
        "id": "8q6hLcHsGEg8"
      }
    },
    {
      "cell_type": "code",
      "source": [
        "nombres = [4, 1, 7, 3, 9, 2, 5]\n",
        "\n",
        "longueur = len(nombres)          # nombre d'éléments\n",
        "minimum = min(nombres)           # plus petite valeur\n",
        "maximum = max(nombres)           # plus grande valeur\n",
        "somme = sum(nombres)            # somme des éléments\n",
        "print(\"Somme:\", somme)\n",
        "print(\"Max:\", maximum)"
      ],
      "metadata": {
        "id": "34AiK_elEUTV",
        "colab": {
          "base_uri": "https://localhost:8080/"
        },
        "outputId": "af2a0bb1-18cb-4600-d9c9-154820f3ffd3"
      },
      "execution_count": null,
      "outputs": [
        {
          "output_type": "stream",
          "name": "stdout",
          "text": [
            "Somme: 31\n",
            "Max: 9\n"
          ]
        }
      ]
    },
    {
      "cell_type": "markdown",
      "source": [
        "### Exercices pratiques\n",
        "\n",
        "```python\n",
        "# Exercice 1: Créer une liste de courses\n",
        "courses = []\n",
        "courses.append(\"pain\")\n",
        "courses.append(\"lait\")\n",
        "courses.insert(0, \"œufs\")\n",
        "print(\"Liste de courses:\", courses)\n",
        "\n",
        "# Exercice 2: Calculer la moyenne d'une liste de notes\n",
        "notes = [15, 12, 18, 14, 11, 16]\n",
        "moyenne = sum(notes) / len(notes)\n",
        "print(f\"Moyenne des notes: {moyenne}\")\n",
        "\n",
        "```\n",
        "\n",
        "### Points clés à retenir\n",
        "- Les listes sont ordonnées et modifiables\n",
        "- L'indexation commence à 0\n",
        "- Les méthodes comme append(), insert(), remove() modifient la liste\n",
        "- Les listes peuvent contenir différents types de données\n",
        "- Les tranches permettent d'extraire des sous-listes\n",
        "- Les listes sont très utilisées pour stocker et manipuler des collections de données\n"
      ],
      "metadata": {
        "id": "qaZwQ94ZCQCV"
      }
    },
    {
      "cell_type": "markdown",
      "source": [
        "# 5. Les Structures Conditionnelles if/else en Python\n",
        "\n",
        "## 1. Qu'est-ce qu'une structure conditionnelle ?\n",
        "Une structure conditionnelle permet d'exécuter différents blocs de code selon qu'une condition est vraie ou fausse. C'est comme un \"embranchement\" dans le programme.\n",
        "\n",
        "## 2. Structure de base\n",
        "\n",
        "### 2.1 if simple"
      ],
      "metadata": {
        "id": "xii6gZiEMwq2"
      }
    },
    {
      "cell_type": "code",
      "source": [
        "# Structure if basique\n",
        "age = 4\n",
        "\n",
        "if age >= 18:\n",
        "  print(\"Vous êtes majeur\") #Indentation\n",
        "\n",
        "# Avec une variable booléenne\n",
        "est_etudiant = True\n",
        "\n",
        "if est_etudiant:\n",
        "    print(\"Vous bénéficiez du tarif étudiant\")"
      ],
      "metadata": {
        "colab": {
          "base_uri": "https://localhost:8080/"
        },
        "id": "gt7aQw5QoSAN",
        "outputId": "fac320e3-76d1-465d-8061-2af72039215b"
      },
      "execution_count": null,
      "outputs": [
        {
          "output_type": "stream",
          "name": "stdout",
          "text": [
            "Vous bénéficiez du tarif étudiant\n"
          ]
        }
      ]
    },
    {
      "cell_type": "code",
      "source": [
        "### 2.2 if/else\n",
        "age = 22\n",
        "\n",
        "if age >= 18:\n",
        "    print(\"Vous êtes majeur\")\n",
        "else:\n",
        "    print(\"Vous êtes mineur\")"
      ],
      "metadata": {
        "colab": {
          "base_uri": "https://localhost:8080/"
        },
        "id": "TBN3zLIyoWMS",
        "outputId": "d1c58131-15d5-495c-8a31-2ac218e3d9e9"
      },
      "execution_count": null,
      "outputs": [
        {
          "output_type": "stream",
          "name": "stdout",
          "text": [
            "Vous êtes majeur\n"
          ]
        }
      ]
    },
    {
      "cell_type": "code",
      "source": [
        "### 2.3 if/elif/else\n",
        "note = 13\n",
        "\n",
        "if note >= 16:\n",
        "    print(\"Très bien !\")\n",
        "elif note >= 14:\n",
        "    print(\"Bien\")\n",
        "elif note >= 12:\n",
        "    print(\"Assez bien\")\n",
        "else:\n",
        "    print(\"Passable\")"
      ],
      "metadata": {
        "colab": {
          "base_uri": "https://localhost:8080/"
        },
        "id": "I_wyxZefoa_Z",
        "outputId": "4908fdeb-5fc1-467b-d2ec-1267ce746857"
      },
      "execution_count": null,
      "outputs": [
        {
          "output_type": "stream",
          "name": "stdout",
          "text": [
            "Assez bien\n"
          ]
        }
      ]
    },
    {
      "cell_type": "code",
      "source": [
        "## 3. Les opérateurs de comparaison\n",
        "# Égalité\n",
        "x = 5\n",
        "if x == 5:\n",
        "    print(\"x est égal à 5\")\n",
        "\n",
        "# Différent de\n",
        "if x != 3:\n",
        "    print(\"x est différent de 3\")\n",
        "\n",
        "# Supérieur/inférieur\n",
        "if x > 3:\n",
        "    print(\"x est supérieur à 3\")\n",
        "\n",
        "if x <= 5:\n",
        "    print(\"x est inférieur ou égal à 5\")\n",
        "\n",
        "# Comparaison de chaînes\n",
        "nom = \"Alice\"\n",
        "if nom == \"Alice\":\n",
        "    print(\"Bonjour Alice !\")"
      ],
      "metadata": {
        "colab": {
          "base_uri": "https://localhost:8080/"
        },
        "id": "cWdfVsZxohEO",
        "outputId": "f7223f79-5ac4-41cc-b46f-2c8928f58dd3"
      },
      "execution_count": null,
      "outputs": [
        {
          "output_type": "stream",
          "name": "stdout",
          "text": [
            "x est égal à 5\n",
            "x est différent de 3\n",
            "x est supérieur à 3\n",
            "x est inférieur ou égal à 5\n",
            "Bonjour Alice !\n"
          ]
        }
      ]
    },
    {
      "cell_type": "code",
      "source": [
        "## 4. Les opérateurs logiques\n",
        "\n",
        "### 4.1 and (et)\n",
        "age = 20\n",
        "est_etudiant = True\n",
        "\n",
        "if age >= 18 and est_etudiant:\n",
        "    print(\"Vous êtes un étudiant majeur\")\n",
        "\n",
        "# Exemple avec plusieurs conditions\n",
        "note = 15\n",
        "assiduite = True\n",
        "\n",
        "if note >= 10 and assiduite:\n",
        "    print(\"Vous avez validé le module\")\n",
        "\n",
        "### 4.2 or (ou)\n",
        "age = 25\n",
        "carte_membre = True\n",
        "\n",
        "if age < 18 or carte_membre:\n",
        "    print(\"Vous bénéficiez du tarif réduit\")\n",
        "\n",
        "# Exemple avec plusieurs options\n",
        "paiement_carte = False\n",
        "paiement_especes = True\n",
        "\n",
        "if paiement_carte or paiement_especes:\n",
        "    print(\"Paiement accepté\")\n",
        "\n",
        "### 4.3 not (non)\n",
        "est_ferme = False\n",
        "\n",
        "if not est_ferme:\n",
        "    print(\"Le magasin est ouvert\")\n",
        "\n",
        "# Combinaison d'opérateurs\n",
        "if not (age < 18 or carte_membre):\n",
        "    print(\"Tarif normal applicable\")"
      ],
      "metadata": {
        "colab": {
          "base_uri": "https://localhost:8080/"
        },
        "id": "AND7fcA0olH2",
        "outputId": "bac8d4a4-4286-4df7-eed4-e2fd17261794"
      },
      "execution_count": null,
      "outputs": [
        {
          "output_type": "stream",
          "name": "stdout",
          "text": [
            "Vous êtes un étudiant majeur\n",
            "Vous avez validé le module\n",
            "Vous bénéficiez du tarif réduit\n",
            "Paiement accepté\n",
            "Le magasin est ouvert\n"
          ]
        }
      ]
    },
    {
      "cell_type": "code",
      "source": [
        "## 5. Conditions imbriquées\n",
        "\n",
        "age = 20\n",
        "est_etudiant = True\n",
        "a_carte = True\n",
        "\n",
        "if age >= 18:\n",
        "    if est_etudiant:\n",
        "        if a_carte:\n",
        "            print(\"Tarif étudiant premium\")\n",
        "        else:\n",
        "            print(\"Tarif étudiant normal\")\n",
        "    else:\n",
        "        print(\"Tarif adulte\")\n",
        "else:\n",
        "    print(\"Tarif jeune\")\n",
        "\n",
        "# Version plus lisible avec and\n",
        "if age >= 18 and est_etudiant and a_carte:\n",
        "    print(\"Tarif étudiant premium\")"
      ],
      "metadata": {
        "colab": {
          "base_uri": "https://localhost:8080/"
        },
        "id": "tgdeU5xCpn2C",
        "outputId": "e4bc2c56-8353-49e4-f3fa-64994b0dac5a"
      },
      "execution_count": null,
      "outputs": [
        {
          "output_type": "stream",
          "name": "stdout",
          "text": [
            "Tarif étudiant premium\n",
            "Tarif étudiant premium\n"
          ]
        }
      ]
    },
    {
      "cell_type": "code",
      "source": [
        "## 6. Astuces et bonnes pratiques\n",
        "\n",
        "### 6.1 Conditions simplifiées\n",
        "bool_variable = True\n",
        "# Au lieu de\n",
        "if bool_variable == True:\n",
        "    print(\"C'est vrai\")\n",
        "\n",
        "# Préférer\n",
        "if bool_variable:\n",
        "    print(\"C'est vrai\")\n",
        "\n",
        "# Pour la négation\n",
        "if not bool_variable:\n",
        "    print(\"C'est faux\")\n",
        "\n",
        "### 6.2 Tests d'appartenance\n",
        "\n",
        "# Vérifier si une valeur est dans une liste\n",
        "fruits = [\"pomme\", \"banane\", \"orange\"]\n",
        "\n",
        "if \"pomme\" in fruits:\n",
        "    print(\"Nous avons des pommes\")\n",
        "\n",
        "# Vérifier plusieurs valeurs\n",
        "note = 15\n",
        "if note in [18, 19, 20]:\n",
        "    print(\"Excellent !\")"
      ],
      "metadata": {
        "colab": {
          "base_uri": "https://localhost:8080/"
        },
        "id": "SNDu9oYrpukQ",
        "outputId": "4d10654c-c9c3-47c6-c629-3d258f2800be"
      },
      "execution_count": null,
      "outputs": [
        {
          "output_type": "stream",
          "name": "stdout",
          "text": [
            "C'est vrai\n",
            "C'est vrai\n",
            "Nous avons des pommes\n"
          ]
        }
      ]
    },
    {
      "cell_type": "code",
      "source": [
        "## 7. Exercices pratiques\n",
        "\n",
        "### 7.1 Calculateur de remise\n",
        "def calculer_remise(montant, age, est_adherent):\n",
        "    remise = 0\n",
        "\n",
        "    if montant >= 100:\n",
        "        remise += 10  # 10% pour achat > 100€\n",
        "\n",
        "    if age < 18:\n",
        "        remise += 5   # 5% supplémentaire pour les mineurs\n",
        "\n",
        "    if est_adherent:\n",
        "        remise += 5   # 5% supplémentaire pour les adhérents\n",
        "\n",
        "    return remise\n",
        "\n",
        "# Test du calculateur\n",
        "montant = 150\n",
        "age = 16\n",
        "est_adherent = True\n",
        "\n",
        "remise = calculer_remise(montant, age, est_adherent)\n",
        "print(f\"Votre remise totale est de {remise}%\")\n",
        "\n",
        "### 7.2 Système de notation\n",
        "def evaluer_note(note):\n",
        "    if not isinstance(note, (int, float)):\n",
        "        return \"Erreur : la note doit être un nombre\"\n",
        "\n",
        "    if note < 0 or note > 20:\n",
        "        return \"Erreur : la note doit être entre 0 et 20\"\n",
        "\n",
        "    if note >= 16:\n",
        "        return \"Très bien\"\n",
        "    elif note >= 14:\n",
        "        return \"Bien\"\n",
        "    elif note >= 12:\n",
        "        return \"Assez bien\"\n",
        "    elif note >= 10:\n",
        "        return \"Passable\"\n",
        "    else:\n",
        "        return \"Insuffisant\"\n",
        "\n",
        "# Tests\n",
        "notes = [18, 14, 12, 9, 15, -1, \"A\"]\n",
        "for note in notes:\n",
        "    resultat = evaluer_note(note)\n",
        "    print(f\"Note {note} : {resultat}\")"
      ],
      "metadata": {
        "colab": {
          "base_uri": "https://localhost:8080/"
        },
        "id": "hs4Sna5HpgRl",
        "outputId": "cbf36a99-e73c-4724-b24a-4fdef522793c"
      },
      "execution_count": null,
      "outputs": [
        {
          "output_type": "stream",
          "name": "stdout",
          "text": [
            "Votre remise totale est de 20%\n",
            "Note 18 : Très bien\n",
            "Note 14 : Bien\n",
            "Note 12 : Assez bien\n",
            "Note 9 : Insuffisant\n",
            "Note 15 : Bien\n",
            "Note -1 : Erreur : la note doit être entre 0 et 20\n",
            "Note A : Erreur : la note doit être un nombre\n"
          ]
        }
      ]
    },
    {
      "cell_type": "markdown",
      "source": [
        "#### 8. Points clés à retenir\n",
        "- Les blocs if/elif/else permettent de créer des branches dans le code\n",
        "- L'indentation est cruciale en Python pour définir les blocs\n",
        "- Les conditions peuvent être combinées avec and, or, not\n",
        "- On peut imbriquer les conditions, mais attention à la lisibilité\n",
        "- Toujours penser à gérer tous les cas possibles\n",
        "- Privilégier la simplicité et la clarté dans les conditions"
      ],
      "metadata": {
        "id": "9jCJQq8AsFlu"
      }
    },
    {
      "cell_type": "markdown",
      "source": [
        "# Les Boucles en Python\n",
        "\n",
        "## 1. Introduction aux boucles\n",
        "Les boucles permettent de répéter des instructions plusieurs fois. Python propose deux types de boucles principales :\n",
        "- La boucle `for` pour un nombre connu d'itérations\n",
        "- La boucle `while` pour un nombre indéterminé d'itérations\n",
        "\n",
        "#### 2. La boucle for\n",
        "\n"
      ],
      "metadata": {
        "id": "DV4FqWsrLUwy"
      }
    },
    {
      "cell_type": "code",
      "source": [
        "for i in range(5):\n",
        "  print(\"Bonjour le monde\")"
      ],
      "metadata": {
        "colab": {
          "base_uri": "https://localhost:8080/"
        },
        "id": "Esm2JZZ4D9jA",
        "outputId": "73381f46-438d-4477-f9cc-9041f0bac38f"
      },
      "execution_count": null,
      "outputs": [
        {
          "output_type": "stream",
          "name": "stdout",
          "text": [
            "Bonjour le monde\n",
            "Bonjour le monde\n",
            "Bonjour le monde\n",
            "Bonjour le monde\n",
            "Bonjour le monde\n"
          ]
        }
      ]
    },
    {
      "cell_type": "code",
      "source": [
        "### 2.1 Structure de base\n",
        "# Boucle simple avec range\n",
        "for i in range(10):\n",
        "    print(i)  # Affiche 0, 1, 2, 3, 4"
      ],
      "metadata": {
        "id": "guBkSmzwzeWJ",
        "colab": {
          "base_uri": "https://localhost:8080/"
        },
        "outputId": "4ad6a1b3-89b8-45b9-c5fa-7b5a34d835b1"
      },
      "execution_count": null,
      "outputs": [
        {
          "output_type": "stream",
          "name": "stdout",
          "text": [
            "0\n",
            "1\n",
            "2\n",
            "3\n",
            "4\n",
            "5\n",
            "6\n",
            "7\n",
            "8\n",
            "9\n"
          ]
        }
      ]
    },
    {
      "cell_type": "code",
      "source": [
        "# Boucle sur une liste\n",
        "fruits = [\"pomme\", \"banane\", \"orange\"]\n",
        "for fruit in fruits:\n",
        "    print(fruit)"
      ],
      "metadata": {
        "id": "5zuRVdd105_i",
        "colab": {
          "base_uri": "https://localhost:8080/"
        },
        "outputId": "682171e2-8baa-4af7-b092-9a3e103e085d"
      },
      "execution_count": null,
      "outputs": [
        {
          "output_type": "stream",
          "name": "stdout",
          "text": [
            "pomme\n",
            "banane\n",
            "orange\n"
          ]
        }
      ]
    },
    {
      "cell_type": "code",
      "source": [
        "### 2.2 Utilisation de range()\n",
        "# range(stop)\n",
        "for i in range(3):\n",
        "    print(i)  # 0, 1, 2"
      ],
      "metadata": {
        "id": "pU_jJnSpz7-r",
        "colab": {
          "base_uri": "https://localhost:8080/"
        },
        "outputId": "3ca991b7-6ef6-474d-d50f-ac91a1d99399"
      },
      "execution_count": null,
      "outputs": [
        {
          "output_type": "stream",
          "name": "stdout",
          "text": [
            "0\n",
            "1\n",
            "2\n"
          ]
        }
      ]
    },
    {
      "cell_type": "code",
      "source": [
        "# range(start, stop)\n",
        "for i in range(2, 5):\n",
        "    print(i)  # 2, 3, 4"
      ],
      "metadata": {
        "id": "FomPPsZq0_ge",
        "colab": {
          "base_uri": "https://localhost:8080/"
        },
        "outputId": "22a17df3-5358-43cd-a3d8-6d5c491e7958"
      },
      "execution_count": null,
      "outputs": [
        {
          "output_type": "stream",
          "name": "stdout",
          "text": [
            "2\n",
            "3\n",
            "4\n"
          ]
        }
      ]
    },
    {
      "cell_type": "code",
      "source": [
        "# range(start, stop, step)\n",
        "for i in range(0, 10, 2):\n",
        "    print(i)  # 0, 2, 4, 6, 8"
      ],
      "metadata": {
        "id": "0wfckyNS1BCK",
        "colab": {
          "base_uri": "https://localhost:8080/"
        },
        "outputId": "741830fe-fd7c-4c85-d7ed-e95221868f9f"
      },
      "execution_count": null,
      "outputs": [
        {
          "output_type": "stream",
          "name": "stdout",
          "text": [
            "0\n",
            "2\n",
            "4\n",
            "6\n",
            "8\n"
          ]
        }
      ]
    },
    {
      "cell_type": "code",
      "source": [
        "### 2.3 Parcourir avec index\n",
        "fruits = [\"pomme\", \"banane\", \"orange\"]"
      ],
      "metadata": {
        "id": "C7Ne00J51Cmd"
      },
      "execution_count": null,
      "outputs": []
    },
    {
      "cell_type": "code",
      "source": [
        "# Utilisation de enumerate\n",
        "for index, fruit in enumerate(fruits):\n",
        "    print(f\"{index+1}. {fruit}\")"
      ],
      "metadata": {
        "id": "5qjRn1ax1EIv"
      },
      "execution_count": null,
      "outputs": []
    },
    {
      "cell_type": "code",
      "source": [
        "# Création d'une table de multiplication # IMBRICATION\n",
        "for i in range(1, 11):\n",
        "    for j in range(1, 11):\n",
        "        print(f\"{i} x {j} = {i*j}\")"
      ],
      "metadata": {
        "id": "FLU-q6qn1FpF",
        "colab": {
          "base_uri": "https://localhost:8080/"
        },
        "outputId": "2b30dd94-fd80-4ae9-cba8-876da87bd77c"
      },
      "execution_count": null,
      "outputs": [
        {
          "output_type": "stream",
          "name": "stdout",
          "text": [
            "1 x 1 = 1\n",
            "1 x 2 = 2\n",
            "1 x 3 = 3\n",
            "1 x 4 = 4\n",
            "1 x 5 = 5\n",
            "1 x 6 = 6\n",
            "1 x 7 = 7\n",
            "1 x 8 = 8\n",
            "1 x 9 = 9\n",
            "1 x 10 = 10\n",
            "2 x 1 = 2\n",
            "2 x 2 = 4\n",
            "2 x 3 = 6\n",
            "2 x 4 = 8\n",
            "2 x 5 = 10\n",
            "2 x 6 = 12\n",
            "2 x 7 = 14\n",
            "2 x 8 = 16\n",
            "2 x 9 = 18\n",
            "2 x 10 = 20\n",
            "3 x 1 = 3\n",
            "3 x 2 = 6\n",
            "3 x 3 = 9\n",
            "3 x 4 = 12\n",
            "3 x 5 = 15\n",
            "3 x 6 = 18\n",
            "3 x 7 = 21\n",
            "3 x 8 = 24\n",
            "3 x 9 = 27\n",
            "3 x 10 = 30\n",
            "4 x 1 = 4\n",
            "4 x 2 = 8\n",
            "4 x 3 = 12\n",
            "4 x 4 = 16\n",
            "4 x 5 = 20\n",
            "4 x 6 = 24\n",
            "4 x 7 = 28\n",
            "4 x 8 = 32\n",
            "4 x 9 = 36\n",
            "4 x 10 = 40\n",
            "5 x 1 = 5\n",
            "5 x 2 = 10\n",
            "5 x 3 = 15\n",
            "5 x 4 = 20\n",
            "5 x 5 = 25\n",
            "5 x 6 = 30\n",
            "5 x 7 = 35\n",
            "5 x 8 = 40\n",
            "5 x 9 = 45\n",
            "5 x 10 = 50\n",
            "6 x 1 = 6\n",
            "6 x 2 = 12\n",
            "6 x 3 = 18\n",
            "6 x 4 = 24\n",
            "6 x 5 = 30\n",
            "6 x 6 = 36\n",
            "6 x 7 = 42\n",
            "6 x 8 = 48\n",
            "6 x 9 = 54\n",
            "6 x 10 = 60\n",
            "7 x 1 = 7\n",
            "7 x 2 = 14\n",
            "7 x 3 = 21\n",
            "7 x 4 = 28\n",
            "7 x 5 = 35\n",
            "7 x 6 = 42\n",
            "7 x 7 = 49\n",
            "7 x 8 = 56\n",
            "7 x 9 = 63\n",
            "7 x 10 = 70\n",
            "8 x 1 = 8\n",
            "8 x 2 = 16\n",
            "8 x 3 = 24\n",
            "8 x 4 = 32\n",
            "8 x 5 = 40\n",
            "8 x 6 = 48\n",
            "8 x 7 = 56\n",
            "8 x 8 = 64\n",
            "8 x 9 = 72\n",
            "8 x 10 = 80\n",
            "9 x 1 = 9\n",
            "9 x 2 = 18\n",
            "9 x 3 = 27\n",
            "9 x 4 = 36\n",
            "9 x 5 = 45\n",
            "9 x 6 = 54\n",
            "9 x 7 = 63\n",
            "9 x 8 = 72\n",
            "9 x 9 = 81\n",
            "9 x 10 = 90\n",
            "10 x 1 = 10\n",
            "10 x 2 = 20\n",
            "10 x 3 = 30\n",
            "10 x 4 = 40\n",
            "10 x 5 = 50\n",
            "10 x 6 = 60\n",
            "10 x 7 = 70\n",
            "10 x 8 = 80\n",
            "10 x 9 = 90\n",
            "10 x 10 = 100\n"
          ]
        }
      ]
    },
    {
      "cell_type": "markdown",
      "source": [
        "### 3. La boucle while\n",
        "\n",
        "#### 3.1 Structure de base"
      ],
      "metadata": {
        "id": "ULDUT_jS1Lup"
      }
    },
    {
      "cell_type": "code",
      "source": [
        "# Boucle simple\n",
        "compteur = 0\n",
        "while compteur < 5:\n",
        "    print(compteur)\n",
        "    compteur += 1\n",
        "\n",
        "\n",
        "# Avec condition de sortie\n",
        "reponse = \"\"\n",
        "while reponse != \"quit\":\n",
        "    reponse = input(\"Entrez 'quit' pour sortir : \")"
      ],
      "metadata": {
        "id": "qFcKXslbz1XW",
        "colab": {
          "base_uri": "https://localhost:8080/"
        },
        "outputId": "47808361-76f4-4421-d596-56bf17930369"
      },
      "execution_count": null,
      "outputs": [
        {
          "name": "stdout",
          "output_type": "stream",
          "text": [
            "0\n",
            "1\n",
            "2\n",
            "3\n",
            "4\n",
            "Entrez 'quit' pour sortir : quit\n"
          ]
        }
      ]
    },
    {
      "cell_type": "code",
      "source": [
        "## 4. Contrôle des boucles\n",
        "\n",
        "### 4.1 break\n",
        "# Sortir d'une boucle\n",
        "for i in range(10):\n",
        "    if i == 5:\n",
        "        break\n",
        "    print(i)  # Affiche 0, 1, 2, 3, 4"
      ],
      "metadata": {
        "id": "nZegEw1dzuIC"
      },
      "execution_count": null,
      "outputs": []
    },
    {
      "cell_type": "code",
      "source": [
        "# Dans une boucle while\n",
        "nombre = 0\n",
        "while True:\n",
        "    nombre += 1\n",
        "    if nombre == 5:\n",
        "        break\n",
        "    print(nombre)"
      ],
      "metadata": {
        "id": "tW23dqp91dfb"
      },
      "execution_count": null,
      "outputs": []
    },
    {
      "cell_type": "code",
      "source": [
        "### 4.2 continue\n",
        "# Sauter une itération\n",
        "for i in range(5):\n",
        "    if i == 2:\n",
        "        continue\n",
        "    print(i)  # Affiche 0, 1, 3, 4\n",
        "\n",
        "# Sauter les nombres pairs\n",
        "for i in range(10):\n",
        "    if i % 2 == 0:\n",
        "        continue\n",
        "    print(i)  # Affiche les nombres impairs"
      ],
      "metadata": {
        "id": "KYU54swF1f2a"
      },
      "execution_count": null,
      "outputs": []
    },
    {
      "cell_type": "code",
      "source": [
        "### 4.3 else avec les boucles\n",
        "# else après une boucle for\n",
        "for i in range(5):\n",
        "    if i == 10:  # Condition jamais vraie\n",
        "        break\n",
        "else:\n",
        "    print(\"Boucle terminée normalement\")"
      ],
      "metadata": {
        "id": "bXvKRCmj1puU"
      },
      "execution_count": null,
      "outputs": []
    },
    {
      "cell_type": "code",
      "source": [
        "# else après une boucle while\n",
        "compteur = 0\n",
        "while compteur < 3:\n",
        "    print(compteur)\n",
        "    compteur += 1\n",
        "else:\n",
        "    print(\"Boucle terminée normalement\")"
      ],
      "metadata": {
        "id": "XMdR0glb1r69"
      },
      "execution_count": null,
      "outputs": []
    },
    {
      "cell_type": "code",
      "source": [
        "## 5. Cas d'utilisation courants\n",
        "### 5.1 Parcours de structures de données\n",
        "\n",
        "# Parcourir un dictionnaire\n",
        "notes = {\"Alice\": 15, \"Bob\": 12, \"Charlie\": 18}\n",
        "\n",
        "for nom, note in notes.items():\n",
        "    print(f\"{nom} a obtenu {note}/20\")\n",
        "\n",
        "# Parcourir plusieurs listes en parallèle\n",
        "noms = [\"Alice\", \"Bob\", \"Charlie\"]\n",
        "ages = [25, 30, 35]\n",
        "\n",
        "for nom, age in zip(noms, ages):\n",
        "    print(f\"{nom} a {age} ans\")"
      ],
      "metadata": {
        "id": "PeSF2N9xzoTy"
      },
      "execution_count": null,
      "outputs": []
    },
    {
      "cell_type": "code",
      "source": [
        "### 5.2 Compréhension de liste\n",
        "# Créer une liste de carrés\n",
        "carres = [x**2 for x in range(10)]\n",
        "\n",
        "# Filtrer une liste\n",
        "nombres = [1, 2, 3, 4, 5, 6, 7, 8, 9, 10]\n",
        "pairs = [x for x in nombres if x % 2 == 0]\n",
        "\n",
        "# Transformer une liste\n",
        "mots = [\"hello\", \"world\", \"python\"]\n",
        "majuscules = [mot.upper() for mot in mots]"
      ],
      "metadata": {
        "id": "azHHDihJzltj"
      },
      "execution_count": null,
      "outputs": []
    },
    {
      "cell_type": "code",
      "source": [
        "## 6. Exercices pratiques\n",
        "\n",
        "### 6.1 Générateur de tables de multiplication\n",
        "def afficher_table(n):\n",
        "    print(f\"\\nTable de multiplication de {n}:\")\n",
        "    for i in range(1, 11):\n",
        "        print(f\"{n} x {i} = {n * i}\")\n",
        "\n",
        "# Afficher plusieurs tables\n",
        "for n in range(1, 6):\n",
        "    afficher_table(n)\n",
        "\n",
        "### 6.2 Jeu de devinette avec while\n",
        "import random\n",
        "\n",
        "def jeu_devinette():\n",
        "    nombre_secret = random.randint(1, 100)\n",
        "    tentatives = 0\n",
        "\n",
        "    while True:\n",
        "        tentatives += 1\n",
        "        guess = int(input(\"Devinez le nombre (1-100): \"))\n",
        "\n",
        "        if guess == nombre_secret:\n",
        "            print(f\"Bravo ! Trouvé en {tentatives} tentatives\")\n",
        "            break\n",
        "        elif guess < nombre_secret:\n",
        "            print(\"C'est plus grand\")\n",
        "        else:\n",
        "            print(\"C'est plus petit\")"
      ],
      "metadata": {
        "id": "W_wFkU0Zzi9X"
      },
      "execution_count": null,
      "outputs": []
    },
    {
      "cell_type": "markdown",
      "source": [
        "### Points clés à retenir\n",
        "- `for` est utilisé quand on connaît le nombre d'itérations\n",
        "- `while` est utilisé quand la condition de sortie est dynamique\n",
        "- `break` sort complètement de la boucle\n",
        "- `continue` passe à l'itération suivante\n",
        "- Les compréhensions de liste sont une syntaxe élégante pour transformer des listes\n",
        "- L'indentation est cruciale pour définir le corps des boucles"
      ],
      "metadata": {
        "id": "4HTTJVbnxbHL"
      }
    },
    {
      "cell_type": "code",
      "source": [],
      "metadata": {
        "id": "PHoQedCacqTX"
      },
      "execution_count": null,
      "outputs": []
    }
  ]
}