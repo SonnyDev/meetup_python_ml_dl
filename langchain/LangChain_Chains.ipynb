{
  "cells": [
    {
      "cell_type": "markdown",
      "metadata": {
        "id": "view-in-github",
        "colab_type": "text"
      },
      "source": [
        "<a href=\"https://colab.research.google.com/github/SonnyDev/llm-apps-langchain/blob/main/LangChain_Chains.ipynb\" target=\"_parent\"><img src=\"https://colab.research.google.com/assets/colab-badge.svg\" alt=\"Open In Colab\"/></a>"
      ]
    },
    {
      "cell_type": "markdown",
      "id": "90be595d",
      "metadata": {
        "id": "90be595d"
      },
      "source": [
        "## Les chaines\n",
        "L'idée centrale de LangChain est que nous pouvons \"chaîner\" ensemble différents composants (I/O du modèles, Retrieval, Tools) pour créer des cas d'utilisation plus avancés autour des LLMs."
      ]
    },
    {
      "cell_type": "markdown",
      "id": "7998828a",
      "metadata": {
        "id": "7998828a"
      },
      "source": [
        "### 1. Chargerment de la clé d'API"
      ]
    },
    {
      "cell_type": "code",
      "execution_count": null,
      "id": "a46d58e1",
      "metadata": {
        "id": "a46d58e1"
      },
      "outputs": [],
      "source": [
        "import os\n",
        "import openai\n",
        "\n",
        "from dotenv import load_dotenv, find_dotenv\n",
        "_ = load_dotenv(find_dotenv()) # read local .env file\n",
        "openai.api_key = os.environ['OPENAI_API_KEY']"
      ]
    },
    {
      "cell_type": "markdown",
      "id": "fbcf5483",
      "metadata": {
        "id": "fbcf5483"
      },
      "source": [
        "### 2. Création d'une chaine simple de type LLMChain"
      ]
    },
    {
      "cell_type": "code",
      "execution_count": null,
      "id": "01f7b7e7",
      "metadata": {
        "id": "01f7b7e7"
      },
      "outputs": [],
      "source": [
        "from langchain.chat_models import ChatOpenAI\n",
        "from langchain.prompts import ChatPromptTemplate\n",
        "from langchain.schema import StrOutputParser\n",
        "\n",
        "model = ChatOpenAI()\n",
        "prompt = ChatPromptTemplate.from_messages(\n",
        "    [\n",
        "        (\n",
        "            \"system\",\n",
        "            \"Tu es un historien renommé qui donne des réponses correctes et éloquantes aux questions d'histoire.\",\n",
        "        ),\n",
        "        (\"human\", \"{question}\"),\n",
        "    ]\n",
        ")\n",
        "runnable = prompt | model | StrOutputParser()"
      ]
    },
    {
      "cell_type": "code",
      "execution_count": null,
      "id": "8538292c",
      "metadata": {
        "id": "8538292c",
        "outputId": "52a394df-29cb-49cb-97eb-9b70c58df837"
      },
      "outputs": [
        {
          "name": "stdout",
          "output_type": "stream",
          "text": [
            "La Révolution française était un événement majeur qui s'est déroulé de 1789 à 1799 en France. Elle a été caractérisée par une série de bouleversements politiques, sociaux et économiques qui ont radicalement transformé le paysage politique et social de la France.\n",
            "\n",
            "La Révolution française a été déclenchée par un certain nombre de facteurs, dont les inégalités sociales et économiques, l'oppression du régime monarchique et les idées des Lumières qui prônaient la liberté, l'égalité et la fraternité. Elle a commencé par la prise de la Bastille le 14 juillet 1789, qui a symbolisé la fin de l'absolutisme monarchique et le début d'une nouvelle ère politique.\n",
            "\n",
            "Pendant la Révolution, la France a connu de nombreux changements radicaux. La monarchie a été abolie et remplacée par une république. Les droits de l'homme ont été proclamés et la noblesse a perdu ses privilèges. De nouvelles lois ont été promulguées pour promouvoir l'égalité sociale et politique. La guillotine est devenue le symbole de la Terreur, une période de répression politique intense.\n",
            "\n",
            "La Révolution française a également eu des répercussions internationales. Elle a inspiré d'autres mouvements révolutionnaires en Europe et a contribué à la chute de l'Ancien Régime dans de nombreux pays. Elle a également conduit à la montée de Napoléon Bonaparte, qui a instauré un régime autoritaire en France et a mené des guerres d'expansion en Europe.\n",
            "\n",
            "En conclusion, la Révolution française a été un événement majeur de l'histoire mondiale qui a profondément transformé la France et a eu des répercussions durables sur le plan politique, social et culturel. Elle a marqué la fin de l'ancien régime et l'avènement de principes républicains qui ont influencé le monde entier."
          ]
        }
      ],
      "source": [
        "for chunk in runnable.stream({\"question\": \"Qu'est-ce que la révolution francaise\"}):\n",
        "    print(chunk, end=\"\", flush=True)"
      ]
    },
    {
      "cell_type": "markdown",
      "id": "097e6f3f",
      "metadata": {
        "id": "097e6f3f"
      },
      "source": [
        "### 3. Création des chaines séquentielles"
      ]
    },
    {
      "cell_type": "code",
      "execution_count": null,
      "id": "5c4f589d",
      "metadata": {
        "id": "5c4f589d"
      },
      "outputs": [],
      "source": [
        "from langchain.prompts import PromptTemplate\n",
        "\n",
        "synopsis_prompt = PromptTemplate.from_template(\n",
        "    \"\"\"Tu es un dramaturge experimenté. Étant donné le titre d'une pièce, \\\n",
        "    ta tache est d'écrire un synopsis pour ce titre. Réponds dans la mème langue que le titre.\"\n",
        "\n",
        "Title: {title}\n",
        "Dramaturge : Voici un synopsis pour la pièce mentionnée ci-dessus:\"\"\"\n",
        ")\n",
        "\n",
        "review_prompt = PromptTemplate.from_template(\n",
        "    \"\"\"Tu es un critique de théâtre pour le journal Le Parisien. \\\n",
        "    Étant donné le synopsis d'une pièce, ton role est d'écrire une critique pour cette pièce.\\\n",
        "\n",
        "Synopsis de la pièce:\n",
        "{synopsis}\n",
        "Critique d'un dramaturge du Parisien de la pièce mentionnée ci-dessus :\"\"\"\n",
        ")"
      ]
    },
    {
      "cell_type": "code",
      "execution_count": null,
      "id": "5f1738cd",
      "metadata": {
        "id": "5f1738cd",
        "outputId": "c5bf60f8-f209-4d5a-9bc9-acab82f9dab6"
      },
      "outputs": [
        {
          "name": "stdout",
          "output_type": "stream",
          "text": [
            "Dans \"Médecin malgré lui\", la comédie classique de Molière, le spectateur est transporté dans un monde de quiproquos et d'absurdités où le personnage principal, Sganarelle, se retrouve malgré lui pris pour un médecin renommé. \n",
            "\n",
            "Dès le début de la pièce, nous sommes témoins des talents comiques de Sganarelle, interprété brillamment par l'acteur principal. Son jeu d'acteur est à la fois hilarant et attachant, nous faisant rire aux éclats tout en ressentant de l'empathie pour ce paysan alcoolique et paresseux qui se retrouve au cœur de cette farce médicale. \n",
            "\n",
            "Les situations dans lesquelles Sganarelle se trouve sont de plus en plus absurdes et comiques au fur et à mesure que l'histoire se développe. Sa tentative d'utiliser des techniques médicales farfelues et des remèdes ridicules pour guérir la fille de Géronte, qui a perdu la parole sans raison apparente, est à la fois désopilante et touchante. \n",
            "\n",
            "Les autres personnages de la pièce jouent également un rôle important dans la création de cette atmosphère comique. Leur réaction face aux absurdités de Sganarelle ajoute une dimension supplémentaire à l'humour de la pièce. \n",
            "\n",
            "La mise en scène est également à souligner, avec des décors et des costumes qui nous plongent parfaitement dans l'univers de l'époque. Les dialogues sont vifs et percutants, et le rythme de la pièce ne laisse aucun temps mort. \n",
            "\n",
            "La révélation de la supercherie de Sganarelle et le dénouement de l'histoire sont traités avec finesse. Au lieu d'être puni, Sganarelle est pardonné par Géronte et sa fille, qui reconnaissent le divertissement qu'il leur a apporté. Cette fin heureuse vient renforcer le caractère comique de la pièce, tout en nous laissant une réflexion sur la place de chacun dans la société. \n",
            "\n",
            "En conclusion, \"Médecin malgré lui\" est une pièce de théâtre qui allie subtilement comédie et réflexion. Les performances des acteurs, la mise en scène réussie et le scénario bien construit font de cette pièce un moment de divertissement inoubliable. Une fois de plus, Molière nous prouve son génie du comique et sa capacité à nous faire réfléchir tout en nous faisant rire aux éclats.\n"
          ]
        }
      ],
      "source": [
        "from langchain.chat_models import ChatOpenAI\n",
        "from langchain.schema import StrOutputParser\n",
        "\n",
        "llm = ChatOpenAI()\n",
        "chain = (\n",
        "    {\"synopsis\": synopsis_prompt | llm | StrOutputParser()}\n",
        "    | review_prompt\n",
        "    | llm\n",
        "    | StrOutputParser()\n",
        ")\n",
        "print(chain.invoke({\"title\": \"Médecin malgré lui\"},)) #config={'callbacks': [ConsoleCallbackHandler()]}"
      ]
    },
    {
      "cell_type": "code",
      "execution_count": null,
      "id": "16da66ec",
      "metadata": {
        "id": "16da66ec",
        "outputId": "7c4be481-6d58-4281-ef94-3be68bf49a9e"
      },
      "outputs": [
        {
          "data": {
            "text/plain": [
              "{'synopsis': '\"Médecin malgré lui\" est une comédie classique qui se déroule dans une petite ville de province. L\\'histoire tourne autour de Sganarelle, un homme simple et un peu rustre, qui est confondu à tort avec un médecin renommé.\\n\\nSganarelle, qui est en réalité un bûcheron, se retrouve soudainement plongé dans un monde de médecine et de patients désespérés. Malgré son manque de connaissances médicales, il se voit contraint d\\'endosser le rôle de médecin pour sauver la vie d\\'une jeune femme, Lucinde.\\n\\nLa situation se complique lorsque Géronte, le père de Lucinde, exige que Sganarelle guérisse sa fille et menace de le punir s\\'il échoue. Bien que réticent au début, Sganarelle commence à jouer le jeu et à donner des conseils médicaux farfelus, convaincu qu\\'il ne peut pas faire pire que les vrais médecins.\\n\\nAu fur et à mesure que la pièce avance, Sganarelle se retrouve dans des situations de plus en plus absurdes et hilarantes, jonglant entre les remèdes improbables et les diagnostics erronés. Malgré cela, il finit par gagner la confiance des patients, qui croient fermement qu\\'il est un médecin talentueux.\\n\\nFinalement, grâce à sa nature honnête et son bon sens, Sganarelle parvient à résoudre les problèmes de santé de Lucinde et de plusieurs autres personnes de la ville. La pièce se termine sur une note joyeuse avec la révélation de la véritable identité de Sganarelle et la reconnaissance de ses efforts.\\n\\n\"Médecin malgré lui\" est une comédie légère et divertissante qui explore les thèmes de l\\'imposture, de la confiance et de la capacité de chacun à se surpasser dans des situations inattendues. Elle offre une réflexion humoristique sur la médecine et la nature humaine, tout en offrant au public une bonne dose de rires et de sourires.',\n",
              " 'review': '\"Médecin malgré lui\" est une comédie classique qui ne manquera pas de vous faire rire et de vous divertir. Cette pièce, qui se déroule dans une petite ville de province, met en scène Sganarelle, un homme simple et rustre, qui se retrouve malgré lui pris dans une situation hilarante où il est confondu avec un médecin renommé.\\n\\nLe jeu d\\'acteur est excellent, avec un Sganarelle interprété de manière convaincante par un comédien talentueux. Son personnage, qui est en réalité un bûcheron, se voit contraint de jouer le rôle d\\'un médecin pour sauver la vie d\\'une jeune femme, Lucinde. On assiste à des scènes burlesques et absurdes alors que Sganarelle donne des conseils médicaux farfelus et des diagnostics erronés, convaincu qu\\'il peut faire mieux que les vrais médecins.\\n\\nLa pièce explore les thèmes de l\\'imposture et de la confiance, tout en offrant une réflexion humoristique sur la médecine et la nature humaine. On ne peut s\\'empêcher de rire face aux situations absurdes dans lesquelles Sganarelle se retrouve, jonglant entre les remèdes improbables et les patients désespérés.\\n\\nLes dialogues sont bien écrits et les répliques comiques fusent, faisant rire le public du début à la fin. La mise en scène est également très réussie, avec des décors et des costumes qui nous plongent parfaitement dans l\\'univers de la pièce.\\n\\nLa performance de Sganarelle est soutenue par un excellent casting, avec des acteurs secondaires qui apportent tous leur propre touche comique à leurs personnages respectifs. Les interactions entre les différents personnages sont dynamiques et drôles, contribuant à l\\'atmosphère légère et divertissante de la pièce.\\n\\n\"Médecin malgré lui\" est une comédie qui réussit à la fois à nous faire rire et à nous faire réfléchir. Elle nous rappelle que chacun est capable de se surpasser dans des situations inattendues, même si cela signifie jouer le rôle d\\'un médecin sans avoir aucune connaissance médicale. La fin joyeuse de la pièce, avec la révélation de la véritable identité de Sganarelle et la reconnaissance de ses efforts, offre une conclusion satisfaisante à cette histoire pleine de rebondissements.\\n\\nEn conclusion, \"Médecin malgré lui\" est une comédie légère et divertissante qui saura vous faire passer un excellent moment. Si vous cherchez une pièce qui vous fera rire et réfléchir en même temps, ne manquez pas celle-ci.'}"
            ]
          },
          "execution_count": 49,
          "metadata": {},
          "output_type": "execute_result"
        }
      ],
      "source": [
        "from langchain_core.runnables import RunnablePassthrough # Si je souhaite afficher également le synopsis\n",
        "\n",
        "synopsis_chain = synopsis_prompt | llm | StrOutputParser()\n",
        "review_chain = review_prompt | llm | StrOutputParser()\n",
        "chain = {\"synopsis\": synopsis_chain} | RunnablePassthrough.assign(review=review_chain)\n",
        "chain.invoke({\"title\": \"Médecin malgré lui\"})"
      ]
    },
    {
      "cell_type": "markdown",
      "id": "6b9fa369",
      "metadata": {
        "id": "6b9fa369"
      },
      "source": [
        "### 4. Chaines de Transformation\n",
        "En utilisant LCEL, la créations de chaines de transformation est triviale étant donné qu'on peut ajouter des fonctions dans n'importe quel objet RunnableSequence"
      ]
    },
    {
      "cell_type": "code",
      "execution_count": null,
      "id": "7fd8ce24",
      "metadata": {
        "id": "7fd8ce24"
      },
      "outputs": [],
      "source": [
        "from langchain.prompts import PromptTemplate\n",
        "\n",
        "prompt = PromptTemplate.from_template(\n",
        "    \"\"\"Résume ce texte:\n",
        "\n",
        "{output_text}\n",
        "\n",
        "Résumé:\"\"\"\n",
        ")"
      ]
    },
    {
      "cell_type": "code",
      "execution_count": null,
      "id": "d352cf66",
      "metadata": {
        "id": "d352cf66"
      },
      "outputs": [],
      "source": [
        "with open(\"license.txt\") as f:\n",
        "    license_file = f.read()"
      ]
    },
    {
      "cell_type": "code",
      "execution_count": null,
      "id": "3793ec55",
      "metadata": {
        "id": "3793ec55",
        "outputId": "c02d5161-294c-4943-9f32-84941c1f53f6"
      },
      "outputs": [
        {
          "data": {
            "text/plain": [
              "\"Ce texte concerne le logiciel WordPress, qui est un système de publication de contenu sur le web. Il précise que le programme est sous licence GNU General Public License, ce qui signifie qu'il peut être redistribué et modifié librement. Il est distribué sans garantie, mais avec l'espoir qu'il sera utile.\""
            ]
          },
          "execution_count": 51,
          "metadata": {},
          "output_type": "execute_result"
        }
      ],
      "source": [
        "from langchain.chat_models import ChatOpenAI\n",
        "from langchain.schema import StrOutputParser\n",
        "\n",
        "runnable = (\n",
        "    {\"output_text\": lambda text: \"\\n\\n\".join(text.split(\"\\n\\n\")[:4])}\n",
        "    | prompt\n",
        "    | ChatOpenAI()\n",
        "    | StrOutputParser()\n",
        ")\n",
        "runnable.invoke(license_file) #config={'callbacks': [ConsoleCallbackHandler()]}"
      ]
    },
    {
      "cell_type": "markdown",
      "id": "87361a10",
      "metadata": {
        "id": "87361a10"
      },
      "source": [
        "### 5. Router Chains\n",
        "Le routage permet de créer des chaînes non déterministes où la sortie d'une étape précédente définit l'étape suivante. Le routage aide à fournir une structure et une cohérence autour des interactions avec les LLMs."
      ]
    },
    {
      "cell_type": "code",
      "execution_count": null,
      "id": "f0c78876",
      "metadata": {
        "id": "f0c78876"
      },
      "outputs": [],
      "source": [
        "from langchain.prompts import PromptTemplate\n",
        "\n",
        "physics_template = \"\"\"Tu es un professeur de physique très intelligent.\\\n",
        "Tu es excellent pour répondre aux questions sur la physique de manière concise et facile à comprendre.\\\n",
        "Lorsque tu ne connais pas la réponse à une question, tu admets que tu ne sais pas.\n",
        "\n",
        "Voici une question :\n",
        "{input}\"\"\"\n",
        "physics_prompt = PromptTemplate.from_template(physics_template)\n",
        "\n",
        "math_template = \"\"\"Tu es un très bon mathématicien. \\\n",
        "Tu es excellent pour répondre aux questions de mathématiques. \\\n",
        "Tu es si bon parce que tu es capable de décomposer les problèmes difficiles en leurs composantes, \\\n",
        "de répondre à ces composantes, puis de les assembler pour répondre à la question plus large.\n",
        "\n",
        "Voici une question :\n",
        "{input}\"\"\"\n",
        "math_prompt = PromptTemplate.from_template(math_template)"
      ]
    },
    {
      "cell_type": "code",
      "execution_count": null,
      "id": "3a601d98",
      "metadata": {
        "id": "3a601d98"
      },
      "outputs": [],
      "source": [
        "from langchain.chat_models import ChatOpenAI\n",
        "from langchain_core.output_parsers import StrOutputParser\n",
        "from langchain_core.runnables import RunnableBranch\n",
        "from langchain.callbacks.tracers import ConsoleCallbackHandler"
      ]
    },
    {
      "cell_type": "code",
      "execution_count": null,
      "id": "0f3529d9",
      "metadata": {
        "id": "0f3529d9"
      },
      "outputs": [],
      "source": [
        "general_prompt = PromptTemplate.from_template(\n",
        "    \"Tu es un assistant très utile. Réponds à la question aussi précisément que possible.\\n\\n{input}\"\n",
        ")\n",
        "prompt_branch = RunnableBranch(\n",
        "    (lambda x: x[\"topic\"] == \"math\", math_prompt),\n",
        "    (lambda x: x[\"topic\"] == \"physics\", physics_prompt),\n",
        "    general_prompt,\n",
        ")"
      ]
    },
    {
      "cell_type": "code",
      "execution_count": null,
      "id": "419ead71",
      "metadata": {
        "id": "419ead71"
      },
      "outputs": [],
      "source": [
        "from typing import Literal\n",
        "\n",
        "from langchain.output_parsers.openai_functions import PydanticAttrOutputFunctionsParser\n",
        "from langchain.utils.openai_functions import convert_pydantic_to_openai_function\n",
        "from langchain_core.pydantic_v1 import BaseModel\n",
        "\n",
        "\n",
        "class TopicClassifier(BaseModel):\n",
        "    \"Classification du sujet de la question de l'utilisateur\"\n",
        "\n",
        "    topic: Literal[\"math\", \"physics\", \"general\"]\n",
        "    \"Le sujet de l'utilisateur peut etre 'math', 'physics' ou 'general'.\"\n",
        "\n",
        "\n",
        "classifier_function = convert_pydantic_to_openai_function(TopicClassifier)\n",
        "llm = ChatOpenAI().bind(\n",
        "    functions=[classifier_function], function_call={\"name\": \"TopicClassifier\"}\n",
        ")\n",
        "parser = PydanticAttrOutputFunctionsParser(\n",
        "    pydantic_schema=TopicClassifier, attr_name=\"topic\"\n",
        ")\n",
        "classifier_chain = llm | parser"
      ]
    },
    {
      "cell_type": "code",
      "execution_count": null,
      "id": "651e6869",
      "metadata": {
        "id": "651e6869"
      },
      "outputs": [],
      "source": [
        "from operator import itemgetter\n",
        "\n",
        "from langchain_core.output_parsers import StrOutputParser\n",
        "from langchain_core.runnables import RunnablePassthrough\n",
        "\n",
        "final_chain = (\n",
        "    RunnablePassthrough.assign(topic=itemgetter(\"input\") | classifier_chain)\n",
        "    | prompt_branch\n",
        "    | ChatOpenAI()\n",
        "    | StrOutputParser()\n",
        ")"
      ]
    },
    {
      "cell_type": "code",
      "execution_count": null,
      "id": "4fd2cefa",
      "metadata": {
        "id": "4fd2cefa",
        "outputId": "0b556b0f-4ac7-48fc-a03f-41d9bdfa88ae"
      },
      "outputs": [
        {
          "name": "stdout",
          "output_type": "stream",
          "text": [
            "\u001b[32;1m\u001b[1;3m[chain/start]\u001b[0m \u001b[1m[1:chain:RunnableSequence] Entering Chain run with input:\n",
            "\u001b[0m{\n",
            "  \"input\": \"Qu'est-ce que la loi de la gravité ?\"\n",
            "}\n",
            "\u001b[32;1m\u001b[1;3m[chain/start]\u001b[0m \u001b[1m[1:chain:RunnableSequence > 2:chain:RunnableAssign] Entering Chain run with input:\n",
            "\u001b[0m{\n",
            "  \"input\": \"Qu'est-ce que la loi de la gravité ?\"\n",
            "}\n",
            "\u001b[32;1m\u001b[1;3m[chain/start]\u001b[0m \u001b[1m[1:chain:RunnableSequence > 2:chain:RunnableAssign > 3:chain:RunnableParallel] Entering Chain run with input:\n",
            "\u001b[0m{\n",
            "  \"input\": \"Qu'est-ce que la loi de la gravité ?\"\n",
            "}\n",
            "\u001b[32;1m\u001b[1;3m[chain/start]\u001b[0m \u001b[1m[1:chain:RunnableSequence > 2:chain:RunnableAssign > 3:chain:RunnableParallel > 4:chain:RunnableSequence] Entering Chain run with input:\n",
            "\u001b[0m{\n",
            "  \"input\": \"Qu'est-ce que la loi de la gravité ?\"\n",
            "}\n",
            "\u001b[32;1m\u001b[1;3m[chain/start]\u001b[0m \u001b[1m[1:chain:RunnableSequence > 2:chain:RunnableAssign > 3:chain:RunnableParallel > 4:chain:RunnableSequence > 5:chain:RunnableLambda] Entering Chain run with input:\n",
            "\u001b[0m{\n",
            "  \"input\": \"Qu'est-ce que la loi de la gravité ?\"\n",
            "}\n",
            "\u001b[36;1m\u001b[1;3m[chain/end]\u001b[0m \u001b[1m[1:chain:RunnableSequence > 2:chain:RunnableAssign > 3:chain:RunnableParallel > 4:chain:RunnableSequence > 5:chain:RunnableLambda] [1ms] Exiting Chain run with output:\n",
            "\u001b[0m{\n",
            "  \"output\": \"Qu'est-ce que la loi de la gravité ?\"\n",
            "}\n",
            "\u001b[32;1m\u001b[1;3m[llm/start]\u001b[0m \u001b[1m[1:chain:RunnableSequence > 2:chain:RunnableAssign > 3:chain:RunnableParallel > 4:chain:RunnableSequence > 6:llm:ChatOpenAI] Entering LLM run with input:\n",
            "\u001b[0m{\n",
            "  \"prompts\": [\n",
            "    \"Human: Qu'est-ce que la loi de la gravité ?\"\n",
            "  ]\n",
            "}\n",
            "\u001b[36;1m\u001b[1;3m[llm/end]\u001b[0m \u001b[1m[1:chain:RunnableSequence > 2:chain:RunnableAssign > 3:chain:RunnableParallel > 4:chain:RunnableSequence > 6:llm:ChatOpenAI] [796ms] Exiting LLM run with output:\n",
            "\u001b[0m{\n",
            "  \"generations\": [\n",
            "    [\n",
            "      {\n",
            "        \"text\": \"\",\n",
            "        \"generation_info\": {\n",
            "          \"finish_reason\": \"stop\"\n",
            "        },\n",
            "        \"type\": \"ChatGeneration\",\n",
            "        \"message\": {\n",
            "          \"lc\": 1,\n",
            "          \"type\": \"constructor\",\n",
            "          \"id\": [\n",
            "            \"langchain_core\",\n",
            "            \"messages\",\n",
            "            \"ai\",\n",
            "            \"AIMessage\"\n",
            "          ],\n",
            "          \"kwargs\": {\n",
            "            \"content\": \"\",\n",
            "            \"additional_kwargs\": {\n",
            "              \"function_call\": {\n",
            "                \"arguments\": \"{\\n  \\\"topic\\\": \\\"physics\\\"\\n}\",\n",
            "                \"name\": \"TopicClassifier\"\n",
            "              }\n",
            "            }\n",
            "          }\n",
            "        }\n",
            "      }\n",
            "    ]\n",
            "  ],\n",
            "  \"llm_output\": {\n",
            "    \"token_usage\": {\n",
            "      \"completion_tokens\": 9,\n",
            "      \"prompt_tokens\": 75,\n",
            "      \"total_tokens\": 84\n",
            "    },\n",
            "    \"model_name\": \"gpt-3.5-turbo\",\n",
            "    \"system_fingerprint\": null\n",
            "  },\n",
            "  \"run\": null\n",
            "}\n",
            "\u001b[32;1m\u001b[1;3m[chain/start]\u001b[0m \u001b[1m[1:chain:RunnableSequence > 2:chain:RunnableAssign > 3:chain:RunnableParallel > 4:chain:RunnableSequence > 7:parser:PydanticAttrOutputFunctionsParser] Entering Parser run with input:\n",
            "\u001b[0m[inputs]\n",
            "\u001b[36;1m\u001b[1;3m[chain/end]\u001b[0m \u001b[1m[1:chain:RunnableSequence > 2:chain:RunnableAssign > 3:chain:RunnableParallel > 4:chain:RunnableSequence > 7:parser:PydanticAttrOutputFunctionsParser] [0ms] Exiting Parser run with output:\n",
            "\u001b[0m{\n",
            "  \"output\": \"physics\"\n",
            "}\n",
            "\u001b[36;1m\u001b[1;3m[chain/end]\u001b[0m \u001b[1m[1:chain:RunnableSequence > 2:chain:RunnableAssign > 3:chain:RunnableParallel > 4:chain:RunnableSequence] [800ms] Exiting Chain run with output:\n",
            "\u001b[0m{\n",
            "  \"output\": \"physics\"\n",
            "}\n",
            "\u001b[36;1m\u001b[1;3m[chain/end]\u001b[0m \u001b[1m[1:chain:RunnableSequence > 2:chain:RunnableAssign > 3:chain:RunnableParallel] [801ms] Exiting Chain run with output:\n",
            "\u001b[0m{\n",
            "  \"topic\": \"physics\"\n",
            "}\n",
            "\u001b[36;1m\u001b[1;3m[chain/end]\u001b[0m \u001b[1m[1:chain:RunnableSequence > 2:chain:RunnableAssign] [802ms] Exiting Chain run with output:\n",
            "\u001b[0m{\n",
            "  \"input\": \"Qu'est-ce que la loi de la gravité ?\",\n",
            "  \"topic\": \"physics\"\n",
            "}\n",
            "\u001b[32;1m\u001b[1;3m[chain/start]\u001b[0m \u001b[1m[1:chain:RunnableSequence > 8:chain:RunnableBranch] Entering Chain run with input:\n",
            "\u001b[0m{\n",
            "  \"input\": \"Qu'est-ce que la loi de la gravité ?\",\n",
            "  \"topic\": \"physics\"\n",
            "}\n",
            "\u001b[32;1m\u001b[1;3m[chain/start]\u001b[0m \u001b[1m[1:chain:RunnableSequence > 8:chain:RunnableBranch > 9:chain:<lambda>] Entering Chain run with input:\n",
            "\u001b[0m{\n",
            "  \"input\": \"Qu'est-ce que la loi de la gravité ?\",\n",
            "  \"topic\": \"physics\"\n",
            "}\n",
            "\u001b[36;1m\u001b[1;3m[chain/end]\u001b[0m \u001b[1m[1:chain:RunnableSequence > 8:chain:RunnableBranch > 9:chain:<lambda>] [0ms] Exiting Chain run with output:\n",
            "\u001b[0m{\n",
            "  \"output\": false\n",
            "}\n",
            "\u001b[32;1m\u001b[1;3m[chain/start]\u001b[0m \u001b[1m[1:chain:RunnableSequence > 8:chain:RunnableBranch > 10:chain:<lambda>] Entering Chain run with input:\n",
            "\u001b[0m{\n",
            "  \"input\": \"Qu'est-ce que la loi de la gravité ?\",\n",
            "  \"topic\": \"physics\"\n",
            "}\n",
            "\u001b[36;1m\u001b[1;3m[chain/end]\u001b[0m \u001b[1m[1:chain:RunnableSequence > 8:chain:RunnableBranch > 10:chain:<lambda>] [0ms] Exiting Chain run with output:\n",
            "\u001b[0m{\n",
            "  \"output\": true\n",
            "}\n",
            "\u001b[32;1m\u001b[1;3m[chain/start]\u001b[0m \u001b[1m[1:chain:RunnableSequence > 8:chain:RunnableBranch > 11:prompt:PromptTemplate] Entering Prompt run with input:\n",
            "\u001b[0m{\n",
            "  \"input\": \"Qu'est-ce que la loi de la gravité ?\",\n",
            "  \"topic\": \"physics\"\n",
            "}\n",
            "\u001b[36;1m\u001b[1;3m[chain/end]\u001b[0m \u001b[1m[1:chain:RunnableSequence > 8:chain:RunnableBranch > 11:prompt:PromptTemplate] [0ms] Exiting Prompt run with output:\n",
            "\u001b[0m{\n",
            "  \"lc\": 1,\n",
            "  \"type\": \"constructor\",\n",
            "  \"id\": [\n",
            "    \"langchain_core\",\n",
            "    \"prompt_values\",\n",
            "    \"StringPromptValue\"\n",
            "  ],\n",
            "  \"kwargs\": {\n",
            "    \"text\": \"Tu es un professeur de physique très intelligent.Tu es excellent pour répondre aux questions sur la physique de manière concise et facile à comprendre.Lorsque tu ne connais pas la réponse à une question, tu admets que tu ne sais pas.\\n\\nVoici une question :\\nQu'est-ce que la loi de la gravité ?\"\n",
            "  }\n",
            "}\n",
            "\u001b[36;1m\u001b[1;3m[chain/end]\u001b[0m \u001b[1m[1:chain:RunnableSequence > 8:chain:RunnableBranch] [2ms] Exiting Chain run with output:\n",
            "\u001b[0m{\n",
            "  \"lc\": 1,\n",
            "  \"type\": \"constructor\",\n",
            "  \"id\": [\n",
            "    \"langchain_core\",\n",
            "    \"prompt_values\",\n",
            "    \"StringPromptValue\"\n",
            "  ],\n",
            "  \"kwargs\": {\n",
            "    \"text\": \"Tu es un professeur de physique très intelligent.Tu es excellent pour répondre aux questions sur la physique de manière concise et facile à comprendre.Lorsque tu ne connais pas la réponse à une question, tu admets que tu ne sais pas.\\n\\nVoici une question :\\nQu'est-ce que la loi de la gravité ?\"\n",
            "  }\n",
            "}\n",
            "\u001b[32;1m\u001b[1;3m[llm/start]\u001b[0m \u001b[1m[1:chain:RunnableSequence > 12:llm:ChatOpenAI] Entering LLM run with input:\n",
            "\u001b[0m{\n",
            "  \"prompts\": [\n",
            "    \"Human: Tu es un professeur de physique très intelligent.Tu es excellent pour répondre aux questions sur la physique de manière concise et facile à comprendre.Lorsque tu ne connais pas la réponse à une question, tu admets que tu ne sais pas.\\n\\nVoici une question :\\nQu'est-ce que la loi de la gravité ?\"\n",
            "  ]\n",
            "}\n",
            "\u001b[36;1m\u001b[1;3m[llm/end]\u001b[0m \u001b[1m[1:chain:RunnableSequence > 12:llm:ChatOpenAI] [5.27s] Exiting LLM run with output:\n",
            "\u001b[0m{\n",
            "  \"generations\": [\n",
            "    [\n",
            "      {\n",
            "        \"text\": \"La loi de la gravité, également connue sous le nom de loi de la gravitation universelle, est une loi physique formulée par Isaac Newton. Elle énonce que chaque objet doté d'une masse exerce une force d'attraction sur tout autre objet doté d'une masse. Cette force d'attraction, appelée force gravitationnelle, dépend de la masse des objets et de la distance qui les sépare. Plus précisément, la force gravitationnelle est directement proportionnelle au produit des masses des objets et inversement proportionnelle au carré de la distance qui les sépare. Cela signifie que plus les masses sont grandes et plus la distance est petite, plus la force gravitationnelle est forte. Cette loi explique la raison pour laquelle les objets tombent vers le sol et pourquoi les planètes orbitent autour du soleil.\",\n",
            "        \"generation_info\": {\n",
            "          \"finish_reason\": \"stop\"\n",
            "        },\n",
            "        \"type\": \"ChatGeneration\",\n",
            "        \"message\": {\n",
            "          \"lc\": 1,\n",
            "          \"type\": \"constructor\",\n",
            "          \"id\": [\n",
            "            \"langchain_core\",\n",
            "            \"messages\",\n",
            "            \"ai\",\n",
            "            \"AIMessage\"\n",
            "          ],\n",
            "          \"kwargs\": {\n",
            "            \"content\": \"La loi de la gravité, également connue sous le nom de loi de la gravitation universelle, est une loi physique formulée par Isaac Newton. Elle énonce que chaque objet doté d'une masse exerce une force d'attraction sur tout autre objet doté d'une masse. Cette force d'attraction, appelée force gravitationnelle, dépend de la masse des objets et de la distance qui les sépare. Plus précisément, la force gravitationnelle est directement proportionnelle au produit des masses des objets et inversement proportionnelle au carré de la distance qui les sépare. Cela signifie que plus les masses sont grandes et plus la distance est petite, plus la force gravitationnelle est forte. Cette loi explique la raison pour laquelle les objets tombent vers le sol et pourquoi les planètes orbitent autour du soleil.\",\n",
            "            \"additional_kwargs\": {}\n",
            "          }\n",
            "        }\n",
            "      }\n",
            "    ]\n",
            "  ],\n",
            "  \"llm_output\": {\n",
            "    \"token_usage\": {\n",
            "      \"completion_tokens\": 186,\n",
            "      \"prompt_tokens\": 76,\n",
            "      \"total_tokens\": 262\n",
            "    },\n",
            "    \"model_name\": \"gpt-3.5-turbo\",\n",
            "    \"system_fingerprint\": null\n",
            "  },\n",
            "  \"run\": null\n",
            "}\n",
            "\u001b[32;1m\u001b[1;3m[chain/start]\u001b[0m \u001b[1m[1:chain:RunnableSequence > 13:parser:StrOutputParser] Entering Parser run with input:\n",
            "\u001b[0m[inputs]\n",
            "\u001b[36;1m\u001b[1;3m[chain/end]\u001b[0m \u001b[1m[1:chain:RunnableSequence > 13:parser:StrOutputParser] [0ms] Exiting Parser run with output:\n",
            "\u001b[0m{\n",
            "  \"output\": \"La loi de la gravité, également connue sous le nom de loi de la gravitation universelle, est une loi physique formulée par Isaac Newton. Elle énonce que chaque objet doté d'une masse exerce une force d'attraction sur tout autre objet doté d'une masse. Cette force d'attraction, appelée force gravitationnelle, dépend de la masse des objets et de la distance qui les sépare. Plus précisément, la force gravitationnelle est directement proportionnelle au produit des masses des objets et inversement proportionnelle au carré de la distance qui les sépare. Cela signifie que plus les masses sont grandes et plus la distance est petite, plus la force gravitationnelle est forte. Cette loi explique la raison pour laquelle les objets tombent vers le sol et pourquoi les planètes orbitent autour du soleil.\"\n",
            "}\n",
            "\u001b[36;1m\u001b[1;3m[chain/end]\u001b[0m \u001b[1m[1:chain:RunnableSequence] [6.07s] Exiting Chain run with output:\n",
            "\u001b[0m{\n",
            "  \"output\": \"La loi de la gravité, également connue sous le nom de loi de la gravitation universelle, est une loi physique formulée par Isaac Newton. Elle énonce que chaque objet doté d'une masse exerce une force d'attraction sur tout autre objet doté d'une masse. Cette force d'attraction, appelée force gravitationnelle, dépend de la masse des objets et de la distance qui les sépare. Plus précisément, la force gravitationnelle est directement proportionnelle au produit des masses des objets et inversement proportionnelle au carré de la distance qui les sépare. Cela signifie que plus les masses sont grandes et plus la distance est petite, plus la force gravitationnelle est forte. Cette loi explique la raison pour laquelle les objets tombent vers le sol et pourquoi les planètes orbitent autour du soleil.\"\n",
            "}\n",
            "La loi de la gravité, également connue sous le nom de loi de la gravitation universelle, est une loi physique formulée par Isaac Newton. Elle énonce que chaque objet doté d'une masse exerce une force d'attraction sur tout autre objet doté d'une masse. Cette force d'attraction, appelée force gravitationnelle, dépend de la masse des objets et de la distance qui les sépare. Plus précisément, la force gravitationnelle est directement proportionnelle au produit des masses des objets et inversement proportionnelle au carré de la distance qui les sépare. Cela signifie que plus les masses sont grandes et plus la distance est petite, plus la force gravitationnelle est forte. Cette loi explique la raison pour laquelle les objets tombent vers le sol et pourquoi les planètes orbitent autour du soleil.\n"
          ]
        }
      ],
      "source": [
        "print(final_chain.invoke(\n",
        "    {\n",
        "        \"input\": \"Qu'est-ce que la loi de la gravité ?\"\n",
        "    }, config={'callbacks': [ConsoleCallbackHandler()]}\n",
        "))"
      ]
    },
    {
      "cell_type": "code",
      "execution_count": null,
      "id": "55fbb00c",
      "metadata": {
        "id": "55fbb00c"
      },
      "outputs": [],
      "source": []
    }
  ],
  "metadata": {
    "kernelspec": {
      "display_name": "Pytorch GPU (Python 3.10)",
      "language": "python",
      "name": "pytorch_env"
    },
    "language_info": {
      "codemirror_mode": {
        "name": "ipython",
        "version": 3
      },
      "file_extension": ".py",
      "mimetype": "text/x-python",
      "name": "python",
      "nbconvert_exporter": "python",
      "pygments_lexer": "ipython3",
      "version": "3.11.4"
    },
    "colab": {
      "provenance": [],
      "include_colab_link": true
    }
  },
  "nbformat": 4,
  "nbformat_minor": 5
}